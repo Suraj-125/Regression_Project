{
 "cells": [
  {
   "cell_type": "code",
   "execution_count": 2,
   "id": "32aa9b3a-a6fe-495a-8a0f-29ac7666d360",
   "metadata": {},
   "outputs": [],
   "source": [
    "import numpy as np\n",
    "import pandas as pd\n",
    "import matplotlib.pyplot as plt\n",
    "import seaborn as sns\n",
    "\n",
    "import warnings\n",
    "warnings.simplefilter(\"ignore\")"
   ]
  },
  {
   "cell_type": "code",
   "execution_count": 5,
   "id": "0b053817-9d18-43b9-a3f5-c3b0d3c41e8b",
   "metadata": {},
   "outputs": [
    {
     "data": {
      "text/html": [
       "<div>\n",
       "<style scoped>\n",
       "    .dataframe tbody tr th:only-of-type {\n",
       "        vertical-align: middle;\n",
       "    }\n",
       "\n",
       "    .dataframe tbody tr th {\n",
       "        vertical-align: top;\n",
       "    }\n",
       "\n",
       "    .dataframe thead th {\n",
       "        text-align: right;\n",
       "    }\n",
       "</style>\n",
       "<table border=\"1\" class=\"dataframe\">\n",
       "  <thead>\n",
       "    <tr style=\"text-align: right;\">\n",
       "      <th></th>\n",
       "      <th>Company</th>\n",
       "      <th>TypeName</th>\n",
       "      <th>Inches</th>\n",
       "      <th>Ram</th>\n",
       "      <th>OpSys</th>\n",
       "      <th>Weight</th>\n",
       "      <th>Price</th>\n",
       "      <th>ppi</th>\n",
       "      <th>IPS</th>\n",
       "      <th>TouchScreen</th>\n",
       "      <th>FullHD</th>\n",
       "      <th>CPU_processor</th>\n",
       "      <th>Ghz</th>\n",
       "      <th>SSD</th>\n",
       "      <th>HDD</th>\n",
       "      <th>GPU</th>\n",
       "    </tr>\n",
       "  </thead>\n",
       "  <tbody>\n",
       "    <tr>\n",
       "      <th>0</th>\n",
       "      <td>Apple</td>\n",
       "      <td>Ultrabook</td>\n",
       "      <td>13.3</td>\n",
       "      <td>2.079442</td>\n",
       "      <td>MAC</td>\n",
       "      <td>0.314811</td>\n",
       "      <td>11.175755</td>\n",
       "      <td>5.424875</td>\n",
       "      <td>1</td>\n",
       "      <td>0</td>\n",
       "      <td>0</td>\n",
       "      <td>Intel Core i5</td>\n",
       "      <td>2.3</td>\n",
       "      <td>4.859812</td>\n",
       "      <td>0</td>\n",
       "      <td>Intel</td>\n",
       "    </tr>\n",
       "    <tr>\n",
       "      <th>1</th>\n",
       "      <td>Apple</td>\n",
       "      <td>Ultrabook</td>\n",
       "      <td>13.3</td>\n",
       "      <td>2.079442</td>\n",
       "      <td>MAC</td>\n",
       "      <td>0.292670</td>\n",
       "      <td>10.776777</td>\n",
       "      <td>4.849511</td>\n",
       "      <td>0</td>\n",
       "      <td>0</td>\n",
       "      <td>0</td>\n",
       "      <td>Intel Core i5</td>\n",
       "      <td>1.8</td>\n",
       "      <td>0.000000</td>\n",
       "      <td>0</td>\n",
       "      <td>Intel</td>\n",
       "    </tr>\n",
       "    <tr>\n",
       "      <th>2</th>\n",
       "      <td>HP</td>\n",
       "      <td>Notebook</td>\n",
       "      <td>15.6</td>\n",
       "      <td>2.079442</td>\n",
       "      <td>Others</td>\n",
       "      <td>0.620576</td>\n",
       "      <td>10.329931</td>\n",
       "      <td>4.950262</td>\n",
       "      <td>0</td>\n",
       "      <td>0</td>\n",
       "      <td>1</td>\n",
       "      <td>Intel Core i5</td>\n",
       "      <td>2.5</td>\n",
       "      <td>5.549076</td>\n",
       "      <td>0</td>\n",
       "      <td>Intel</td>\n",
       "    </tr>\n",
       "    <tr>\n",
       "      <th>3</th>\n",
       "      <td>Apple</td>\n",
       "      <td>Ultrabook</td>\n",
       "      <td>15.4</td>\n",
       "      <td>2.772589</td>\n",
       "      <td>MAC</td>\n",
       "      <td>0.604316</td>\n",
       "      <td>11.814476</td>\n",
       "      <td>5.396055</td>\n",
       "      <td>1</td>\n",
       "      <td>0</td>\n",
       "      <td>0</td>\n",
       "      <td>Intel Core i7</td>\n",
       "      <td>2.7</td>\n",
       "      <td>6.240276</td>\n",
       "      <td>0</td>\n",
       "      <td>AMD</td>\n",
       "    </tr>\n",
       "    <tr>\n",
       "      <th>4</th>\n",
       "      <td>Apple</td>\n",
       "      <td>Ultrabook</td>\n",
       "      <td>13.3</td>\n",
       "      <td>2.079442</td>\n",
       "      <td>MAC</td>\n",
       "      <td>0.314811</td>\n",
       "      <td>11.473101</td>\n",
       "      <td>5.424875</td>\n",
       "      <td>1</td>\n",
       "      <td>0</td>\n",
       "      <td>0</td>\n",
       "      <td>Intel Core i5</td>\n",
       "      <td>3.1</td>\n",
       "      <td>5.549076</td>\n",
       "      <td>0</td>\n",
       "      <td>Intel</td>\n",
       "    </tr>\n",
       "  </tbody>\n",
       "</table>\n",
       "</div>"
      ],
      "text/plain": [
       "  Company   TypeName  Inches       Ram   OpSys    Weight      Price       ppi  \\\n",
       "0   Apple  Ultrabook    13.3  2.079442     MAC  0.314811  11.175755  5.424875   \n",
       "1   Apple  Ultrabook    13.3  2.079442     MAC  0.292670  10.776777  4.849511   \n",
       "2      HP   Notebook    15.6  2.079442  Others  0.620576  10.329931  4.950262   \n",
       "3   Apple  Ultrabook    15.4  2.772589     MAC  0.604316  11.814476  5.396055   \n",
       "4   Apple  Ultrabook    13.3  2.079442     MAC  0.314811  11.473101  5.424875   \n",
       "\n",
       "   IPS  TouchScreen  FullHD  CPU_processor  Ghz       SSD  HDD    GPU  \n",
       "0    1            0       0  Intel Core i5  2.3  4.859812    0  Intel  \n",
       "1    0            0       0  Intel Core i5  1.8  0.000000    0  Intel  \n",
       "2    0            0       1  Intel Core i5  2.5  5.549076    0  Intel  \n",
       "3    1            0       0  Intel Core i7  2.7  6.240276    0    AMD  \n",
       "4    1            0       0  Intel Core i5  3.1  5.549076    0  Intel  "
      ]
     },
     "execution_count": 5,
     "metadata": {},
     "output_type": "execute_result"
    }
   ],
   "source": [
    "df = pd.read_csv(\"Laptop_analyzed.csv\")\n",
    "df.drop([\"Unnamed: 0\"], axis = 1, inplace = True)\n",
    "df.head()"
   ]
  },
  {
   "cell_type": "markdown",
   "id": "074aa751-3a3a-497c-9ba2-ba39d764dd35",
   "metadata": {},
   "source": [
    "# ***Hyper-Parameter-Tunning***"
   ]
  },
  {
   "cell_type": "code",
   "execution_count": 38,
   "id": "a62c8889-41e7-493d-85d9-61df2a27a26e",
   "metadata": {},
   "outputs": [],
   "source": [
    "X = df.drop(\"Price\", axis = 1)\n",
    "X = pd.get_dummies(X, drop_first = True, dtype = int)\n",
    "y = df[\"Price\"]"
   ]
  },
  {
   "cell_type": "code",
   "execution_count": 7,
   "id": "95220a91-c998-4a18-b5b0-c4e9ceb02637",
   "metadata": {},
   "outputs": [],
   "source": [
    "from sklearn.model_selection import train_test_split, cross_val_score, GridSearchCV\n",
    "from sklearn.linear_model import LinearRegression, Ridge, Lasso, ElasticNet\n",
    "from sklearn.svm import SVR\n",
    "from sklearn.neighbors import KNeighborsRegressor\n",
    "from sklearn.tree import DecisionTreeRegressor\n",
    "from sklearn.ensemble import RandomForestRegressor, AdaBoostRegressor, GradientBoostingRegressor\n",
    "from xgboost import XGBRegressor\n",
    "from sklearn.preprocessing import StandardScaler, PolynomialFeatures\n",
    "from sklearn.metrics import mean_absolute_error, mean_squared_error, r2_score, accuracy_score"
   ]
  },
  {
   "cell_type": "markdown",
   "id": "9f9ca349-fa94-4771-b59b-58facd6106ae",
   "metadata": {},
   "source": [
    "***Best Random State***"
   ]
  },
  {
   "cell_type": "code",
   "execution_count": 39,
   "id": "4d481bcb-4c9e-4c01-a78f-8ad563c1eefb",
   "metadata": {},
   "outputs": [],
   "source": [
    "sc = StandardScaler()"
   ]
  },
  {
   "cell_type": "code",
   "execution_count": 40,
   "id": "d50d15ec-9c55-438d-acef-f31bde1d2cd5",
   "metadata": {},
   "outputs": [],
   "source": [
    "train_score = []\n",
    "test_score = []\n",
    "cv_score = []\n",
    "MAE = []\n",
    "\n",
    "for i in range(100):\n",
    "    X_train, X_test, y_train, y_test = train_test_split(X, y, test_size = 0.15, random_state = i)\n",
    "    X_train.loc[:, [\"Inches\", \"Ram\", \"Weight\", \"ppi\", \"Ghz\", \"SSD\", \"HDD\"]] = sc.fit_transform(X_train.loc[:, [\"Inches\", \"Ram\", \"Weight\", \"ppi\", \"Ghz\", \"SSD\", \"HDD\"]])\n",
    "    X_test.loc[:, [\"Inches\", \"Ram\", \"Weight\", \"ppi\", \"Ghz\", \"SSD\", \"HDD\"]] = sc.transform(X_test.loc[:, [\"Inches\", \"Ram\", \"Weight\", \"ppi\", \"Ghz\", \"SSD\", \"HDD\"]])\n",
    "    model = LinearRegression().fit(X_train, y_train)\n",
    "    \n",
    "    pred_train = model.predict(X_train)\n",
    "    pred_test = model.predict(X_test)\n",
    "    \n",
    "    train_accuracy = model.score(X_train, y_train)\n",
    "    test_accuracy = model.score(X_test, y_test)\n",
    "    score = cross_val_score(model, X_train, y_train, cv = 6).mean()\n",
    "    mae = mean_absolute_error(y_test, pred_test)\n",
    "    \n",
    "    train_score.append(train_accuracy)\n",
    "    test_score.append(test_accuracy)\n",
    "    cv_score.append(score)\n",
    "    MAE.append(mae)\n",
    "\n",
    "random_state = pd.DataFrame({\n",
    "    \"Train\": train_score,\n",
    "    \"Test\": test_score,\n",
    "    \"CV\": cv_score,\n",
    "    \"MAE\": mae\n",
    "})"
   ]
  },
  {
   "cell_type": "code",
   "execution_count": 41,
   "id": "7196dd9a-6dad-4f72-b5aa-c79e126927b0",
   "metadata": {},
   "outputs": [
    {
     "data": {
      "text/html": [
       "<div>\n",
       "<style scoped>\n",
       "    .dataframe tbody tr th:only-of-type {\n",
       "        vertical-align: middle;\n",
       "    }\n",
       "\n",
       "    .dataframe tbody tr th {\n",
       "        vertical-align: top;\n",
       "    }\n",
       "\n",
       "    .dataframe thead th {\n",
       "        text-align: right;\n",
       "    }\n",
       "</style>\n",
       "<table border=\"1\" class=\"dataframe\">\n",
       "  <thead>\n",
       "    <tr style=\"text-align: right;\">\n",
       "      <th></th>\n",
       "      <th>Train</th>\n",
       "      <th>Test</th>\n",
       "      <th>CV</th>\n",
       "      <th>MAE</th>\n",
       "    </tr>\n",
       "  </thead>\n",
       "  <tbody>\n",
       "    <tr>\n",
       "      <th>0</th>\n",
       "      <td>0.844442</td>\n",
       "      <td>0.810700</td>\n",
       "      <td>0.828146</td>\n",
       "      <td>0.202285</td>\n",
       "    </tr>\n",
       "    <tr>\n",
       "      <th>72</th>\n",
       "      <td>0.838212</td>\n",
       "      <td>0.848992</td>\n",
       "      <td>0.822364</td>\n",
       "      <td>0.202285</td>\n",
       "    </tr>\n",
       "    <tr>\n",
       "      <th>71</th>\n",
       "      <td>0.837348</td>\n",
       "      <td>0.850090</td>\n",
       "      <td>0.821661</td>\n",
       "      <td>0.202285</td>\n",
       "    </tr>\n",
       "    <tr>\n",
       "      <th>70</th>\n",
       "      <td>0.844203</td>\n",
       "      <td>0.810357</td>\n",
       "      <td>0.830131</td>\n",
       "      <td>0.202285</td>\n",
       "    </tr>\n",
       "    <tr>\n",
       "      <th>69</th>\n",
       "      <td>0.848530</td>\n",
       "      <td>0.779553</td>\n",
       "      <td>0.834022</td>\n",
       "      <td>0.202285</td>\n",
       "    </tr>\n",
       "    <tr>\n",
       "      <th>...</th>\n",
       "      <td>...</td>\n",
       "      <td>...</td>\n",
       "      <td>...</td>\n",
       "      <td>...</td>\n",
       "    </tr>\n",
       "    <tr>\n",
       "      <th>28</th>\n",
       "      <td>0.844005</td>\n",
       "      <td>0.811755</td>\n",
       "      <td>0.828289</td>\n",
       "      <td>0.202285</td>\n",
       "    </tr>\n",
       "    <tr>\n",
       "      <th>27</th>\n",
       "      <td>0.846689</td>\n",
       "      <td>0.792430</td>\n",
       "      <td>0.829553</td>\n",
       "      <td>0.202285</td>\n",
       "    </tr>\n",
       "    <tr>\n",
       "      <th>26</th>\n",
       "      <td>0.844088</td>\n",
       "      <td>0.816177</td>\n",
       "      <td>0.826066</td>\n",
       "      <td>0.202285</td>\n",
       "    </tr>\n",
       "    <tr>\n",
       "      <th>36</th>\n",
       "      <td>0.840065</td>\n",
       "      <td>0.837708</td>\n",
       "      <td>0.818195</td>\n",
       "      <td>0.202285</td>\n",
       "    </tr>\n",
       "    <tr>\n",
       "      <th>99</th>\n",
       "      <td>0.840998</td>\n",
       "      <td>0.831918</td>\n",
       "      <td>0.823676</td>\n",
       "      <td>0.202285</td>\n",
       "    </tr>\n",
       "  </tbody>\n",
       "</table>\n",
       "<p>100 rows × 4 columns</p>\n",
       "</div>"
      ],
      "text/plain": [
       "       Train      Test        CV       MAE\n",
       "0   0.844442  0.810700  0.828146  0.202285\n",
       "72  0.838212  0.848992  0.822364  0.202285\n",
       "71  0.837348  0.850090  0.821661  0.202285\n",
       "70  0.844203  0.810357  0.830131  0.202285\n",
       "69  0.848530  0.779553  0.834022  0.202285\n",
       "..       ...       ...       ...       ...\n",
       "28  0.844005  0.811755  0.828289  0.202285\n",
       "27  0.846689  0.792430  0.829553  0.202285\n",
       "26  0.844088  0.816177  0.826066  0.202285\n",
       "36  0.840065  0.837708  0.818195  0.202285\n",
       "99  0.840998  0.831918  0.823676  0.202285\n",
       "\n",
       "[100 rows x 4 columns]"
      ]
     },
     "execution_count": 41,
     "metadata": {},
     "output_type": "execute_result"
    }
   ],
   "source": [
    "random_state.sort_values(by = \"MAE\", ascending = True)"
   ]
  },
  {
   "cell_type": "markdown",
   "id": "f7594ca9-10a2-4072-b7ae-3bebe7ff6fe4",
   "metadata": {},
   "source": [
    "## ***GridSearchCV For - PolynomialFeatures***"
   ]
  },
  {
   "cell_type": "code",
   "execution_count": 42,
   "id": "49d93720-20fb-490a-a1ba-3279cb3a89d5",
   "metadata": {},
   "outputs": [],
   "source": [
    "X_train, X_test, y_train, y_test = train_test_split(X, y, test_size = 0.20, random_state = 72)\n",
    "scaler = StandardScaler()\n",
    "X_train.loc[:, [\"Inches\", \"Ram\", \"Weight\", \"ppi\", \"Ghz\", \"SSD\", \"HDD\"]] = scaler.fit_transform(X_train.loc[:, [\"Inches\", \"Ram\", \"Weight\", \"ppi\", \"Ghz\", \"SSD\", \"HDD\"]])\n",
    "X_test.loc[:, [\"Inches\", \"Ram\", \"Weight\", \"ppi\", \"Ghz\", \"SSD\", \"HDD\"]] = scaler.transform(X_test.loc[:, [\"Inches\", \"Ram\", \"Weight\", \"ppi\", \"Ghz\", \"SSD\", \"HDD\"]])"
   ]
  },
  {
   "cell_type": "code",
   "execution_count": 43,
   "id": "b0ad27ca-4a13-41b5-a447-431c1276358e",
   "metadata": {},
   "outputs": [
    {
     "data": {
      "text/plain": [
       "{'degree': 1}"
      ]
     },
     "execution_count": 43,
     "metadata": {},
     "output_type": "execute_result"
    }
   ],
   "source": [
    "estimator = PolynomialFeatures()\n",
    "\n",
    "param_grid = {\"degree\": list(range(1, 10))}\n",
    "\n",
    "grid_model = GridSearchCV(estimator, param_grid, cv = 5, scoring = \"r2\")\n",
    "\n",
    "grid_model.fit(X_train, y_train)\n",
    "\n",
    "grid_model.best_params_"
   ]
  },
  {
   "cell_type": "markdown",
   "id": "691682bb-e706-4339-ac12-37936892c3a8",
   "metadata": {},
   "source": [
    "# ***GridSearchCV - Ridge Regression***"
   ]
  },
  {
   "cell_type": "code",
   "execution_count": 44,
   "id": "4c91f568-6c3f-4eed-b129-51c20109531c",
   "metadata": {},
   "outputs": [
    {
     "data": {
      "text/plain": [
       "{'alpha': 1}"
      ]
     },
     "execution_count": 44,
     "metadata": {},
     "output_type": "execute_result"
    }
   ],
   "source": [
    "estimator = Ridge()\n",
    "\n",
    "param_grid = {\"alpha\": [0.001, 0.1, 1, 2, 3, 4, 10, 12]}\n",
    "\n",
    "grid_model = GridSearchCV(estimator, param_grid, cv = 5, scoring = \"r2\")\n",
    "\n",
    "grid_model.fit(X_train, y_train)\n",
    "\n",
    "grid_model.best_params_"
   ]
  },
  {
   "cell_type": "markdown",
   "id": "cb0ba279-c521-4918-a984-df5fcb0cb392",
   "metadata": {},
   "source": [
    "# ***GridSearchCV - Lasso Regression***"
   ]
  },
  {
   "cell_type": "code",
   "execution_count": 45,
   "id": "9ceb9712-8164-4319-874c-99b3a0eeecd6",
   "metadata": {},
   "outputs": [
    {
     "data": {
      "text/plain": [
       "{'alpha': 0.001}"
      ]
     },
     "execution_count": 45,
     "metadata": {},
     "output_type": "execute_result"
    }
   ],
   "source": [
    "estimator = Lasso()\n",
    "\n",
    "param_grid = {\"alpha\": [0.001, 0.1, 1, 2, 3, 4]}\n",
    "\n",
    "grid_model = GridSearchCV(estimator, param_grid, cv = 5, scoring = \"r2\")\n",
    "\n",
    "grid_model.fit(X_train, y_train)\n",
    "\n",
    "grid_model.best_params_"
   ]
  },
  {
   "cell_type": "markdown",
   "id": "565ebb03-b670-4477-94de-a3918c10a8c3",
   "metadata": {},
   "source": [
    "# ***GridSearchCV - ElasticNet***"
   ]
  },
  {
   "cell_type": "code",
   "execution_count": 46,
   "id": "b6bc612f-03dd-42b9-afe7-1ae7a3e00b6c",
   "metadata": {},
   "outputs": [
    {
     "data": {
      "text/plain": [
       "{'alpha': 1, 'l1_ratio': 0}"
      ]
     },
     "execution_count": 46,
     "metadata": {},
     "output_type": "execute_result"
    }
   ],
   "source": [
    "estimator = ElasticNet()\n",
    "\n",
    "param_grid = {\"alpha\": list(range(1, 15)), \"l1_ratio\": [0, 0.1, 0.2, 0.3, 0.4, 0.5, 0.6, 0.7, 0.8, 0.9, 1]}\n",
    "\n",
    "grid_model = GridSearchCV(estimator, param_grid, cv = 5, scoring = \"r2\")\n",
    "\n",
    "grid_model.fit(X_train, y_train)\n",
    "\n",
    "grid_model.best_params_"
   ]
  },
  {
   "cell_type": "markdown",
   "id": "f8177348-abef-41bd-8fad-53748b6451cf",
   "metadata": {},
   "source": [
    "# ***GridSearchCV - SVR***"
   ]
  },
  {
   "cell_type": "code",
   "execution_count": 58,
   "id": "859d43c2-f19e-4e2b-bdd4-15a258bf2f45",
   "metadata": {},
   "outputs": [
    {
     "data": {
      "text/plain": [
       "{'C': 1, 'kernel': 'rbf'}"
      ]
     },
     "execution_count": 58,
     "metadata": {},
     "output_type": "execute_result"
    }
   ],
   "source": [
    "estimator = SVR()\n",
    "\n",
    "param_grid = {\"C\": [0.001, 0.1, 1, 10], \"kernel\": [\"linear\", \"poly\", \"sigmoid\", \"rbf\"]}\n",
    "\n",
    "grid_model = GridSearchCV(estimator, param_grid, cv = 5, scoring = \"r2\")\n",
    "\n",
    "grid_model.fit(X_train, y_train)\n",
    "\n",
    "grid_model.best_params_"
   ]
  },
  {
   "cell_type": "markdown",
   "id": "158b1663-908e-4fc7-83c8-a46dc99b56ba",
   "metadata": {},
   "source": [
    "# ***GridSearchCV - KNearestNeighbors - KNeighborsRegressor***"
   ]
  },
  {
   "cell_type": "code",
   "execution_count": 48,
   "id": "e831d830-c93e-43a1-9d2d-1eca65bb1cb0",
   "metadata": {},
   "outputs": [
    {
     "data": {
      "text/plain": [
       "{'n_neighbors': 7}"
      ]
     },
     "execution_count": 48,
     "metadata": {},
     "output_type": "execute_result"
    }
   ],
   "source": [
    "estimator = KNeighborsRegressor()\n",
    "\n",
    "param_grid = {\"n_neighbors\": list(range(1, 20))}\n",
    "\n",
    "grid_model = GridSearchCV(estimator, param_grid, cv = 5, scoring = \"r2\")\n",
    "\n",
    "grid_model.fit(X_train, y_train)\n",
    "\n",
    "grid_model.best_params_"
   ]
  },
  {
   "cell_type": "markdown",
   "id": "e03e2efe-e6c8-424b-9468-99d32390cdb6",
   "metadata": {},
   "source": [
    "# ***GridSearchCV - Decision Tree - DecisionTreeRegressor***"
   ]
  },
  {
   "cell_type": "code",
   "execution_count": 49,
   "id": "0a77173c-9449-4ce4-b29b-6f6baf08ddea",
   "metadata": {},
   "outputs": [
    {
     "name": "stdout",
     "output_type": "stream",
     "text": [
      "{'criterion': 'poisson', 'max_depth': 10}\n"
     ]
    },
    {
     "data": {
      "text/plain": [
       "array([3.77649542e-02, 6.26030193e-01, 3.96495074e-02, 2.96514529e-02,\n",
       "       2.62772195e-03, 8.84676349e-04, 3.70774136e-03, 9.78475427e-02,\n",
       "       1.71528011e-02, 1.50218118e-03, 3.47743707e-05, 4.00156177e-03,\n",
       "       5.41762881e-04, 5.71685104e-04, 0.00000000e+00, 0.00000000e+00,\n",
       "       3.88743910e-03, 0.00000000e+00, 0.00000000e+00, 8.45821173e-04,\n",
       "       1.78252175e-03, 9.97665247e-04, 1.14266744e-09, 1.34134210e-03,\n",
       "       0.00000000e+00, 4.91501624e-04, 7.08236014e-06, 0.00000000e+00,\n",
       "       0.00000000e+00, 2.79746981e-04, 5.98761967e-02, 2.40636794e-04,\n",
       "       9.88078630e-03, 2.23416552e-04, 1.08619206e-02, 1.25391456e-02,\n",
       "       2.14594509e-02, 3.12231353e-03, 2.62206210e-03, 4.08038022e-03,\n",
       "       3.49201321e-03])"
      ]
     },
     "execution_count": 49,
     "metadata": {},
     "output_type": "execute_result"
    }
   ],
   "source": [
    "estimator = DecisionTreeRegressor(random_state = 0)\n",
    "\n",
    "param_grid = {\"max_depth\": list(range(9, 20)), \"criterion\": [\"squared_error\", \"friedman_mse\", \"absolute_error\",\"poisson\"]}\n",
    "\n",
    "grid_model = GridSearchCV(estimator, param_grid, cv = 5, scoring = \"r2\")\n",
    "\n",
    "grid_model.fit(X_train, y_train)\n",
    "\n",
    "print(grid_model.best_params_)\n",
    "\n",
    "grid_model.best_estimator_.feature_importances_"
   ]
  },
  {
   "cell_type": "markdown",
   "id": "8f33af94-594f-4e6e-a7fb-d9efcb6a319c",
   "metadata": {},
   "source": [
    "# ***GridSearchCV - RandomForestRegressor***"
   ]
  },
  {
   "cell_type": "code",
   "execution_count": 50,
   "id": "1e2ffb45-b19f-4919-87e7-a507a74bb1e5",
   "metadata": {},
   "outputs": [
    {
     "name": "stdout",
     "output_type": "stream",
     "text": [
      "Best Params : {'n_estimators': 38}\n"
     ]
    },
    {
     "data": {
      "text/plain": [
       "array([2.71484083e-02, 5.71136717e-01, 5.85932496e-02, 5.49927232e-02,\n",
       "       5.43314983e-03, 5.58808530e-03, 2.92985475e-03, 6.90952886e-02,\n",
       "       2.35755971e-02, 5.42859399e-03, 1.38283501e-04, 4.64415671e-03,\n",
       "       1.23923709e-04, 4.19090103e-03, 1.37502220e-04, 1.89438514e-05,\n",
       "       5.61431537e-03, 1.40339260e-05, 1.52800316e-05, 4.70272559e-03,\n",
       "       7.87838203e-04, 4.67186283e-04, 7.38303841e-05, 1.27481776e-03,\n",
       "       8.44990727e-05, 9.32668426e-04, 2.30685304e-04, 3.56261035e-04,\n",
       "       9.90149783e-04, 3.11273742e-04, 5.97218575e-02, 1.29494499e-03,\n",
       "       1.25017854e-02, 5.53274995e-03, 5.50666987e-03, 5.44002193e-03,\n",
       "       2.51111957e-02, 5.95587673e-03, 2.32358533e-02, 3.13307466e-03,\n",
       "       3.53502665e-03])"
      ]
     },
     "execution_count": 50,
     "metadata": {},
     "output_type": "execute_result"
    }
   ],
   "source": [
    "estimator = RandomForestRegressor(random_state = 0)\n",
    "\n",
    "param_grid = {\"n_estimators\": list(range(1, 40))}\n",
    "\n",
    "grid_model = GridSearchCV(estimator, param_grid, cv = 5, scoring = \"r2\")\n",
    "\n",
    "grid_model.fit(X_train, y_train)\n",
    "\n",
    "print(\"Best Params :\", grid_model.best_params_)\n",
    "\n",
    "grid_model.best_estimator_.feature_importances_"
   ]
  },
  {
   "cell_type": "markdown",
   "id": "0b3092ab-cf0b-45d1-b0ec-de2f04abe41b",
   "metadata": {},
   "source": [
    "# ***AdaBoostRegressor***"
   ]
  },
  {
   "cell_type": "code",
   "execution_count": 52,
   "id": "d00ac2ee-75ed-4376-bb17-3412d90ff024",
   "metadata": {},
   "outputs": [
    {
     "name": "stdout",
     "output_type": "stream",
     "text": [
      "Best Params : {'n_estimators': 46}\n"
     ]
    },
    {
     "data": {
      "text/plain": [
       "array([0.02177273, 0.33284456, 0.09318523, 0.07831608, 0.        ,\n",
       "       0.00138796, 0.        , 0.10892404, 0.12206648, 0.00560483,\n",
       "       0.        , 0.00077075, 0.        , 0.0016968 , 0.        ,\n",
       "       0.        , 0.        , 0.        , 0.        , 0.00045837,\n",
       "       0.        , 0.        , 0.        , 0.0021348 , 0.        ,\n",
       "       0.        , 0.00114645, 0.        , 0.        , 0.        ,\n",
       "       0.03403099, 0.0120999 , 0.02086393, 0.02019112, 0.        ,\n",
       "       0.00149245, 0.03446215, 0.04881012, 0.00627687, 0.0034661 ,\n",
       "       0.04799729])"
      ]
     },
     "execution_count": 52,
     "metadata": {},
     "output_type": "execute_result"
    }
   ],
   "source": [
    "estimator = AdaBoostRegressor(random_state = 0)\n",
    "\n",
    "param_grid = {\"n_estimators\": list(range(39, 50))}\n",
    "\n",
    "grid_model = GridSearchCV(estimator, param_grid, cv = 5, scoring = \"r2\")\n",
    "\n",
    "grid_model.fit(X_train, y_train)\n",
    "\n",
    "print(\"Best Params :\", grid_model.best_params_)\n",
    "\n",
    "grid_model.best_estimator_.feature_importances_"
   ]
  },
  {
   "cell_type": "markdown",
   "id": "2c00c584-63dd-450a-9343-8cf069b91ea8",
   "metadata": {},
   "source": [
    "# ***GradientBoostingRegressor***"
   ]
  },
  {
   "cell_type": "code",
   "execution_count": 53,
   "id": "a08a4b13-3f91-410a-858a-1198872b1131",
   "metadata": {},
   "outputs": [
    {
     "name": "stdout",
     "output_type": "stream",
     "text": [
      "Best Params : {'learning_rate': 0.4, 'n_estimators': 38}\n"
     ]
    },
    {
     "data": {
      "text/plain": [
       "array([3.10091983e-02, 4.42894715e-01, 3.98310575e-02, 4.48368751e-02,\n",
       "       2.46452049e-03, 3.61979893e-03, 1.49893008e-04, 7.37734244e-02,\n",
       "       1.51922439e-01, 2.32018602e-03, 0.00000000e+00, 2.02807501e-03,\n",
       "       2.99764458e-04, 2.60118587e-03, 0.00000000e+00, 0.00000000e+00,\n",
       "       9.81074522e-04, 0.00000000e+00, 1.75117840e-04, 2.18277279e-03,\n",
       "       0.00000000e+00, 3.42838883e-04, 0.00000000e+00, 2.24359859e-03,\n",
       "       0.00000000e+00, 1.31986438e-03, 7.63039537e-04, 4.36807248e-04,\n",
       "       1.04456040e-03, 2.65146332e-04, 8.29625146e-02, 1.39539241e-03,\n",
       "       1.25822630e-02, 8.45225678e-03, 3.71423685e-03, 4.70464664e-04,\n",
       "       2.75985779e-02, 2.52268833e-02, 2.76137082e-02, 1.52219474e-03,\n",
       "       9.55554264e-04])"
      ]
     },
     "execution_count": 53,
     "metadata": {},
     "output_type": "execute_result"
    }
   ],
   "source": [
    "estimator = GradientBoostingRegressor(random_state = 0)\n",
    "\n",
    "param_grid = {\"n_estimators\": list(range(29, 40)), \"learning_rate\": [0, 0.1, 0.2, 0.3, 0.4, 0.5, 0.6, 0.7, 0.8, 0.9, 1]}\n",
    "\n",
    "grid_model = GridSearchCV(estimator, param_grid, cv = 5, scoring = \"r2\")\n",
    "\n",
    "grid_model.fit(X_train, y_train)\n",
    "\n",
    "print(\"Best Params :\", grid_model.best_params_)\n",
    "\n",
    "grid_model.best_estimator_.feature_importances_"
   ]
  },
  {
   "cell_type": "markdown",
   "id": "17019bf9-8e25-481f-981c-2ad5015954a4",
   "metadata": {},
   "source": [
    "# ***XGBRegressor***"
   ]
  },
  {
   "cell_type": "code",
   "execution_count": 56,
   "id": "8f56c392-e453-4860-97b2-9c92f532950f",
   "metadata": {},
   "outputs": [
    {
     "name": "stdout",
     "output_type": "stream",
     "text": [
      "Best Params : {'gamma': 0, 'learning_rate': 0.2, 'n_estimators': 58}\n"
     ]
    },
    {
     "data": {
      "text/plain": [
       "array([0.0179959 , 0.3540014 , 0.00966325, 0.02646129, 0.00604147,\n",
       "       0.00972715, 0.0030644 , 0.03794548, 0.04675371, 0.00676282,\n",
       "       0.        , 0.00967124, 0.00132074, 0.00919413, 0.00359572,\n",
       "       0.        , 0.00870921, 0.        , 0.01275516, 0.004646  ,\n",
       "       0.00402268, 0.00151713, 0.00324109, 0.01481077, 0.0007999 ,\n",
       "       0.00434524, 0.00406085, 0.00575307, 0.01143412, 0.00297909,\n",
       "       0.1255264 , 0.00833534, 0.04534537, 0.02395263, 0.00275351,\n",
       "       0.02812136, 0.06433311, 0.05001335, 0.01331957, 0.0040275 ,\n",
       "       0.01299888], dtype=float32)"
      ]
     },
     "execution_count": 56,
     "metadata": {},
     "output_type": "execute_result"
    }
   ],
   "source": [
    "estimator = XGBRegressor(random_state = 0)\n",
    "\n",
    "param_grid = {\"n_estimators\": list(range(49, 60)), \"learning_rate\": [0, 0.1, 0.2, 0.3, 0.4, 0.5],\n",
    "             \"gamma\":[0, 0.1, 0.2, 0.3, 0.4, 0.5] }\n",
    "\n",
    "grid_model = GridSearchCV(estimator, param_grid, cv = 5, scoring = \"r2\")\n",
    "\n",
    "grid_model.fit(X_train, y_train)\n",
    "\n",
    "print(\"Best Params :\", grid_model.best_params_)\n",
    "\n",
    "grid_model.best_estimator_.feature_importances_"
   ]
  },
  {
   "cell_type": "code",
   "execution_count": null,
   "id": "97d6459f-ab61-4d98-b5c1-0a238bf4d391",
   "metadata": {},
   "outputs": [],
   "source": []
  }
 ],
 "metadata": {
  "kernelspec": {
   "display_name": "Python 3 (ipykernel)",
   "language": "python",
   "name": "python3"
  },
  "language_info": {
   "codemirror_mode": {
    "name": "ipython",
    "version": 3
   },
   "file_extension": ".py",
   "mimetype": "text/x-python",
   "name": "python",
   "nbconvert_exporter": "python",
   "pygments_lexer": "ipython3",
   "version": "3.11.5"
  }
 },
 "nbformat": 4,
 "nbformat_minor": 5
}
