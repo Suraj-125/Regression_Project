{
 "cells": [
  {
   "cell_type": "code",
   "execution_count": 1,
   "id": "820dd8a9-99af-44ac-8702-0951d15c1878",
   "metadata": {},
   "outputs": [],
   "source": [
    "import numpy as np\n",
    "import pandas as pd\n",
    "import matplotlib.pyplot as plt\n",
    "import seaborn as sns\n",
    "\n",
    "import warnings\n",
    "warnings.simplefilter(\"ignore\")"
   ]
  },
  {
   "cell_type": "code",
   "execution_count": 2,
   "id": "9340891c-6ddf-4b69-aa98-40570771793a",
   "metadata": {},
   "outputs": [],
   "source": [
    "df = pd.read_csv(\"Laptop_analyzed.csv\")\n",
    "df.drop(\"Unnamed: 0\", axis = 1, inplace = True)"
   ]
  },
  {
   "cell_type": "code",
   "execution_count": 3,
   "id": "3ba7e215-472b-40b7-9af3-72cedbd029cc",
   "metadata": {},
   "outputs": [
    {
     "data": {
      "text/html": [
       "<div>\n",
       "<style scoped>\n",
       "    .dataframe tbody tr th:only-of-type {\n",
       "        vertical-align: middle;\n",
       "    }\n",
       "\n",
       "    .dataframe tbody tr th {\n",
       "        vertical-align: top;\n",
       "    }\n",
       "\n",
       "    .dataframe thead th {\n",
       "        text-align: right;\n",
       "    }\n",
       "</style>\n",
       "<table border=\"1\" class=\"dataframe\">\n",
       "  <thead>\n",
       "    <tr style=\"text-align: right;\">\n",
       "      <th></th>\n",
       "      <th>Company</th>\n",
       "      <th>TypeName</th>\n",
       "      <th>Inches</th>\n",
       "      <th>Ram</th>\n",
       "      <th>OpSys</th>\n",
       "      <th>Weight</th>\n",
       "      <th>Price</th>\n",
       "      <th>ppi</th>\n",
       "      <th>IPS</th>\n",
       "      <th>TouchScreen</th>\n",
       "      <th>FullHD</th>\n",
       "      <th>CPU_processor</th>\n",
       "      <th>Ghz</th>\n",
       "      <th>SSD</th>\n",
       "      <th>HDD</th>\n",
       "      <th>GPU</th>\n",
       "    </tr>\n",
       "  </thead>\n",
       "  <tbody>\n",
       "    <tr>\n",
       "      <th>0</th>\n",
       "      <td>Apple</td>\n",
       "      <td>Ultrabook</td>\n",
       "      <td>13.3</td>\n",
       "      <td>2.079442</td>\n",
       "      <td>MAC</td>\n",
       "      <td>0.314811</td>\n",
       "      <td>11.175755</td>\n",
       "      <td>5.424875</td>\n",
       "      <td>1</td>\n",
       "      <td>0</td>\n",
       "      <td>0</td>\n",
       "      <td>Intel Core i5</td>\n",
       "      <td>2.3</td>\n",
       "      <td>4.859812</td>\n",
       "      <td>0</td>\n",
       "      <td>Intel</td>\n",
       "    </tr>\n",
       "    <tr>\n",
       "      <th>1</th>\n",
       "      <td>Apple</td>\n",
       "      <td>Ultrabook</td>\n",
       "      <td>13.3</td>\n",
       "      <td>2.079442</td>\n",
       "      <td>MAC</td>\n",
       "      <td>0.292670</td>\n",
       "      <td>10.776777</td>\n",
       "      <td>4.849511</td>\n",
       "      <td>0</td>\n",
       "      <td>0</td>\n",
       "      <td>0</td>\n",
       "      <td>Intel Core i5</td>\n",
       "      <td>1.8</td>\n",
       "      <td>0.000000</td>\n",
       "      <td>0</td>\n",
       "      <td>Intel</td>\n",
       "    </tr>\n",
       "    <tr>\n",
       "      <th>2</th>\n",
       "      <td>HP</td>\n",
       "      <td>Notebook</td>\n",
       "      <td>15.6</td>\n",
       "      <td>2.079442</td>\n",
       "      <td>Others</td>\n",
       "      <td>0.620576</td>\n",
       "      <td>10.329931</td>\n",
       "      <td>4.950262</td>\n",
       "      <td>0</td>\n",
       "      <td>0</td>\n",
       "      <td>1</td>\n",
       "      <td>Intel Core i5</td>\n",
       "      <td>2.5</td>\n",
       "      <td>5.549076</td>\n",
       "      <td>0</td>\n",
       "      <td>Intel</td>\n",
       "    </tr>\n",
       "    <tr>\n",
       "      <th>3</th>\n",
       "      <td>Apple</td>\n",
       "      <td>Ultrabook</td>\n",
       "      <td>15.4</td>\n",
       "      <td>2.772589</td>\n",
       "      <td>MAC</td>\n",
       "      <td>0.604316</td>\n",
       "      <td>11.814476</td>\n",
       "      <td>5.396055</td>\n",
       "      <td>1</td>\n",
       "      <td>0</td>\n",
       "      <td>0</td>\n",
       "      <td>Intel Core i7</td>\n",
       "      <td>2.7</td>\n",
       "      <td>6.240276</td>\n",
       "      <td>0</td>\n",
       "      <td>AMD</td>\n",
       "    </tr>\n",
       "    <tr>\n",
       "      <th>4</th>\n",
       "      <td>Apple</td>\n",
       "      <td>Ultrabook</td>\n",
       "      <td>13.3</td>\n",
       "      <td>2.079442</td>\n",
       "      <td>MAC</td>\n",
       "      <td>0.314811</td>\n",
       "      <td>11.473101</td>\n",
       "      <td>5.424875</td>\n",
       "      <td>1</td>\n",
       "      <td>0</td>\n",
       "      <td>0</td>\n",
       "      <td>Intel Core i5</td>\n",
       "      <td>3.1</td>\n",
       "      <td>5.549076</td>\n",
       "      <td>0</td>\n",
       "      <td>Intel</td>\n",
       "    </tr>\n",
       "  </tbody>\n",
       "</table>\n",
       "</div>"
      ],
      "text/plain": [
       "  Company   TypeName  Inches       Ram   OpSys    Weight      Price       ppi  \\\n",
       "0   Apple  Ultrabook    13.3  2.079442     MAC  0.314811  11.175755  5.424875   \n",
       "1   Apple  Ultrabook    13.3  2.079442     MAC  0.292670  10.776777  4.849511   \n",
       "2      HP   Notebook    15.6  2.079442  Others  0.620576  10.329931  4.950262   \n",
       "3   Apple  Ultrabook    15.4  2.772589     MAC  0.604316  11.814476  5.396055   \n",
       "4   Apple  Ultrabook    13.3  2.079442     MAC  0.314811  11.473101  5.424875   \n",
       "\n",
       "   IPS  TouchScreen  FullHD  CPU_processor  Ghz       SSD  HDD    GPU  \n",
       "0    1            0       0  Intel Core i5  2.3  4.859812    0  Intel  \n",
       "1    0            0       0  Intel Core i5  1.8  0.000000    0  Intel  \n",
       "2    0            0       1  Intel Core i5  2.5  5.549076    0  Intel  \n",
       "3    1            0       0  Intel Core i7  2.7  6.240276    0    AMD  \n",
       "4    1            0       0  Intel Core i5  3.1  5.549076    0  Intel  "
      ]
     },
     "execution_count": 3,
     "metadata": {},
     "output_type": "execute_result"
    }
   ],
   "source": [
    "df.head()"
   ]
  },
  {
   "cell_type": "code",
   "execution_count": 4,
   "id": "8330cf49-49c1-440b-8d1d-0cfd7a3a6a3a",
   "metadata": {},
   "outputs": [],
   "source": [
    "X = df.drop(\"Price\", axis = 1)\n",
    "y = df[\"Price\"]"
   ]
  },
  {
   "cell_type": "markdown",
   "id": "4f5b7f86-d793-4208-86a4-52926290d394",
   "metadata": {},
   "source": [
    "## ***Libraries***"
   ]
  },
  {
   "cell_type": "code",
   "execution_count": 15,
   "id": "ea5d51a2-4350-4794-b379-38e924262d59",
   "metadata": {},
   "outputs": [],
   "source": [
    "from sklearn.model_selection import train_test_split, cross_val_score, GridSearchCV\n",
    "from sklearn.compose import ColumnTransformer\n",
    "from sklearn.preprocessing import StandardScaler, OneHotEncoder, PolynomialFeatures\n",
    "from sklearn.pipeline import Pipeline\n",
    "from sklearn.metrics import mean_absolute_error, mean_squared_error"
   ]
  },
  {
   "cell_type": "code",
   "execution_count": 9,
   "id": "974aebad-5eda-45b3-a9e2-236b3ae660b9",
   "metadata": {},
   "outputs": [],
   "source": [
    "from sklearn.linear_model import LinearRegression, Ridge, Lasso, ElasticNet\n",
    "from sklearn.svm import SVR\n",
    "from sklearn.neighbors import KNeighborsRegressor\n",
    "from sklearn.tree import DecisionTreeRegressor\n",
    "from sklearn.ensemble import RandomForestRegressor, AdaBoostRegressor, GradientBoostingRegressor\n",
    "from xgboost import XGBRegressor"
   ]
  },
  {
   "cell_type": "code",
   "execution_count": 148,
   "id": "1aff2e94-1051-4dc3-95bb-4d9ba039a66a",
   "metadata": {},
   "outputs": [],
   "source": [
    "X_train, X_test, y_train, y_test = train_test_split(X, y, test_size = 0.15, random_state = 72)"
   ]
  },
  {
   "cell_type": "markdown",
   "id": "abab6732-495e-4650-8577-b3a210b7b5dc",
   "metadata": {},
   "source": [
    "# ***LinearRegression***"
   ]
  },
  {
   "cell_type": "code",
   "execution_count": 150,
   "id": "28ee8645-3ea5-4a3e-a11e-ce12f46af651",
   "metadata": {},
   "outputs": [
    {
     "name": "stdout",
     "output_type": "stream",
     "text": [
      "Training Accuracy : 0.8382120210180102\n",
      "Testing Accuracy : 0.8489921506312583\n",
      "Cross Validation Score : 0.8191621924866823\n",
      "\n",
      "MAE : 0.18991953833042358\n",
      "MSE : 0.05969003541674716\n"
     ]
    }
   ],
   "source": [
    "process = ColumnTransformer(transformers = [\n",
    "    (\"encode\", OneHotEncoder(sparse = False, drop = \"first\"), [0, 1, 4, 10, 14]),\n",
    "    (\"scale\", StandardScaler(), [2, 3, 5, 6, 11, 12, 13])\n",
    "], remainder = \"passthrough\")\n",
    "\n",
    "model = LinearRegression()\n",
    "\n",
    "pipe = Pipeline([\n",
    "    (\"process\", process),\n",
    "    (\"model\", model)\n",
    "])\n",
    "\n",
    "pipe.fit(X_train, y_train)\n",
    "\n",
    "pred_train = pipe.predict(X_train)\n",
    "pred_test = pipe.predict(X_test)\n",
    "score = cross_val_score(pipe, X_train, y_train, cv = 5).mean()\n",
    "\n",
    "print(\"Training Accuracy :\", pipe.score(X_train, y_train))\n",
    "print(\"Testing Accuracy :\", pipe.score(X_test, y_test))\n",
    "print(\"Cross Validation Score :\", score)\n",
    "print()\n",
    "print(\"MAE :\", mean_absolute_error(y_test, pred_test))\n",
    "print(\"MSE :\", mean_squared_error(y_test, pred_test))"
   ]
  },
  {
   "cell_type": "markdown",
   "id": "2833cb42-9244-48d5-ac0e-f3786537607e",
   "metadata": {},
   "source": [
    "# ***Polynomial Regression***"
   ]
  },
  {
   "cell_type": "code",
   "execution_count": 151,
   "id": "c4b9167f-e544-4443-8f7e-30d28c3f3d31",
   "metadata": {},
   "outputs": [],
   "source": [
    "# After Hyperparameter tuning it provides degree = 1"
   ]
  },
  {
   "cell_type": "markdown",
   "id": "50ce51fe-a70b-414a-9051-655c4e7f57d6",
   "metadata": {},
   "source": [
    "# ***Ridge***"
   ]
  },
  {
   "cell_type": "code",
   "execution_count": 152,
   "id": "046776c9-7777-4cde-8663-6e25ee9bb844",
   "metadata": {},
   "outputs": [
    {
     "name": "stdout",
     "output_type": "stream",
     "text": [
      "Training Accuracy : 0.8373758256166443\n",
      "Testing Accuracy : 0.8484888567381426\n",
      "Cross Validation Score : 0.8194374460197593\n",
      "\n",
      "MAE : 0.1898113333479545\n",
      "MSE : 0.05988897626936306\n"
     ]
    }
   ],
   "source": [
    "process = ColumnTransformer(transformers = [\n",
    "    (\"encode\", OneHotEncoder(sparse = False, drop = \"first\"), [0, 1, 4, 10, 14]),\n",
    "    (\"scale\", StandardScaler(), [2, 3, 5, 6, 11, 12, 13])\n",
    "], remainder = \"passthrough\")\n",
    "\n",
    "model = Ridge(alpha = 1)\n",
    "\n",
    "pipe = Pipeline([\n",
    "    (\"process\", process),\n",
    "    (\"model\", model)\n",
    "])\n",
    "\n",
    "pipe.fit(X_train, y_train)\n",
    "\n",
    "pred_train = pipe.predict(X_train)\n",
    "pred_test = pipe.predict(X_test)\n",
    "score = cross_val_score(pipe, X_train, y_train, cv = 5).mean()\n",
    "\n",
    "print(\"Training Accuracy :\", pipe.score(X_train, y_train))\n",
    "print(\"Testing Accuracy :\", pipe.score(X_test, y_test))\n",
    "print(\"Cross Validation Score :\", score)\n",
    "print()\n",
    "print(\"MAE :\", mean_absolute_error(y_test, pred_test))\n",
    "print(\"MSE :\", mean_squared_error(y_test, pred_test))"
   ]
  },
  {
   "cell_type": "markdown",
   "id": "84a6ade5-d13e-468a-8bda-9e884f38aeed",
   "metadata": {},
   "source": [
    "# ***Lasso***"
   ]
  },
  {
   "cell_type": "code",
   "execution_count": 153,
   "id": "427af265-7819-4808-a4d7-a9ba4182610d",
   "metadata": {},
   "outputs": [
    {
     "name": "stdout",
     "output_type": "stream",
     "text": [
      "Training Accuracy : 0.8295163257096495\n",
      "Testing Accuracy : 0.8414443032635757\n",
      "Cross Validation Score : 0.8140970052412753\n",
      "\n",
      "MAE : 0.19344869021022842\n",
      "MSE : 0.06267353116601143\n"
     ]
    }
   ],
   "source": [
    "process = ColumnTransformer(transformers = [\n",
    "    (\"encode\", OneHotEncoder(sparse = False, drop = \"first\"), [0, 1, 4, 10, 14]),\n",
    "    (\"scale\", StandardScaler(), [2, 3, 5, 6, 11, 12, 13])\n",
    "], remainder = \"passthrough\")\n",
    "\n",
    "model = Lasso(alpha = 0.001)\n",
    "\n",
    "pipe = Pipeline([\n",
    "    (\"process\", process),\n",
    "    (\"model\", model)\n",
    "])\n",
    "\n",
    "pipe.fit(X_train, y_train)\n",
    "\n",
    "pred_train = pipe.predict(X_train)\n",
    "pred_test = pipe.predict(X_test)\n",
    "score = cross_val_score(pipe, X_train, y_train, cv = 5).mean()\n",
    "\n",
    "print(\"Training Accuracy :\", pipe.score(X_train, y_train))\n",
    "print(\"Testing Accuracy :\", pipe.score(X_test, y_test))\n",
    "print(\"Cross Validation Score :\", score)\n",
    "print()\n",
    "print(\"MAE :\", mean_absolute_error(y_test, pred_test))\n",
    "print(\"MSE :\", mean_squared_error(y_test, pred_test))"
   ]
  },
  {
   "cell_type": "markdown",
   "id": "7118c7ab-7642-4d3d-9bab-160a55faca71",
   "metadata": {},
   "source": [
    "# ***ElasticNet***"
   ]
  },
  {
   "cell_type": "code",
   "execution_count": 154,
   "id": "62342da5-c7eb-40a8-9feb-7777320939e0",
   "metadata": {},
   "outputs": [
    {
     "name": "stdout",
     "output_type": "stream",
     "text": [
      "Training Accuracy : 0.6964550598638373\n",
      "Testing Accuracy : 0.713950574369474\n",
      "Cross Validation Score : 0.6935172038967972\n",
      "\n",
      "MAE : 0.274521891966438\n",
      "MSE : 0.1130689591183637\n"
     ]
    }
   ],
   "source": [
    "process = ColumnTransformer(transformers = [\n",
    "    (\"encode\", OneHotEncoder(sparse = False, drop = \"first\"), [0, 1, 4, 10, 14]),\n",
    "    (\"scale\", StandardScaler(), [2, 3, 5, 6, 11, 12, 13])\n",
    "], remainder = \"passthrough\")\n",
    "\n",
    "model = ElasticNet(alpha = 1, l1_ratio = 0)\n",
    "\n",
    "pipe = Pipeline([\n",
    "    (\"process\", process),\n",
    "    (\"model\", model)\n",
    "])\n",
    "\n",
    "pipe.fit(X_train, y_train)\n",
    "\n",
    "pred_train = pipe.predict(X_train)\n",
    "pred_test = pipe.predict(X_test)\n",
    "score = cross_val_score(pipe, X_train, y_train, cv = 5).mean()\n",
    "\n",
    "print(\"Training Accuracy :\", pipe.score(X_train, y_train))\n",
    "print(\"Testing Accuracy :\", pipe.score(X_test, y_test))\n",
    "print(\"Cross Validation Score :\", score)\n",
    "print()\n",
    "print(\"MAE :\", mean_absolute_error(y_test, pred_test))\n",
    "print(\"MSE :\", mean_squared_error(y_test, pred_test))"
   ]
  },
  {
   "cell_type": "markdown",
   "id": "ce27cce0-7f54-4a88-9578-45fa58593c71",
   "metadata": {},
   "source": [
    "# ***SVR***"
   ]
  },
  {
   "cell_type": "code",
   "execution_count": 196,
   "id": "2f885537-81e5-43ed-bb17-ec3faf3de86b",
   "metadata": {},
   "outputs": [
    {
     "name": "stdout",
     "output_type": "stream",
     "text": [
      "Training Accuracy : 0.9208355052320516\n",
      "Testing Accuracy : 0.8887489333826298\n",
      "Cross Validation Score : 0.8724443795461486\n",
      "\n",
      "MAE : 0.16217382838564498\n",
      "MSE : 0.04397506576182196\n"
     ]
    }
   ],
   "source": [
    "process = ColumnTransformer(transformers = [\n",
    "    (\"encode\", OneHotEncoder(sparse = False, drop = \"first\"), [0, 1, 4, 10, 14]),\n",
    "    (\"scale\", StandardScaler(), [2, 3, 5, 6, 11, 12, 13])\n",
    "], remainder = \"passthrough\")\n",
    "\n",
    "model = SVR(C = 0.4, kernel = \"rbf\")\n",
    "\n",
    "pipe = Pipeline([\n",
    "    (\"process\", process),\n",
    "    (\"model\", model)\n",
    "])\n",
    "\n",
    "pipe.fit(X_train, y_train)\n",
    "\n",
    "pred_train = pipe.predict(X_train)\n",
    "pred_test = pipe.predict(X_test)\n",
    "score = cross_val_score(pipe, X_train, y_train, cv = 5).mean()\n",
    "\n",
    "print(\"Training Accuracy :\", pipe.score(X_train, y_train))\n",
    "print(\"Testing Accuracy :\", pipe.score(X_test, y_test))\n",
    "print(\"Cross Validation Score :\", score)\n",
    "print()\n",
    "print(\"MAE :\", mean_absolute_error(y_test, pred_test))\n",
    "print(\"MSE :\", mean_squared_error(y_test, pred_test))"
   ]
  },
  {
   "cell_type": "markdown",
   "id": "e6b22817-3e24-42ff-b6e4-ea5f0e6562b0",
   "metadata": {},
   "source": [
    "# ***KNeighborsRegressor***"
   ]
  },
  {
   "cell_type": "code",
   "execution_count": 197,
   "id": "2896c61b-3fdf-4a24-a530-a6a7f2d277a5",
   "metadata": {},
   "outputs": [
    {
     "name": "stdout",
     "output_type": "stream",
     "text": [
      "Training Accuracy : 0.8923124946401574\n",
      "Testing Accuracy : 0.8624309550112023\n",
      "Cross Validation Score : 0.8385556898328611\n",
      "\n",
      "MAE : 0.18068024793475024\n",
      "MSE : 0.054377975727460316\n"
     ]
    }
   ],
   "source": [
    "process = ColumnTransformer(transformers = [\n",
    "    (\"encode\", OneHotEncoder(sparse = False, drop = \"first\"), [0, 1, 4, 10, 14]),\n",
    "    (\"scale\", StandardScaler(), [2, 3, 5, 6, 11, 12, 13])\n",
    "], remainder = \"passthrough\")\n",
    "\n",
    "model = KNeighborsRegressor(n_neighbors = 7)\n",
    "\n",
    "pipe = Pipeline([\n",
    "    (\"process\", process),\n",
    "    (\"model\", model)\n",
    "])\n",
    "\n",
    "pipe.fit(X_train, y_train)\n",
    "\n",
    "pred_train = pipe.predict(X_train)\n",
    "pred_test = pipe.predict(X_test)\n",
    "score = cross_val_score(pipe, X_train, y_train, cv = 5).mean()\n",
    "\n",
    "print(\"Training Accuracy :\", pipe.score(X_train, y_train))\n",
    "print(\"Testing Accuracy :\", pipe.score(X_test, y_test))\n",
    "print(\"Cross Validation Score :\", score)\n",
    "print()\n",
    "print(\"MAE :\", mean_absolute_error(y_test, pred_test))\n",
    "print(\"MSE :\", mean_squared_error(y_test, pred_test))"
   ]
  },
  {
   "cell_type": "markdown",
   "id": "bd1bbdbc-4aa3-40b5-b1cf-75f3eacb36a3",
   "metadata": {},
   "source": [
    "# ***DecisionTreeRegressor***"
   ]
  },
  {
   "cell_type": "code",
   "execution_count": 160,
   "id": "a913b219-6c2c-4799-8de3-31fb379d29b2",
   "metadata": {},
   "outputs": [
    {
     "name": "stdout",
     "output_type": "stream",
     "text": [
      "Training Accuracy : 0.9440052683204715\n",
      "Testing Accuracy : 0.7964943309416481\n",
      "Cross Validation Score : 0.8174952499997905\n",
      "\n",
      "MAE : 0.2004723214770564\n",
      "MSE : 0.08044125285129917\n"
     ]
    }
   ],
   "source": [
    "process = ColumnTransformer(transformers = [\n",
    "    (\"encode\", OneHotEncoder(sparse = False, drop = \"first\"), [0, 1, 4, 10, 14]),\n",
    "    (\"scale\", StandardScaler(), [2, 3, 5, 6, 11, 12, 13])\n",
    "], remainder = \"passthrough\")\n",
    "\n",
    "model = DecisionTreeRegressor(max_depth = 10, criterion = \"poisson\")\n",
    "\n",
    "pipe = Pipeline([\n",
    "    (\"process\", process),\n",
    "    (\"model\", model)\n",
    "])\n",
    "\n",
    "pipe.fit(X_train, y_train)\n",
    "\n",
    "pred_train = pipe.predict(X_train)\n",
    "pred_test = pipe.predict(X_test)\n",
    "score = cross_val_score(pipe, X_train, y_train, cv = 5).mean()\n",
    "\n",
    "print(\"Training Accuracy :\", pipe.score(X_train, y_train))\n",
    "print(\"Testing Accuracy :\", pipe.score(X_test, y_test))\n",
    "print(\"Cross Validation Score :\", score)\n",
    "print()\n",
    "print(\"MAE :\", mean_absolute_error(y_test, pred_test))\n",
    "print(\"MSE :\", mean_squared_error(y_test, pred_test))"
   ]
  },
  {
   "cell_type": "markdown",
   "id": "4c788b76-d590-4174-a69a-91dcebca05c9",
   "metadata": {},
   "source": [
    "# ***RandomForestRegressor***"
   ]
  },
  {
   "cell_type": "code",
   "execution_count": 162,
   "id": "06ed88a3-158b-4113-8a50-e3fb0eb9b8e2",
   "metadata": {},
   "outputs": [
    {
     "name": "stdout",
     "output_type": "stream",
     "text": [
      "Training Accuracy : 0.980954116538298\n",
      "Testing Accuracy : 0.8665456447038009\n",
      "Cross Validation Score : 0.8789553587228729\n",
      "\n",
      "MAE : 0.1694036647436481\n",
      "MSE : 0.05275153064856645\n"
     ]
    }
   ],
   "source": [
    "process = ColumnTransformer(transformers = [\n",
    "    (\"encode\", OneHotEncoder(sparse = False, drop = \"first\"), [0, 1, 4, 10, 14]),\n",
    "    (\"scale\", StandardScaler(), [2, 3, 5, 6, 11, 12, 13])\n",
    "], remainder = \"passthrough\")\n",
    "\n",
    "model = RandomForestRegressor(n_estimators = 38)\n",
    "\n",
    "pipe = Pipeline([\n",
    "    (\"process\", process),\n",
    "    (\"model\", model)\n",
    "])\n",
    "\n",
    "pipe.fit(X_train, y_train)\n",
    "\n",
    "pred_train = pipe.predict(X_train)\n",
    "pred_test = pipe.predict(X_test)\n",
    "score = cross_val_score(pipe, X_train, y_train, cv = 5).mean()\n",
    "\n",
    "print(\"Training Accuracy :\", pipe.score(X_train, y_train))\n",
    "print(\"Testing Accuracy :\", pipe.score(X_test, y_test))\n",
    "print(\"Cross Validation Score :\", score)\n",
    "print()\n",
    "print(\"MAE :\", mean_absolute_error(y_test, pred_test))\n",
    "print(\"MSE :\", mean_squared_error(y_test, pred_test))"
   ]
  },
  {
   "cell_type": "markdown",
   "id": "7e60bd87-21e0-4596-8c30-8f3095e52ae1",
   "metadata": {},
   "source": [
    "# ***AdaBoostRegressor***"
   ]
  },
  {
   "cell_type": "code",
   "execution_count": 163,
   "id": "99736b67-3db7-499c-a3a4-b6c5d2687915",
   "metadata": {},
   "outputs": [
    {
     "name": "stdout",
     "output_type": "stream",
     "text": [
      "Training Accuracy : 0.8345126233311092\n",
      "Testing Accuracy : 0.8088516985784552\n",
      "Cross Validation Score : 0.8005660195980877\n",
      "\n",
      "MAE : 0.22284669194154677\n",
      "MSE : 0.07555666099079512\n"
     ]
    }
   ],
   "source": [
    "process = ColumnTransformer(transformers = [\n",
    "    (\"encode\", OneHotEncoder(sparse = False, drop = \"first\"), [0, 1, 4, 10, 14]),\n",
    "    (\"scale\", StandardScaler(), [2, 3, 5, 6, 11, 12, 13])\n",
    "], remainder = \"passthrough\")\n",
    "\n",
    "model = AdaBoostRegressor(n_estimators = 46)\n",
    "\n",
    "pipe = Pipeline([\n",
    "    (\"process\", process),\n",
    "    (\"model\", model)\n",
    "])\n",
    "\n",
    "pipe.fit(X_train, y_train)\n",
    "\n",
    "pred_train = pipe.predict(X_train)\n",
    "pred_test = pipe.predict(X_test)\n",
    "score = cross_val_score(pipe, X_train, y_train, cv = 5).mean()\n",
    "\n",
    "print(\"Training Accuracy :\", pipe.score(X_train, y_train))\n",
    "print(\"Testing Accuracy :\", pipe.score(X_test, y_test))\n",
    "print(\"Cross Validation Score :\", score)\n",
    "print()\n",
    "print(\"MAE :\", mean_absolute_error(y_test, pred_test))\n",
    "print(\"MSE :\", mean_squared_error(y_test, pred_test))"
   ]
  },
  {
   "cell_type": "markdown",
   "id": "bf377588-4542-4393-887a-33708f3b4705",
   "metadata": {},
   "source": [
    "# ***GradientBoostingRegressor***"
   ]
  },
  {
   "cell_type": "code",
   "execution_count": 166,
   "id": "0f872247-5b2d-4f3c-9f9e-6eee913a6af4",
   "metadata": {},
   "outputs": [
    {
     "name": "stdout",
     "output_type": "stream",
     "text": [
      "Training Accuracy : 0.929244649015775\n",
      "Testing Accuracy : 0.872115406040796\n",
      "Cross Validation Score : 0.8668021055502179\n",
      "\n",
      "MAE : 0.17128959093551752\n",
      "MSE : 0.0505499281963903\n"
     ]
    }
   ],
   "source": [
    "process = ColumnTransformer(transformers = [\n",
    "    (\"encode\", OneHotEncoder(sparse = False, drop = \"first\"), [0, 1, 4, 10, 14]),\n",
    "    (\"scale\", StandardScaler(), [2, 3, 5, 6, 11, 12, 13])\n",
    "], remainder = \"passthrough\")\n",
    "\n",
    "model = GradientBoostingRegressor(n_estimators = 38, learning_rate = 0.4)\n",
    "\n",
    "pipe = Pipeline([\n",
    "    (\"process\", process),\n",
    "    (\"model\", model)\n",
    "])\n",
    "\n",
    "pipe.fit(X_train, y_train)\n",
    "\n",
    "pred_train = pipe.predict(X_train)\n",
    "pred_test = pipe.predict(X_test)\n",
    "score = cross_val_score(pipe, X_train, y_train, cv = 5).mean()\n",
    "\n",
    "print(\"Training Accuracy :\", pipe.score(X_train, y_train))\n",
    "print(\"Testing Accuracy :\", pipe.score(X_test, y_test))\n",
    "print(\"Cross Validation Score :\", score)\n",
    "print()\n",
    "print(\"MAE :\", mean_absolute_error(y_test, pred_test))\n",
    "print(\"MSE :\", mean_squared_error(y_test, pred_test))"
   ]
  },
  {
   "cell_type": "markdown",
   "id": "cb1bea5c-24e7-479a-bd50-5e2d2ccd1638",
   "metadata": {},
   "source": [
    "# ***XGBRegressor***"
   ]
  },
  {
   "cell_type": "code",
   "execution_count": 168,
   "id": "30fbe100-df03-4a8d-85b4-ea84ccaff742",
   "metadata": {},
   "outputs": [
    {
     "name": "stdout",
     "output_type": "stream",
     "text": [
      "Training Accuracy : 0.9762084935067746\n",
      "Testing Accuracy : 0.8948036113291163\n",
      "Cross Validation Score : 0.8862651238479382\n",
      "\n",
      "MAE : 0.15685425388614366\n",
      "MSE : 0.04158178658743763\n"
     ]
    }
   ],
   "source": [
    "process = ColumnTransformer(transformers = [\n",
    "    (\"encode\", OneHotEncoder(sparse = False, drop = \"first\"), [0, 1, 4, 10, 14]),\n",
    "    (\"scale\", StandardScaler(), [2, 3, 5, 6, 11, 12, 13])\n",
    "], remainder = \"passthrough\")\n",
    "\n",
    "model = XGBRegressor(n_estimators = 58, gamma = 0, learning_rate = 0.2)\n",
    "\n",
    "pipe = Pipeline([\n",
    "    (\"process\", process),\n",
    "    (\"model\", model)\n",
    "])\n",
    "\n",
    "pipe.fit(X_train, y_train)\n",
    "\n",
    "pred_train = pipe.predict(X_train)\n",
    "pred_test = pipe.predict(X_test)\n",
    "score = cross_val_score(pipe, X_train, y_train, cv = 5).mean()\n",
    "\n",
    "print(\"Training Accuracy :\", pipe.score(X_train, y_train))\n",
    "print(\"Testing Accuracy :\", pipe.score(X_test, y_test))\n",
    "print(\"Cross Validation Score :\", score)\n",
    "print()\n",
    "print(\"MAE :\", mean_absolute_error(y_test, pred_test))\n",
    "print(\"MSE :\", mean_squared_error(y_test, pred_test))"
   ]
  },
  {
   "cell_type": "markdown",
   "id": "0cd89ce3-dac4-48b0-b05e-07f495b62cc7",
   "metadata": {},
   "source": [
    "#### ***SVR is considered best model with***\n",
    "- Train Accuracy -> 92\n",
    "- Test Accuracy -> 89\n",
    "- CV -> 87\n",
    "- MAE - > 1621"
   ]
  },
  {
   "cell_type": "markdown",
   "id": "107a1591-4a09-4613-ab66-5d2c71a87fea",
   "metadata": {},
   "source": [
    "# ***FINAL MODEL***"
   ]
  },
  {
   "cell_type": "code",
   "execution_count": 198,
   "id": "58757c61-ff00-4b1c-ad34-5be8204432a5",
   "metadata": {},
   "outputs": [
    {
     "name": "stdout",
     "output_type": "stream",
     "text": [
      "Training Accuracy : 0.9208355052320516\n",
      "Testing Accuracy : 0.8887489333826298\n",
      "Cross Validation Score : 0.8724443795461486\n",
      "\n",
      "MAE : 0.16217382838564498\n",
      "MSE : 0.04397506576182196\n"
     ]
    }
   ],
   "source": [
    "process = ColumnTransformer(transformers = [\n",
    "    (\"encode\", OneHotEncoder(sparse = False, drop = \"first\"), [0, 1, 4, 10, 14]),\n",
    "    (\"scale\", StandardScaler(), [2, 3, 5, 6, 11, 12, 13])\n",
    "], remainder = \"passthrough\")\n",
    "\n",
    "model = SVR(C = 0.4, kernel = \"rbf\")\n",
    "\n",
    "pipe = Pipeline([\n",
    "    (\"process\", process),\n",
    "    (\"model\", model)\n",
    "])\n",
    "\n",
    "pipe.fit(X_train, y_train)\n",
    "\n",
    "pred_train = pipe.predict(X_train)\n",
    "pred_test = pipe.predict(X_test)\n",
    "score = cross_val_score(pipe, X_train, y_train, cv = 5).mean()\n",
    "\n",
    "print(\"Training Accuracy :\", pipe.score(X_train, y_train))\n",
    "print(\"Testing Accuracy :\", pipe.score(X_test, y_test))\n",
    "print(\"Cross Validation Score :\", score)\n",
    "print()\n",
    "print(\"MAE :\", mean_absolute_error(y_test, pred_test))\n",
    "print(\"MSE :\", mean_squared_error(y_test, pred_test))"
   ]
  },
  {
   "cell_type": "markdown",
   "id": "9e1e1b04-8ace-4bd3-8470-827c920c1061",
   "metadata": {},
   "source": [
    "# ***Predicting on New Data***"
   ]
  },
  {
   "cell_type": "code",
   "execution_count": 223,
   "id": "71361f81-8d65-4162-8aae-f2654e443306",
   "metadata": {},
   "outputs": [
    {
     "data": {
      "text/html": [
       "<div>\n",
       "<style scoped>\n",
       "    .dataframe tbody tr th:only-of-type {\n",
       "        vertical-align: middle;\n",
       "    }\n",
       "\n",
       "    .dataframe tbody tr th {\n",
       "        vertical-align: top;\n",
       "    }\n",
       "\n",
       "    .dataframe thead th {\n",
       "        text-align: right;\n",
       "    }\n",
       "</style>\n",
       "<table border=\"1\" class=\"dataframe\">\n",
       "  <thead>\n",
       "    <tr style=\"text-align: right;\">\n",
       "      <th></th>\n",
       "      <th>Company</th>\n",
       "      <th>TypeName</th>\n",
       "      <th>Inches</th>\n",
       "      <th>Ram</th>\n",
       "      <th>OpSys</th>\n",
       "      <th>Weight</th>\n",
       "      <th>ppi</th>\n",
       "      <th>IPS</th>\n",
       "      <th>TouchScreen</th>\n",
       "      <th>FullHD</th>\n",
       "      <th>CPU_processor</th>\n",
       "      <th>Ghz</th>\n",
       "      <th>SSD</th>\n",
       "      <th>HDD</th>\n",
       "      <th>GPU</th>\n",
       "    </tr>\n",
       "  </thead>\n",
       "  <tbody>\n",
       "    <tr>\n",
       "      <th>0</th>\n",
       "      <td>Apple</td>\n",
       "      <td>Ultrabook</td>\n",
       "      <td>13.3</td>\n",
       "      <td>2.079442</td>\n",
       "      <td>MAC</td>\n",
       "      <td>0.314811</td>\n",
       "      <td>8.644354</td>\n",
       "      <td>1</td>\n",
       "      <td>0</td>\n",
       "      <td>0</td>\n",
       "      <td>Intel Core i5</td>\n",
       "      <td>2.3</td>\n",
       "      <td>4.859812</td>\n",
       "      <td>1000</td>\n",
       "      <td>Intel</td>\n",
       "    </tr>\n",
       "  </tbody>\n",
       "</table>\n",
       "</div>"
      ],
      "text/plain": [
       "  Company   TypeName  Inches       Ram OpSys    Weight       ppi  IPS  \\\n",
       "0   Apple  Ultrabook    13.3  2.079442   MAC  0.314811  8.644354    1   \n",
       "\n",
       "   TouchScreen  FullHD  CPU_processor  Ghz       SSD   HDD    GPU  \n",
       "0            0       0  Intel Core i5  2.3  4.859812  1000  Intel  "
      ]
     },
     "execution_count": 223,
     "metadata": {},
     "output_type": "execute_result"
    }
   ],
   "source": [
    "new_data = pd.DataFrame({\n",
    "    'Company':\"Apple\",\n",
    "    'TypeName':\"Ultrabook\", \n",
    "    'Inches':13.3, \n",
    "    'Ram':8, \n",
    "    'OpSys':\"MAC\", \n",
    "    'Weight':1.37, \n",
    "    'ppi':5678, \n",
    "    'IPS':1,\n",
    "    'TouchScreen':0, \n",
    "    'FullHD':0, \n",
    "    'CPU_processor':\"Intel Core i5\", \n",
    "    'Ghz':2.3, \n",
    "    'SSD':128, \n",
    "    'HDD':1000, \n",
    "    'GPU':\"Intel\"\n",
    "}, index = [0])\n",
    "\n",
    "new_data[\"Weight\"] = np.log(new_data[\"Weight\"])\n",
    "new_data[\"ppi\"] = np.log(new_data[\"ppi\"])\n",
    "new_data[\"SSD\"] = np.log(new_data[\"SSD\"] + 1)\n",
    "new_data[\"Ram\"] = np.log(new_data[\"Ram\"])\n",
    "# new_data[\"Price\"] = np.log(new_data[\"Price\"])\n",
    "\n",
    "new_data"
   ]
  },
  {
   "cell_type": "code",
   "execution_count": 224,
   "id": "e0c1ceb2-5a8d-48c5-a1ae-21454117c17e",
   "metadata": {},
   "outputs": [
    {
     "name": "stdout",
     "output_type": "stream",
     "text": [
      "Price of the laptop for this specifaction : 66973\n"
     ]
    }
   ],
   "source": [
    "pred = pipe.predict(new_data)[0]\n",
    "print(\"Price of the laptop for this specifaction :\", round(np.exp(pred)))"
   ]
  },
  {
   "cell_type": "code",
   "execution_count": 225,
   "id": "7d95f093-70b0-49c9-8ddb-7b18f9964f00",
   "metadata": {},
   "outputs": [
    {
     "data": {
      "text/plain": [
       "['SVR_model.joblib']"
      ]
     },
     "execution_count": 225,
     "metadata": {},
     "output_type": "execute_result"
    }
   ],
   "source": [
    "from joblib import dump\n",
    "dump(pipe, \"SVR_model.joblib\")"
   ]
  },
  {
   "cell_type": "code",
   "execution_count": null,
   "id": "18d1dcac-4856-4aee-aebd-75a5e3116a2f",
   "metadata": {},
   "outputs": [],
   "source": []
  }
 ],
 "metadata": {
  "kernelspec": {
   "display_name": "Python 3 (ipykernel)",
   "language": "python",
   "name": "python3"
  },
  "language_info": {
   "codemirror_mode": {
    "name": "ipython",
    "version": 3
   },
   "file_extension": ".py",
   "mimetype": "text/x-python",
   "name": "python",
   "nbconvert_exporter": "python",
   "pygments_lexer": "ipython3",
   "version": "3.11.5"
  }
 },
 "nbformat": 4,
 "nbformat_minor": 5
}
