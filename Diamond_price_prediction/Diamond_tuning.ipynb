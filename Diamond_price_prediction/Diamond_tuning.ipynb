{
 "cells": [
  {
   "cell_type": "code",
   "execution_count": 1,
   "id": "86999486-a61f-47ce-ac25-8b6971e31ebc",
   "metadata": {},
   "outputs": [],
   "source": [
    "import numpy as np\n",
    "import pandas as pd\n",
    "import matplotlib.pyplot as plt\n",
    "import seaborn as sns\n",
    "\n",
    "import warnings\n",
    "warnings.simplefilter(\"ignore\")"
   ]
  },
  {
   "cell_type": "code",
   "execution_count": 4,
   "id": "3253ee87-2cf6-416c-bdd5-24fe45e77cb9",
   "metadata": {},
   "outputs": [
    {
     "data": {
      "text/html": [
       "<div>\n",
       "<style scoped>\n",
       "    .dataframe tbody tr th:only-of-type {\n",
       "        vertical-align: middle;\n",
       "    }\n",
       "\n",
       "    .dataframe tbody tr th {\n",
       "        vertical-align: top;\n",
       "    }\n",
       "\n",
       "    .dataframe thead th {\n",
       "        text-align: right;\n",
       "    }\n",
       "</style>\n",
       "<table border=\"1\" class=\"dataframe\">\n",
       "  <thead>\n",
       "    <tr style=\"text-align: right;\">\n",
       "      <th></th>\n",
       "      <th>carat</th>\n",
       "      <th>cut</th>\n",
       "      <th>color</th>\n",
       "      <th>clarity</th>\n",
       "      <th>depth</th>\n",
       "      <th>table</th>\n",
       "      <th>price</th>\n",
       "      <th>x</th>\n",
       "      <th>y</th>\n",
       "      <th>z</th>\n",
       "    </tr>\n",
       "  </thead>\n",
       "  <tbody>\n",
       "    <tr>\n",
       "      <th>0</th>\n",
       "      <td>-1.469676</td>\n",
       "      <td>Ideal</td>\n",
       "      <td>E</td>\n",
       "      <td>SI2</td>\n",
       "      <td>61.5</td>\n",
       "      <td>55.0</td>\n",
       "      <td>5.786897</td>\n",
       "      <td>3.95</td>\n",
       "      <td>1.605430</td>\n",
       "      <td>1.232560</td>\n",
       "    </tr>\n",
       "    <tr>\n",
       "      <th>1</th>\n",
       "      <td>-1.560648</td>\n",
       "      <td>Premium</td>\n",
       "      <td>E</td>\n",
       "      <td>SI1</td>\n",
       "      <td>59.8</td>\n",
       "      <td>61.0</td>\n",
       "      <td>5.786897</td>\n",
       "      <td>3.89</td>\n",
       "      <td>1.576915</td>\n",
       "      <td>1.196948</td>\n",
       "    </tr>\n",
       "    <tr>\n",
       "      <th>2</th>\n",
       "      <td>-1.469676</td>\n",
       "      <td>Good</td>\n",
       "      <td>E</td>\n",
       "      <td>VS1</td>\n",
       "      <td>56.9</td>\n",
       "      <td>65.0</td>\n",
       "      <td>5.789960</td>\n",
       "      <td>4.05</td>\n",
       "      <td>1.623341</td>\n",
       "      <td>1.196948</td>\n",
       "    </tr>\n",
       "    <tr>\n",
       "      <th>3</th>\n",
       "      <td>-1.237874</td>\n",
       "      <td>Premium</td>\n",
       "      <td>I</td>\n",
       "      <td>VS2</td>\n",
       "      <td>62.4</td>\n",
       "      <td>58.0</td>\n",
       "      <td>5.811141</td>\n",
       "      <td>4.20</td>\n",
       "      <td>1.654411</td>\n",
       "      <td>1.289233</td>\n",
       "    </tr>\n",
       "    <tr>\n",
       "      <th>4</th>\n",
       "      <td>-1.171183</td>\n",
       "      <td>Good</td>\n",
       "      <td>J</td>\n",
       "      <td>SI2</td>\n",
       "      <td>63.3</td>\n",
       "      <td>58.0</td>\n",
       "      <td>5.814131</td>\n",
       "      <td>4.34</td>\n",
       "      <td>1.677097</td>\n",
       "      <td>1.321756</td>\n",
       "    </tr>\n",
       "  </tbody>\n",
       "</table>\n",
       "</div>"
      ],
      "text/plain": [
       "      carat      cut color clarity  depth  table     price     x         y  \\\n",
       "0 -1.469676    Ideal     E     SI2   61.5   55.0  5.786897  3.95  1.605430   \n",
       "1 -1.560648  Premium     E     SI1   59.8   61.0  5.786897  3.89  1.576915   \n",
       "2 -1.469676     Good     E     VS1   56.9   65.0  5.789960  4.05  1.623341   \n",
       "3 -1.237874  Premium     I     VS2   62.4   58.0  5.811141  4.20  1.654411   \n",
       "4 -1.171183     Good     J     SI2   63.3   58.0  5.814131  4.34  1.677097   \n",
       "\n",
       "          z  \n",
       "0  1.232560  \n",
       "1  1.196948  \n",
       "2  1.196948  \n",
       "3  1.289233  \n",
       "4  1.321756  "
      ]
     },
     "execution_count": 4,
     "metadata": {},
     "output_type": "execute_result"
    }
   ],
   "source": [
    "df = pd.read_csv(\"diamond.csv\")\n",
    "df.head()"
   ]
  },
  {
   "cell_type": "code",
   "execution_count": 5,
   "id": "8f26ff5f-ef43-4318-bf48-c82ee9d9ee5a",
   "metadata": {},
   "outputs": [],
   "source": [
    "X = df.drop(\"price\", axis = 1)\n",
    "y = df[\"price\"]"
   ]
  },
  {
   "cell_type": "code",
   "execution_count": 7,
   "id": "c9262bfd-2b94-4e23-b4b8-825332e5126f",
   "metadata": {},
   "outputs": [],
   "source": [
    "from sklearn.model_selection import train_test_split, cross_val_score, GridSearchCV\n",
    "from sklearn.preprocessing import OneHotEncoder, StandardScaler, PolynomialFeatures\n",
    "from sklearn.compose import ColumnTransformer\n",
    "from sklearn.decomposition import PCA\n",
    "from sklearn.pipeline import Pipeline\n",
    "from sklearn.metrics import mean_absolute_error"
   ]
  },
  {
   "cell_type": "code",
   "execution_count": 31,
   "id": "ad917f54-cd84-4550-a179-bbb9bef07176",
   "metadata": {},
   "outputs": [],
   "source": [
    "from sklearn.linear_model import LinearRegression, Ridge, Lasso, ElasticNet\n",
    "from sklearn.svm import SVR\n",
    "from sklearn.neighbors import KNeighborsRegressor\n",
    "from sklearn.tree import DecisionTreeRegressor\n",
    "from sklearn.ensemble import RandomForestRegressor, AdaBoostRegressor, GradientBoostingRegressor\n",
    "from xgboost import XGBRegressor"
   ]
  },
  {
   "cell_type": "code",
   "execution_count": 26,
   "id": "e704a3c2-48b4-4c19-97ec-9f55a3970389",
   "metadata": {},
   "outputs": [],
   "source": [
    "train =[]\n",
    "test = []\n",
    "cv = []\n",
    "mae = []\n",
    "\n",
    "step = ColumnTransformer(transformers = [\n",
    "    (\"col_tnf\", OneHotEncoder(sparse = False, drop = \"first\"), [1, 2, 3]),\n",
    "    (\"scaler\", StandardScaler(), [0, 4, 5, 6, 7, 8])\n",
    "], remainder = \"passthrough\")\n",
    "\n",
    "dr = PCA(n_components = 23)\n",
    "model = LinearRegression()\n",
    "\n",
    "pipe = Pipeline([\n",
    "    (\"step\", step),\n",
    "    (\"pca\", dr),\n",
    "    (\"model\", model)\n",
    "])\n",
    "\n",
    "for i in range(0, 100):\n",
    "    X_train, X_test, y_train, y_test = train_test_split(X, y, test_size = 0.2, random_state = i)\n",
    "    pipe.fit(X_train, y_train)\n",
    "    pred = pipe.predict(X_test)\n",
    "    train_accuracy = pipe.score(X_train, y_train)\n",
    "    test_accuracy = pipe.score(X_test, y_test)\n",
    "    score = cross_val_score(pipe, X_train, y_train, cv = 5).mean()\n",
    "    mae_value = mean_absolute_error(y_test, pred)\n",
    "    train.append(train_accuracy)\n",
    "    test.append(test_accuracy)\n",
    "    cv.append(score)\n",
    "    mae.append(mae_value)\n",
    "\n",
    "random = pd.DataFrame({\n",
    "    \"train\": train,\n",
    "    \"test\": test,\n",
    "    \"cv\": cv,\n",
    "    \"mae\": mae\n",
    "})"
   ]
  },
  {
   "cell_type": "code",
   "execution_count": 30,
   "id": "b24f6574-49ee-4f9b-b7a6-3ba56f7e4ac0",
   "metadata": {},
   "outputs": [
    {
     "data": {
      "text/html": [
       "<div>\n",
       "<style scoped>\n",
       "    .dataframe tbody tr th:only-of-type {\n",
       "        vertical-align: middle;\n",
       "    }\n",
       "\n",
       "    .dataframe tbody tr th {\n",
       "        vertical-align: top;\n",
       "    }\n",
       "\n",
       "    .dataframe thead th {\n",
       "        text-align: right;\n",
       "    }\n",
       "</style>\n",
       "<table border=\"1\" class=\"dataframe\">\n",
       "  <thead>\n",
       "    <tr style=\"text-align: right;\">\n",
       "      <th></th>\n",
       "      <th>train</th>\n",
       "      <th>test</th>\n",
       "      <th>cv</th>\n",
       "      <th>mae</th>\n",
       "    </tr>\n",
       "  </thead>\n",
       "  <tbody>\n",
       "    <tr>\n",
       "      <th>63</th>\n",
       "      <td>0.982527</td>\n",
       "      <td>0.983702</td>\n",
       "      <td>0.982493</td>\n",
       "      <td>0.100715</td>\n",
       "    </tr>\n",
       "    <tr>\n",
       "      <th>29</th>\n",
       "      <td>0.982552</td>\n",
       "      <td>0.983581</td>\n",
       "      <td>0.982524</td>\n",
       "      <td>0.101262</td>\n",
       "    </tr>\n",
       "    <tr>\n",
       "      <th>70</th>\n",
       "      <td>0.982556</td>\n",
       "      <td>0.983541</td>\n",
       "      <td>0.982506</td>\n",
       "      <td>0.101265</td>\n",
       "    </tr>\n",
       "    <tr>\n",
       "      <th>43</th>\n",
       "      <td>0.982562</td>\n",
       "      <td>0.983538</td>\n",
       "      <td>0.982526</td>\n",
       "      <td>0.101573</td>\n",
       "    </tr>\n",
       "    <tr>\n",
       "      <th>8</th>\n",
       "      <td>0.982663</td>\n",
       "      <td>0.983146</td>\n",
       "      <td>0.982623</td>\n",
       "      <td>0.101731</td>\n",
       "    </tr>\n",
       "    <tr>\n",
       "      <th>...</th>\n",
       "      <td>...</td>\n",
       "      <td>...</td>\n",
       "      <td>...</td>\n",
       "      <td>...</td>\n",
       "    </tr>\n",
       "    <tr>\n",
       "      <th>52</th>\n",
       "      <td>0.982933</td>\n",
       "      <td>0.982076</td>\n",
       "      <td>0.982905</td>\n",
       "      <td>0.104451</td>\n",
       "    </tr>\n",
       "    <tr>\n",
       "      <th>96</th>\n",
       "      <td>0.982712</td>\n",
       "      <td>0.982939</td>\n",
       "      <td>0.982667</td>\n",
       "      <td>0.104537</td>\n",
       "    </tr>\n",
       "    <tr>\n",
       "      <th>58</th>\n",
       "      <td>0.982893</td>\n",
       "      <td>0.982231</td>\n",
       "      <td>0.982846</td>\n",
       "      <td>0.105006</td>\n",
       "    </tr>\n",
       "    <tr>\n",
       "      <th>33</th>\n",
       "      <td>0.982857</td>\n",
       "      <td>0.982379</td>\n",
       "      <td>0.982806</td>\n",
       "      <td>0.105069</td>\n",
       "    </tr>\n",
       "    <tr>\n",
       "      <th>85</th>\n",
       "      <td>0.983063</td>\n",
       "      <td>0.981536</td>\n",
       "      <td>0.983022</td>\n",
       "      <td>0.105107</td>\n",
       "    </tr>\n",
       "  </tbody>\n",
       "</table>\n",
       "<p>100 rows × 4 columns</p>\n",
       "</div>"
      ],
      "text/plain": [
       "       train      test        cv       mae\n",
       "63  0.982527  0.983702  0.982493  0.100715\n",
       "29  0.982552  0.983581  0.982524  0.101262\n",
       "70  0.982556  0.983541  0.982506  0.101265\n",
       "43  0.982562  0.983538  0.982526  0.101573\n",
       "8   0.982663  0.983146  0.982623  0.101731\n",
       "..       ...       ...       ...       ...\n",
       "52  0.982933  0.982076  0.982905  0.104451\n",
       "96  0.982712  0.982939  0.982667  0.104537\n",
       "58  0.982893  0.982231  0.982846  0.105006\n",
       "33  0.982857  0.982379  0.982806  0.105069\n",
       "85  0.983063  0.981536  0.983022  0.105107\n",
       "\n",
       "[100 rows x 4 columns]"
      ]
     },
     "execution_count": 30,
     "metadata": {},
     "output_type": "execute_result"
    }
   ],
   "source": [
    "random.sort_values(by = \"mae\")"
   ]
  },
  {
   "cell_type": "markdown",
   "id": "78f35b51-0847-4d42-8b2f-24dc625c2765",
   "metadata": {},
   "source": [
    "***Train_Test_Split***"
   ]
  },
  {
   "cell_type": "code",
   "execution_count": 32,
   "id": "71fd8309-b893-4254-9b93-38eddf5a5d52",
   "metadata": {},
   "outputs": [],
   "source": [
    "X_train, X_test, y_train, y_test = train_test_split(X, y, test_size = 0.2, random_state = 63)"
   ]
  },
  {
   "cell_type": "markdown",
   "id": "dc05ee14-6b8f-4818-a8bf-386a9502945c",
   "metadata": {},
   "source": [
    "# ***Hyperparameter Tuning***"
   ]
  },
  {
   "cell_type": "markdown",
   "id": "2de2d2e2-03ee-43bd-9fcc-7897fc12b212",
   "metadata": {},
   "source": [
    "***PCA***"
   ]
  },
  {
   "cell_type": "code",
   "execution_count": 33,
   "id": "087a6c88-23bf-4519-8073-e538db9915ca",
   "metadata": {},
   "outputs": [
    {
     "data": {
      "text/plain": [
       "{'pca__n_components': 23}"
      ]
     },
     "execution_count": 33,
     "metadata": {},
     "output_type": "execute_result"
    }
   ],
   "source": [
    "step = ColumnTransformer(transformers = [\n",
    "    (\"col_tnf\", OneHotEncoder(sparse = False, drop = \"first\"), [1, 2, 3]),\n",
    "    (\"scaler\", StandardScaler(), [0, 4, 5, 6, 7, 8])\n",
    "], remainder = \"passthrough\")\n",
    "\n",
    "dr = PCA()\n",
    "model = LinearRegression()\n",
    "\n",
    "pipe = Pipeline([\n",
    "    (\"step\", step),\n",
    "    (\"pca\", dr),\n",
    "    (\"model\", model)\n",
    "])\n",
    "\n",
    "param_grid = {\"pca__n_components\": list(range(1, 50))}\n",
    "\n",
    "grid = GridSearchCV(pipe, param_grid, cv = 5, scoring = \"neg_mean_squared_error\")\n",
    "grid.fit(X_train, y_train)\n",
    "grid.best_params_"
   ]
  },
  {
   "cell_type": "markdown",
   "id": "6b29b0b5-db02-44e6-9cc8-91757d589329",
   "metadata": {},
   "source": [
    "***PolynomialFeatures***"
   ]
  },
  {
   "cell_type": "code",
   "execution_count": 35,
   "id": "23add025-ffcf-4702-b86e-5b52923578dc",
   "metadata": {},
   "outputs": [
    {
     "data": {
      "text/plain": [
       "{'model__degree': 1}"
      ]
     },
     "execution_count": 35,
     "metadata": {},
     "output_type": "execute_result"
    }
   ],
   "source": [
    "step = ColumnTransformer(transformers = [\n",
    "    (\"col_tnf\", OneHotEncoder(sparse = False, drop = \"first\"), [1, 2, 3]),\n",
    "    (\"scaler\", StandardScaler(), [0, 4, 5, 6, 7, 8])\n",
    "], remainder = \"passthrough\")\n",
    "\n",
    "dr = PCA(n_components= 23)\n",
    "model = PolynomialFeatures()\n",
    "\n",
    "pipe = Pipeline([\n",
    "    (\"step\", step),\n",
    "    (\"pca\", dr),\n",
    "    (\"model\", model)\n",
    "])\n",
    "\n",
    "param_grid = {\"model__degree\": list(range(1, 10))}\n",
    "\n",
    "grid = GridSearchCV(pipe, param_grid, cv = 5, scoring = \"neg_mean_squared_error\")\n",
    "grid.fit(X_train, y_train)\n",
    "grid.best_params_"
   ]
  },
  {
   "cell_type": "markdown",
   "id": "8d70515f-1f54-435c-af37-f73797f79388",
   "metadata": {},
   "source": [
    "***Ridge***"
   ]
  },
  {
   "cell_type": "code",
   "execution_count": 34,
   "id": "b4f2a71b-9bd4-44c4-b56b-72953cb63cae",
   "metadata": {},
   "outputs": [
    {
     "data": {
      "text/plain": [
       "{'model__alpha': 0.1}"
      ]
     },
     "execution_count": 34,
     "metadata": {},
     "output_type": "execute_result"
    }
   ],
   "source": [
    "step = ColumnTransformer(transformers = [\n",
    "    (\"col_tnf\", OneHotEncoder(sparse = False, drop = \"first\"), [1, 2, 3]),\n",
    "    (\"scaler\", StandardScaler(), [0, 4, 5, 6, 7, 8])\n",
    "], remainder = \"passthrough\")\n",
    "\n",
    "dr = PCA(n_components= 23)\n",
    "model = Ridge()\n",
    "\n",
    "pipe = Pipeline([\n",
    "    (\"step\", step),\n",
    "    (\"pca\", dr),\n",
    "    (\"model\", model)\n",
    "])\n",
    "\n",
    "param_grid = {\"model__alpha\": [0.001, 0.1, 1, 2, 3, 4, 5, 10, 15, 20]}\n",
    "\n",
    "grid = GridSearchCV(pipe, param_grid, cv = 5, scoring = \"neg_mean_squared_error\")\n",
    "grid.fit(X_train, y_train)\n",
    "grid.best_params_"
   ]
  },
  {
   "cell_type": "markdown",
   "id": "77f2b7df-3bda-4f74-848a-04cc169b3066",
   "metadata": {},
   "source": [
    "***Lasso***"
   ]
  },
  {
   "cell_type": "code",
   "execution_count": 36,
   "id": "a82e17ba-ce93-4f66-ae35-e744cc4f763a",
   "metadata": {},
   "outputs": [
    {
     "data": {
      "text/plain": [
       "{'model__alpha': 0.001}"
      ]
     },
     "execution_count": 36,
     "metadata": {},
     "output_type": "execute_result"
    }
   ],
   "source": [
    "step = ColumnTransformer(transformers = [\n",
    "    (\"col_tnf\", OneHotEncoder(sparse = False, drop = \"first\"), [1, 2, 3]),\n",
    "    (\"scaler\", StandardScaler(), [0, 4, 5, 6, 7, 8])\n",
    "], remainder = \"passthrough\")\n",
    "\n",
    "dr = PCA(n_components= 23)\n",
    "model = Lasso()\n",
    "\n",
    "pipe = Pipeline([\n",
    "    (\"step\", step),\n",
    "    (\"pca\", dr),\n",
    "    (\"model\", model)\n",
    "])\n",
    "\n",
    "param_grid = {\"model__alpha\": [0.001, 0.1, 1, 2, 3, 4, 5, 10, 15, 20]}\n",
    "\n",
    "grid = GridSearchCV(pipe, param_grid, cv = 5, scoring = \"neg_mean_squared_error\")\n",
    "grid.fit(X_train, y_train)\n",
    "grid.best_params_"
   ]
  },
  {
   "cell_type": "markdown",
   "id": "0fe4640d-50c2-417b-80a8-62b8732146fb",
   "metadata": {},
   "source": [
    "***ElasticNet***"
   ]
  },
  {
   "cell_type": "code",
   "execution_count": 37,
   "id": "49cafc35-845c-47ac-b573-49717f96ea79",
   "metadata": {},
   "outputs": [
    {
     "data": {
      "text/plain": [
       "{'model__alpha': 0.001, 'model__l1_ratio': 0.3}"
      ]
     },
     "execution_count": 37,
     "metadata": {},
     "output_type": "execute_result"
    }
   ],
   "source": [
    "step = ColumnTransformer(transformers = [\n",
    "    (\"col_tnf\", OneHotEncoder(sparse = False, drop = \"first\"), [1, 2, 3]),\n",
    "    (\"scaler\", StandardScaler(), [0, 4, 5, 6, 7, 8])\n",
    "], remainder = \"passthrough\")\n",
    "\n",
    "dr = PCA(n_components= 23)\n",
    "model = ElasticNet()\n",
    "\n",
    "pipe = Pipeline([\n",
    "    (\"step\", step),\n",
    "    (\"pca\", dr),\n",
    "    (\"model\", model)\n",
    "])\n",
    "\n",
    "param_grid = {\"model__alpha\": [0.001, 0.1, 1, 2, 3, 4, 5, 10, 15, 20], \"model__l1_ratio\":[0, 0.1, 0.2, 0.3, 0.5, 0.7, 0.8, 1]}\n",
    "\n",
    "grid = GridSearchCV(pipe, param_grid, cv = 5, scoring = \"neg_mean_squared_error\")\n",
    "grid.fit(X_train, y_train)\n",
    "grid.best_params_"
   ]
  },
  {
   "cell_type": "markdown",
   "id": "373ea320-cab4-429c-bcd8-dfaefedb1203",
   "metadata": {},
   "source": [
    "***SVR***"
   ]
  },
  {
   "cell_type": "code",
   "execution_count": 39,
   "id": "9fe48857-f2a9-4c99-a452-ec837b38594c",
   "metadata": {},
   "outputs": [],
   "source": [
    "step = ColumnTransformer(transformers = [\n",
    "    (\"col_tnf\", OneHotEncoder(sparse = False, drop = \"first\"), [1, 2, 3]),\n",
    "    (\"scaler\", StandardScaler(), [0, 4, 5, 6, 7, 8])\n",
    "], remainder = \"passthrough\")\n",
    "\n",
    "dr = PCA(n_components= 23)\n",
    "model = SVR()\n",
    "\n",
    "pipe = Pipeline([\n",
    "    (\"step\", step),\n",
    "    (\"pca\", dr),\n",
    "    (\"model\", model)\n",
    "])\n",
    "\n",
    "param_grid = {\"model__C\": [0.001, 0.1, 1, 10], \"model__kernel\":[\"linear\", \"sigmoid\", \"poly\", \"rbf\"]}\n",
    "\n",
    "grid = GridSearchCV(pipe, param_grid, cv = 5, scoring = \"neg_mean_squared_error\")\n",
    "grid.fit(X_train, y_train)\n",
    "grid.best_params_"
   ]
  },
  {
   "cell_type": "markdown",
   "id": "7d2e9af0-54fb-441c-83b2-abb679c565cb",
   "metadata": {},
   "source": [
    "***KNeighborsRegressor***"
   ]
  },
  {
   "cell_type": "code",
   "execution_count": 40,
   "id": "2de89506-a0da-44fc-885a-fd9e81696f0c",
   "metadata": {},
   "outputs": [
    {
     "data": {
      "text/plain": [
       "{'model__n_neighbors': 5}"
      ]
     },
     "execution_count": 40,
     "metadata": {},
     "output_type": "execute_result"
    }
   ],
   "source": [
    "step = ColumnTransformer(transformers = [\n",
    "    (\"col_tnf\", OneHotEncoder(sparse = False, drop = \"first\"), [1, 2, 3]),\n",
    "    (\"scaler\", StandardScaler(), [0, 4, 5, 6, 7, 8])\n",
    "], remainder = \"passthrough\")\n",
    "\n",
    "dr = PCA(n_components= 23)\n",
    "model = KNeighborsRegressor()\n",
    "\n",
    "pipe = Pipeline([\n",
    "    (\"step\", step),\n",
    "    (\"pca\", dr),\n",
    "    (\"model\", model)\n",
    "])\n",
    "\n",
    "param_grid = {\"model__n_neighbors\": list(range(1, 10))}\n",
    "\n",
    "grid = GridSearchCV(pipe, param_grid, cv = 5, scoring = \"neg_mean_squared_error\")\n",
    "grid.fit(X_train, y_train)\n",
    "grid.best_params_"
   ]
  },
  {
   "cell_type": "markdown",
   "id": "310983cf-013d-4056-af59-a7e50296d9c8",
   "metadata": {},
   "source": [
    "***DecisionTreeRegressor***"
   ]
  },
  {
   "cell_type": "code",
   "execution_count": 42,
   "id": "a878d412-91dd-48d8-834a-1fdc27956f26",
   "metadata": {},
   "outputs": [
    {
     "data": {
      "text/plain": [
       "{'model__max_depth': 12}"
      ]
     },
     "execution_count": 42,
     "metadata": {},
     "output_type": "execute_result"
    }
   ],
   "source": [
    "step = ColumnTransformer(transformers = [\n",
    "    (\"col_tnf\", OneHotEncoder(sparse = False, drop = \"first\"), [1, 2, 3]),\n",
    "    (\"scaler\", StandardScaler(), [0, 4, 5, 6, 7, 8])\n",
    "], remainder = \"passthrough\")\n",
    "\n",
    "dr = PCA(n_components= 23)\n",
    "model = DecisionTreeRegressor()\n",
    "\n",
    "pipe = Pipeline([\n",
    "    (\"step\", step),\n",
    "    (\"pca\", dr),\n",
    "    (\"model\", model)\n",
    "])\n",
    "\n",
    "param_grid = {\"model__max_depth\": list(range(9, 20))}\n",
    "\n",
    "grid = GridSearchCV(pipe, param_grid, cv = 5, scoring = \"neg_mean_squared_error\")\n",
    "grid.fit(X_train, y_train)\n",
    "grid.best_params_"
   ]
  },
  {
   "cell_type": "markdown",
   "id": "a2fcdaf7-f2da-40df-a3a0-5c2c5186ba36",
   "metadata": {},
   "source": [
    "***RandomForestRegressor***"
   ]
  },
  {
   "cell_type": "code",
   "execution_count": 44,
   "id": "fff29a38-c60b-4232-b237-7206d8021eea",
   "metadata": {},
   "outputs": [
    {
     "data": {
      "text/plain": [
       "{'model__n_estimators': 14}"
      ]
     },
     "execution_count": 44,
     "metadata": {},
     "output_type": "execute_result"
    }
   ],
   "source": [
    "step = ColumnTransformer(transformers = [\n",
    "    (\"col_tnf\", OneHotEncoder(sparse = False, drop = \"first\"), [1, 2, 3]),\n",
    "    (\"scaler\", StandardScaler(), [0, 4, 5, 6, 7, 8])\n",
    "], remainder = \"passthrough\")\n",
    "\n",
    "dr = PCA(n_components= 23)\n",
    "model = RandomForestRegressor()\n",
    "\n",
    "pipe = Pipeline([\n",
    "    (\"step\", step),\n",
    "    (\"pca\", dr),\n",
    "    (\"model\", model)\n",
    "])\n",
    "\n",
    "param_grid = {\"model__n_estimators\": list(range(9, 15))}\n",
    "\n",
    "grid = GridSearchCV(pipe, param_grid, cv = 5, scoring = \"neg_mean_squared_error\")\n",
    "grid.fit(X_train, y_train)\n",
    "grid.best_params_"
   ]
  },
  {
   "cell_type": "markdown",
   "id": "1787dee9-7802-4db2-8c21-d9d32c07a89c",
   "metadata": {},
   "source": [
    "***AdaBoostRegressor***"
   ]
  },
  {
   "cell_type": "code",
   "execution_count": 45,
   "id": "6369d85a-3808-448a-9478-5c50d0f2941c",
   "metadata": {},
   "outputs": [
    {
     "data": {
      "text/plain": [
       "{'model__n_estimators': 19}"
      ]
     },
     "execution_count": 45,
     "metadata": {},
     "output_type": "execute_result"
    }
   ],
   "source": [
    "step = ColumnTransformer(transformers = [\n",
    "    (\"col_tnf\", OneHotEncoder(sparse = False, drop = \"first\"), [1, 2, 3]),\n",
    "    (\"scaler\", StandardScaler(), [0, 4, 5, 6, 7, 8])\n",
    "], remainder = \"passthrough\")\n",
    "\n",
    "dr = PCA(n_components= 23)\n",
    "model = AdaBoostRegressor()\n",
    "\n",
    "pipe = Pipeline([\n",
    "    (\"step\", step),\n",
    "    (\"pca\", dr),\n",
    "    (\"model\", model)\n",
    "])\n",
    "\n",
    "param_grid = {\"model__n_estimators\": list(range(10, 20))}\n",
    "\n",
    "grid = GridSearchCV(pipe, param_grid, cv = 5, scoring = \"neg_mean_squared_error\")\n",
    "grid.fit(X_train, y_train)\n",
    "grid.best_params_"
   ]
  },
  {
   "cell_type": "markdown",
   "id": "c3b4a59d-4210-46aa-8b2d-570b4f32a727",
   "metadata": {},
   "source": [
    "***GradientBoostingRegressor***"
   ]
  },
  {
   "cell_type": "code",
   "execution_count": 46,
   "id": "35fd5d78-c64d-4f21-8751-acab5359bce2",
   "metadata": {},
   "outputs": [
    {
     "data": {
      "text/plain": [
       "{'model__n_estimators': 29}"
      ]
     },
     "execution_count": 46,
     "metadata": {},
     "output_type": "execute_result"
    }
   ],
   "source": [
    "step = ColumnTransformer(transformers = [\n",
    "    (\"col_tnf\", OneHotEncoder(sparse = False, drop = \"first\"), [1, 2, 3]),\n",
    "    (\"scaler\", StandardScaler(), [0, 4, 5, 6, 7, 8])\n",
    "], remainder = \"passthrough\")\n",
    "\n",
    "dr = PCA(n_components= 23)\n",
    "model = GradientBoostingRegressor()\n",
    "\n",
    "pipe = Pipeline([\n",
    "    (\"step\", step),\n",
    "    (\"pca\", dr),\n",
    "    (\"model\", model)\n",
    "])\n",
    "\n",
    "param_grid = {\"model__n_estimators\": list(range(19, 30))}\n",
    "\n",
    "grid = GridSearchCV(pipe, param_grid, cv = 5, scoring = \"neg_mean_squared_error\")\n",
    "grid.fit(X_train, y_train)\n",
    "grid.best_params_"
   ]
  },
  {
   "cell_type": "markdown",
   "id": "43e780b0-18a8-4d2a-9e0f-0e70a08e19fe",
   "metadata": {},
   "source": [
    "***XGBRegressor***"
   ]
  },
  {
   "cell_type": "code",
   "execution_count": null,
   "id": "cee3ea19-fe5f-45bc-b5c7-970bad6ce2d9",
   "metadata": {},
   "outputs": [],
   "source": [
    "step = ColumnTransformer(transformers = [\n",
    "    (\"col_tnf\", OneHotEncoder(sparse = False, drop = \"first\"), [1, 2, 3]),\n",
    "    (\"scaler\", StandardScaler(), [0, 4, 5, 6, 7, 8])\n",
    "], remainder = \"passthrough\")\n",
    "\n",
    "dr = PCA(n_components= 23)\n",
    "model = XGBRegressor()\n",
    "\n",
    "pipe = Pipeline([\n",
    "    (\"step\", step),\n",
    "    (\"pca\", dr),\n",
    "    (\"model\", model)\n",
    "])\n",
    "\n",
    "param_grid = {\"model__n_estimators\": list(range(1, 10)), \"model__learning_rate\": [0, 0.2, 0.3, 0.5, 0.7, 1]}\n",
    "\n",
    "grid = GridSearchCV(pipe, param_grid, cv = 5, scoring = \"neg_mean_squared_error\")\n",
    "grid.fit(X_train, y_train)\n",
    "grid.best_params_"
   ]
  },
  {
   "cell_type": "code",
   "execution_count": null,
   "id": "54d5a6ca-8e8c-4763-8fd2-738a9f6414e2",
   "metadata": {},
   "outputs": [],
   "source": []
  },
  {
   "cell_type": "code",
   "execution_count": null,
   "id": "315fe440-789b-44a7-a3e4-1be8966aa8a8",
   "metadata": {},
   "outputs": [],
   "source": []
  }
 ],
 "metadata": {
  "kernelspec": {
   "display_name": "Python 3 (ipykernel)",
   "language": "python",
   "name": "python3"
  },
  "language_info": {
   "codemirror_mode": {
    "name": "ipython",
    "version": 3
   },
   "file_extension": ".py",
   "mimetype": "text/x-python",
   "name": "python",
   "nbconvert_exporter": "python",
   "pygments_lexer": "ipython3",
   "version": "3.11.5"
  }
 },
 "nbformat": 4,
 "nbformat_minor": 5
}
