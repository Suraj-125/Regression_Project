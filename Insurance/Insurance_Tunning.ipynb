{
 "cells": [
  {
   "cell_type": "code",
   "execution_count": 1,
   "id": "32aa9b3a-a6fe-495a-8a0f-29ac7666d360",
   "metadata": {},
   "outputs": [],
   "source": [
    "import numpy as np\n",
    "import pandas as pd\n",
    "import matplotlib.pyplot as plt\n",
    "import seaborn as sns\n",
    "\n",
    "import warnings\n",
    "warnings.simplefilter(\"ignore\")"
   ]
  },
  {
   "cell_type": "code",
   "execution_count": 44,
   "id": "0b053817-9d18-43b9-a3f5-c3b0d3c41e8b",
   "metadata": {},
   "outputs": [
    {
     "data": {
      "text/html": [
       "<div>\n",
       "<style scoped>\n",
       "    .dataframe tbody tr th:only-of-type {\n",
       "        vertical-align: middle;\n",
       "    }\n",
       "\n",
       "    .dataframe tbody tr th {\n",
       "        vertical-align: top;\n",
       "    }\n",
       "\n",
       "    .dataframe thead th {\n",
       "        text-align: right;\n",
       "    }\n",
       "</style>\n",
       "<table border=\"1\" class=\"dataframe\">\n",
       "  <thead>\n",
       "    <tr style=\"text-align: right;\">\n",
       "      <th></th>\n",
       "      <th>Unnamed: 0</th>\n",
       "      <th>age</th>\n",
       "      <th>sex</th>\n",
       "      <th>bmi</th>\n",
       "      <th>children</th>\n",
       "      <th>smoker</th>\n",
       "      <th>region</th>\n",
       "      <th>expenses</th>\n",
       "    </tr>\n",
       "  </thead>\n",
       "  <tbody>\n",
       "    <tr>\n",
       "      <th>0</th>\n",
       "      <td>0</td>\n",
       "      <td>19</td>\n",
       "      <td>0</td>\n",
       "      <td>27.9</td>\n",
       "      <td>0</td>\n",
       "      <td>1</td>\n",
       "      <td>southwest</td>\n",
       "      <td>16884.92</td>\n",
       "    </tr>\n",
       "    <tr>\n",
       "      <th>1</th>\n",
       "      <td>1</td>\n",
       "      <td>18</td>\n",
       "      <td>1</td>\n",
       "      <td>33.8</td>\n",
       "      <td>1</td>\n",
       "      <td>0</td>\n",
       "      <td>southeast</td>\n",
       "      <td>1725.55</td>\n",
       "    </tr>\n",
       "    <tr>\n",
       "      <th>2</th>\n",
       "      <td>2</td>\n",
       "      <td>28</td>\n",
       "      <td>1</td>\n",
       "      <td>33.0</td>\n",
       "      <td>3</td>\n",
       "      <td>0</td>\n",
       "      <td>southeast</td>\n",
       "      <td>4449.46</td>\n",
       "    </tr>\n",
       "    <tr>\n",
       "      <th>3</th>\n",
       "      <td>3</td>\n",
       "      <td>33</td>\n",
       "      <td>1</td>\n",
       "      <td>22.7</td>\n",
       "      <td>0</td>\n",
       "      <td>0</td>\n",
       "      <td>northwest</td>\n",
       "      <td>21984.47</td>\n",
       "    </tr>\n",
       "    <tr>\n",
       "      <th>4</th>\n",
       "      <td>4</td>\n",
       "      <td>32</td>\n",
       "      <td>1</td>\n",
       "      <td>28.9</td>\n",
       "      <td>0</td>\n",
       "      <td>0</td>\n",
       "      <td>northwest</td>\n",
       "      <td>3866.86</td>\n",
       "    </tr>\n",
       "  </tbody>\n",
       "</table>\n",
       "</div>"
      ],
      "text/plain": [
       "   Unnamed: 0  age  sex   bmi  children  smoker     region  expenses\n",
       "0           0   19    0  27.9         0       1  southwest  16884.92\n",
       "1           1   18    1  33.8         1       0  southeast   1725.55\n",
       "2           2   28    1  33.0         3       0  southeast   4449.46\n",
       "3           3   33    1  22.7         0       0  northwest  21984.47\n",
       "4           4   32    1  28.9         0       0  northwest   3866.86"
      ]
     },
     "execution_count": 44,
     "metadata": {},
     "output_type": "execute_result"
    }
   ],
   "source": [
    "df = pd.read_csv(\"Insurance_Analyzed.csv\")\n",
    "df.head()"
   ]
  },
  {
   "cell_type": "code",
   "execution_count": 45,
   "id": "4de193ce-8837-4bc4-832c-37f209539955",
   "metadata": {},
   "outputs": [],
   "source": [
    "df.drop([\"Unnamed: 0\", \"region\"], axis = 1, inplace = True)"
   ]
  },
  {
   "cell_type": "markdown",
   "id": "074aa751-3a3a-497c-9ba2-ba39d764dd35",
   "metadata": {},
   "source": [
    "# ***Hyper-Parameter-Tunning***"
   ]
  },
  {
   "cell_type": "code",
   "execution_count": 46,
   "id": "a62c8889-41e7-493d-85d9-61df2a27a26e",
   "metadata": {},
   "outputs": [],
   "source": [
    "X = df.drop(\"expenses\", axis = 1)\n",
    "y = (df[\"expenses\"] ** (1/4))"
   ]
  },
  {
   "cell_type": "code",
   "execution_count": 47,
   "id": "95220a91-c998-4a18-b5b0-c4e9ceb02637",
   "metadata": {},
   "outputs": [],
   "source": [
    "from sklearn.model_selection import train_test_split, cross_val_score, GridSearchCV\n",
    "from sklearn.linear_model import LinearRegression, Ridge, Lasso, ElasticNet\n",
    "from sklearn.svm import SVR\n",
    "from sklearn.neighbors import KNeighborsRegressor\n",
    "from sklearn.tree import DecisionTreeRegressor\n",
    "from sklearn.ensemble import RandomForestRegressor, AdaBoostRegressor, GradientBoostingRegressor\n",
    "from xgboost import XGBRegressor\n",
    "from sklearn.preprocessing import StandardScaler, PolynomialFeatures\n",
    "from sklearn.metrics import mean_absolute_error, mean_squared_error, r2_score, accuracy_score"
   ]
  },
  {
   "cell_type": "markdown",
   "id": "9f9ca349-fa94-4771-b59b-58facd6106ae",
   "metadata": {},
   "source": [
    "***Best Random State***"
   ]
  },
  {
   "cell_type": "code",
   "execution_count": 48,
   "id": "4d481bcb-4c9e-4c01-a78f-8ad563c1eefb",
   "metadata": {},
   "outputs": [],
   "source": [
    "sc = StandardScaler()"
   ]
  },
  {
   "cell_type": "code",
   "execution_count": 49,
   "id": "d50d15ec-9c55-438d-acef-f31bde1d2cd5",
   "metadata": {},
   "outputs": [],
   "source": [
    "train_score = []\n",
    "test_score = []\n",
    "cv_score = []\n",
    "MAE = []\n",
    "\n",
    "for i in range(100):\n",
    "    X_train, X_test, y_train, y_test = train_test_split(X, y, test_size = 0.20, random_state = i)\n",
    "    X_train.loc[:, [\"age\", \"bmi\", \"children\"]] = sc.fit_transform(X_train.loc[:, [\"age\", \"bmi\", \"children\"]])\n",
    "    X_test.loc[:, [\"age\", \"bmi\", \"children\"]] = sc.transform(X_test.loc[:, [\"age\", \"bmi\", \"children\"]])\n",
    "    model = LinearRegression().fit(X_train, y_train)\n",
    "    \n",
    "    pred_train = model.predict(X_train)\n",
    "    pred_test = model.predict(X_test)\n",
    "    \n",
    "    train_accuracy = model.score(X_train, y_train)\n",
    "    test_accuracy = model.score(X_test, y_test)\n",
    "    score = cross_val_score(model, X_train, y_train, cv = 5).mean()\n",
    "    mae = mean_absolute_error(y_test, pred_test)\n",
    "    \n",
    "    train_score.append(train_accuracy)\n",
    "    test_score.append(test_accuracy)\n",
    "    cv_score.append(score)\n",
    "    MAE.append(mae)\n",
    "\n",
    "random_state = pd.DataFrame({\n",
    "    \"Train\": train_score,\n",
    "    \"Test\": test_score,\n",
    "    \"CV\": cv_score,\n",
    "    \"MAE\": mae\n",
    "})"
   ]
  },
  {
   "cell_type": "code",
   "execution_count": 50,
   "id": "7196dd9a-6dad-4f72-b5aa-c79e126927b0",
   "metadata": {},
   "outputs": [
    {
     "data": {
      "text/html": [
       "<div>\n",
       "<style scoped>\n",
       "    .dataframe tbody tr th:only-of-type {\n",
       "        vertical-align: middle;\n",
       "    }\n",
       "\n",
       "    .dataframe tbody tr th {\n",
       "        vertical-align: top;\n",
       "    }\n",
       "\n",
       "    .dataframe thead th {\n",
       "        text-align: right;\n",
       "    }\n",
       "</style>\n",
       "<table border=\"1\" class=\"dataframe\">\n",
       "  <thead>\n",
       "    <tr style=\"text-align: right;\">\n",
       "      <th></th>\n",
       "      <th>Train</th>\n",
       "      <th>Test</th>\n",
       "      <th>CV</th>\n",
       "      <th>MAE</th>\n",
       "    </tr>\n",
       "  </thead>\n",
       "  <tbody>\n",
       "    <tr>\n",
       "      <th>0</th>\n",
       "      <td>0.775671</td>\n",
       "      <td>0.777442</td>\n",
       "      <td>0.772798</td>\n",
       "      <td>0.73167</td>\n",
       "    </tr>\n",
       "    <tr>\n",
       "      <th>72</th>\n",
       "      <td>0.787826</td>\n",
       "      <td>0.725591</td>\n",
       "      <td>0.782489</td>\n",
       "      <td>0.73167</td>\n",
       "    </tr>\n",
       "    <tr>\n",
       "      <th>71</th>\n",
       "      <td>0.769614</td>\n",
       "      <td>0.803231</td>\n",
       "      <td>0.768008</td>\n",
       "      <td>0.73167</td>\n",
       "    </tr>\n",
       "    <tr>\n",
       "      <th>70</th>\n",
       "      <td>0.781086</td>\n",
       "      <td>0.755970</td>\n",
       "      <td>0.776724</td>\n",
       "      <td>0.73167</td>\n",
       "    </tr>\n",
       "    <tr>\n",
       "      <th>69</th>\n",
       "      <td>0.778294</td>\n",
       "      <td>0.768328</td>\n",
       "      <td>0.775275</td>\n",
       "      <td>0.73167</td>\n",
       "    </tr>\n",
       "    <tr>\n",
       "      <th>...</th>\n",
       "      <td>...</td>\n",
       "      <td>...</td>\n",
       "      <td>...</td>\n",
       "      <td>...</td>\n",
       "    </tr>\n",
       "    <tr>\n",
       "      <th>28</th>\n",
       "      <td>0.779120</td>\n",
       "      <td>0.763917</td>\n",
       "      <td>0.776195</td>\n",
       "      <td>0.73167</td>\n",
       "    </tr>\n",
       "    <tr>\n",
       "      <th>27</th>\n",
       "      <td>0.781605</td>\n",
       "      <td>0.750047</td>\n",
       "      <td>0.773452</td>\n",
       "      <td>0.73167</td>\n",
       "    </tr>\n",
       "    <tr>\n",
       "      <th>26</th>\n",
       "      <td>0.776114</td>\n",
       "      <td>0.776855</td>\n",
       "      <td>0.772355</td>\n",
       "      <td>0.73167</td>\n",
       "    </tr>\n",
       "    <tr>\n",
       "      <th>36</th>\n",
       "      <td>0.776559</td>\n",
       "      <td>0.771586</td>\n",
       "      <td>0.771000</td>\n",
       "      <td>0.73167</td>\n",
       "    </tr>\n",
       "    <tr>\n",
       "      <th>99</th>\n",
       "      <td>0.786258</td>\n",
       "      <td>0.731472</td>\n",
       "      <td>0.778869</td>\n",
       "      <td>0.73167</td>\n",
       "    </tr>\n",
       "  </tbody>\n",
       "</table>\n",
       "<p>100 rows × 4 columns</p>\n",
       "</div>"
      ],
      "text/plain": [
       "       Train      Test        CV      MAE\n",
       "0   0.775671  0.777442  0.772798  0.73167\n",
       "72  0.787826  0.725591  0.782489  0.73167\n",
       "71  0.769614  0.803231  0.768008  0.73167\n",
       "70  0.781086  0.755970  0.776724  0.73167\n",
       "69  0.778294  0.768328  0.775275  0.73167\n",
       "..       ...       ...       ...      ...\n",
       "28  0.779120  0.763917  0.776195  0.73167\n",
       "27  0.781605  0.750047  0.773452  0.73167\n",
       "26  0.776114  0.776855  0.772355  0.73167\n",
       "36  0.776559  0.771586  0.771000  0.73167\n",
       "99  0.786258  0.731472  0.778869  0.73167\n",
       "\n",
       "[100 rows x 4 columns]"
      ]
     },
     "execution_count": 50,
     "metadata": {},
     "output_type": "execute_result"
    }
   ],
   "source": [
    "random_state.sort_values(by = \"MAE\", ascending = True)"
   ]
  },
  {
   "cell_type": "markdown",
   "id": "f7594ca9-10a2-4072-b7ae-3bebe7ff6fe4",
   "metadata": {},
   "source": [
    "## ***GridSearchCV For - PolynomialFeatures***"
   ]
  },
  {
   "cell_type": "code",
   "execution_count": 51,
   "id": "49d93720-20fb-490a-a1ba-3279cb3a89d5",
   "metadata": {},
   "outputs": [],
   "source": [
    "X_train, X_test, y_train, y_test = train_test_split(X, y, test_size = 0.20, random_state = 0)\n",
    "scaler = StandardScaler()\n",
    "X_train.loc[:, [\"age\", \"bmi\", \"children\"]] = scaler.fit_transform(X_train.loc[:, [\"age\", \"bmi\", \"children\"]])\n",
    "X_test.loc[:, [\"age\", \"bmi\", \"children\"]] = scaler.transform(X_test.loc[:, [\"age\", \"bmi\", \"children\"]])"
   ]
  },
  {
   "cell_type": "code",
   "execution_count": 52,
   "id": "b0ad27ca-4a13-41b5-a447-431c1276358e",
   "metadata": {},
   "outputs": [
    {
     "data": {
      "text/plain": [
       "{'degree': 1}"
      ]
     },
     "execution_count": 52,
     "metadata": {},
     "output_type": "execute_result"
    }
   ],
   "source": [
    "estimator = PolynomialFeatures()\n",
    "\n",
    "param_grid = {\"degree\": list(range(1, 10))}\n",
    "\n",
    "grid_model = GridSearchCV(estimator, param_grid, cv = 5, scoring = \"r2\")\n",
    "\n",
    "grid_model.fit(X_train, y_train)\n",
    "\n",
    "grid_model.best_params_"
   ]
  },
  {
   "cell_type": "markdown",
   "id": "691682bb-e706-4339-ac12-37936892c3a8",
   "metadata": {},
   "source": [
    "# ***GridSearchCV - Ridge Regression***"
   ]
  },
  {
   "cell_type": "code",
   "execution_count": 54,
   "id": "4c91f568-6c3f-4eed-b129-51c20109531c",
   "metadata": {},
   "outputs": [
    {
     "data": {
      "text/plain": [
       "{'alpha': 0.1}"
      ]
     },
     "execution_count": 54,
     "metadata": {},
     "output_type": "execute_result"
    }
   ],
   "source": [
    "estimator = Ridge()\n",
    "\n",
    "param_grid = {\"alpha\": [0.001, 0.1, 1, 2, 3, 4, 10, 12]}\n",
    "\n",
    "grid_model = GridSearchCV(estimator, param_grid, cv = 5, scoring = \"r2\")\n",
    "\n",
    "grid_model.fit(X_train, y_train)\n",
    "\n",
    "grid_model.best_params_"
   ]
  },
  {
   "cell_type": "markdown",
   "id": "cb0ba279-c521-4918-a984-df5fcb0cb392",
   "metadata": {},
   "source": [
    "# ***GridSearchCV - Lasso Regression***"
   ]
  },
  {
   "cell_type": "code",
   "execution_count": 55,
   "id": "9ceb9712-8164-4319-874c-99b3a0eeecd6",
   "metadata": {},
   "outputs": [
    {
     "data": {
      "text/plain": [
       "{'alpha': 0.001}"
      ]
     },
     "execution_count": 55,
     "metadata": {},
     "output_type": "execute_result"
    }
   ],
   "source": [
    "estimator = Lasso()\n",
    "\n",
    "param_grid = {\"alpha\": [0.001, 0.1, 1, 2, 3, 4]}\n",
    "\n",
    "grid_model = GridSearchCV(estimator, param_grid, cv = 5, scoring = \"r2\")\n",
    "\n",
    "grid_model.fit(X_train, y_train)\n",
    "\n",
    "grid_model.best_params_"
   ]
  },
  {
   "cell_type": "markdown",
   "id": "565ebb03-b670-4477-94de-a3918c10a8c3",
   "metadata": {},
   "source": [
    "# ***GridSearchCV - ElasticNet***"
   ]
  },
  {
   "cell_type": "code",
   "execution_count": 33,
   "id": "b6bc612f-03dd-42b9-afe7-1ae7a3e00b6c",
   "metadata": {},
   "outputs": [
    {
     "data": {
      "text/plain": [
       "{'alpha': 1, 'l1_ratio': 0}"
      ]
     },
     "execution_count": 33,
     "metadata": {},
     "output_type": "execute_result"
    }
   ],
   "source": [
    "estimator = ElasticNet()\n",
    "\n",
    "param_grid = {\"alpha\": list(range(1, 15)), \"l1_ratio\": [0, 0.1, 0.2, 0.3, 0.4, 0.5, 0.6, 0.7, 0.8, 0.9, 1]}\n",
    "\n",
    "grid_model = GridSearchCV(estimator, param_grid, cv = 5, scoring = \"r2\")\n",
    "\n",
    "grid_model.fit(X_train, y_train)\n",
    "\n",
    "grid_model.best_params_"
   ]
  },
  {
   "cell_type": "markdown",
   "id": "f8177348-abef-41bd-8fad-53748b6451cf",
   "metadata": {},
   "source": [
    "# ***GridSearchCV - SVC***"
   ]
  },
  {
   "cell_type": "code",
   "execution_count": 56,
   "id": "859d43c2-f19e-4e2b-bdd4-15a258bf2f45",
   "metadata": {},
   "outputs": [
    {
     "data": {
      "text/plain": [
       "{'C': 10, 'kernel': 'rbf'}"
      ]
     },
     "execution_count": 56,
     "metadata": {},
     "output_type": "execute_result"
    }
   ],
   "source": [
    "estimator = SVR()\n",
    "\n",
    "param_grid = {\"C\": [0.001, 0.1, 1, 10, 100], \"kernel\": [\"linear\", \"poly\", \"sigmoid\", \"rbf\"]}\n",
    "\n",
    "grid_model = GridSearchCV(estimator, param_grid, cv = 5, scoring = \"r2\")\n",
    "\n",
    "grid_model.fit(X_train, y_train)\n",
    "\n",
    "grid_model.best_params_"
   ]
  },
  {
   "cell_type": "markdown",
   "id": "158b1663-908e-4fc7-83c8-a46dc99b56ba",
   "metadata": {},
   "source": [
    "# ***GridSearchCV - KNearestNeighbors - KNeighborsRegressor***"
   ]
  },
  {
   "cell_type": "code",
   "execution_count": 57,
   "id": "e831d830-c93e-43a1-9d2d-1eca65bb1cb0",
   "metadata": {},
   "outputs": [
    {
     "data": {
      "text/plain": [
       "{'n_neighbors': 6}"
      ]
     },
     "execution_count": 57,
     "metadata": {},
     "output_type": "execute_result"
    }
   ],
   "source": [
    "estimator = KNeighborsRegressor()\n",
    "\n",
    "param_grid = {\"n_neighbors\": list(range(1, 20))}\n",
    "\n",
    "grid_model = GridSearchCV(estimator, param_grid, cv = 5, scoring = \"r2\")\n",
    "\n",
    "grid_model.fit(X_train, y_train)\n",
    "\n",
    "grid_model.best_params_"
   ]
  },
  {
   "cell_type": "markdown",
   "id": "e03e2efe-e6c8-424b-9468-99d32390cdb6",
   "metadata": {},
   "source": [
    "# ***GridSearchCV - Decision Tree - DecisionTreeRegressor***"
   ]
  },
  {
   "cell_type": "code",
   "execution_count": 58,
   "id": "0a77173c-9449-4ce4-b29b-6f6baf08ddea",
   "metadata": {},
   "outputs": [
    {
     "name": "stdout",
     "output_type": "stream",
     "text": [
      "{'max_depth': 4}\n"
     ]
    },
    {
     "data": {
      "text/plain": [
       "array([0.30699037, 0.        , 0.05862965, 0.0151286 , 0.61925138])"
      ]
     },
     "execution_count": 58,
     "metadata": {},
     "output_type": "execute_result"
    }
   ],
   "source": [
    "estimator = DecisionTreeRegressor(random_state = 0)\n",
    "\n",
    "param_grid = {\"max_depth\": list(range(1, 20))}\n",
    "\n",
    "grid_model = GridSearchCV(estimator, param_grid, cv = 5, scoring = \"r2\")\n",
    "\n",
    "grid_model.fit(X_train, y_train)\n",
    "\n",
    "print(grid_model.best_params_)\n",
    "\n",
    "grid_model.best_estimator_.feature_importances_"
   ]
  },
  {
   "cell_type": "markdown",
   "id": "8f33af94-594f-4e6e-a7fb-d9efcb6a319c",
   "metadata": {},
   "source": [
    "# ***GridSearchCV - RandomForestRegressor***"
   ]
  },
  {
   "cell_type": "code",
   "execution_count": 59,
   "id": "1e2ffb45-b19f-4919-87e7-a507a74bb1e5",
   "metadata": {},
   "outputs": [
    {
     "name": "stdout",
     "output_type": "stream",
     "text": [
      "Best Params : {'n_estimators': 32}\n"
     ]
    },
    {
     "data": {
      "text/plain": [
       "array([0.29640107, 0.0113004 , 0.14101859, 0.03286646, 0.51841349])"
      ]
     },
     "execution_count": 59,
     "metadata": {},
     "output_type": "execute_result"
    }
   ],
   "source": [
    "estimator = RandomForestRegressor(random_state = 0)\n",
    "\n",
    "param_grid = {\"n_estimators\": list(range(1, 40))}\n",
    "\n",
    "grid_model = GridSearchCV(estimator, param_grid, cv = 5, scoring = \"r2\")\n",
    "\n",
    "grid_model.fit(X_train, y_train)\n",
    "\n",
    "print(\"Best Params :\", grid_model.best_params_)\n",
    "\n",
    "grid_model.best_estimator_.feature_importances_"
   ]
  },
  {
   "cell_type": "markdown",
   "id": "0b3092ab-cf0b-45d1-b0ec-de2f04abe41b",
   "metadata": {},
   "source": [
    "# ***AdaBoostRegressor***"
   ]
  },
  {
   "cell_type": "code",
   "execution_count": 60,
   "id": "d00ac2ee-75ed-4376-bb17-3412d90ff024",
   "metadata": {},
   "outputs": [
    {
     "name": "stdout",
     "output_type": "stream",
     "text": [
      "Best Params : {'n_estimators': 1}\n"
     ]
    },
    {
     "data": {
      "text/plain": [
       "array([0.28089139, 0.        , 0.05664248, 0.        , 0.66246613])"
      ]
     },
     "execution_count": 60,
     "metadata": {},
     "output_type": "execute_result"
    }
   ],
   "source": [
    "estimator = AdaBoostRegressor(random_state = 0)\n",
    "\n",
    "param_grid = {\"n_estimators\": list(range(1, 40))}\n",
    "\n",
    "grid_model = GridSearchCV(estimator, param_grid, cv = 5, scoring = \"r2\")\n",
    "\n",
    "grid_model.fit(X_train, y_train)\n",
    "\n",
    "print(\"Best Params :\", grid_model.best_params_)\n",
    "\n",
    "grid_model.best_estimator_.feature_importances_"
   ]
  },
  {
   "cell_type": "markdown",
   "id": "2c00c584-63dd-450a-9343-8cf069b91ea8",
   "metadata": {},
   "source": [
    "# ***GradientBoostingRegressor***"
   ]
  },
  {
   "cell_type": "code",
   "execution_count": 61,
   "id": "a08a4b13-3f91-410a-858a-1198872b1131",
   "metadata": {},
   "outputs": [
    {
     "name": "stdout",
     "output_type": "stream",
     "text": [
      "Best Params : {'learning_rate': 0.2, 'n_estimators': 18}\n"
     ]
    },
    {
     "data": {
      "text/plain": [
       "array([0.30491808, 0.00134019, 0.06100893, 0.0230108 , 0.60972199])"
      ]
     },
     "execution_count": 61,
     "metadata": {},
     "output_type": "execute_result"
    }
   ],
   "source": [
    "estimator = GradientBoostingRegressor(random_state = 0)\n",
    "\n",
    "param_grid = {\"n_estimators\": list(range(1, 20)), \"learning_rate\": [0, 0.1, 0.2, 0.3, 0.4, 0.5, 0.6, 0.7, 0.8, 0.9, 1]}\n",
    "\n",
    "grid_model = GridSearchCV(estimator, param_grid, cv = 5, scoring = \"r2\")\n",
    "\n",
    "grid_model.fit(X_train, y_train)\n",
    "\n",
    "print(\"Best Params :\", grid_model.best_params_)\n",
    "\n",
    "grid_model.best_estimator_.feature_importances_"
   ]
  },
  {
   "cell_type": "markdown",
   "id": "17019bf9-8e25-481f-981c-2ad5015954a4",
   "metadata": {},
   "source": [
    "# ***XGBRegressor***"
   ]
  },
  {
   "cell_type": "code",
   "execution_count": 62,
   "id": "8f56c392-e453-4860-97b2-9c92f532950f",
   "metadata": {},
   "outputs": [
    {
     "name": "stdout",
     "output_type": "stream",
     "text": [
      "Best Params : {'gamma': 0.3, 'learning_rate': 0.2, 'n_estimators': 13}\n"
     ]
    },
    {
     "data": {
      "text/plain": [
       "array([0.04038018, 0.0031036 , 0.01093058, 0.00645762, 0.93912804],\n",
       "      dtype=float32)"
      ]
     },
     "execution_count": 62,
     "metadata": {},
     "output_type": "execute_result"
    }
   ],
   "source": [
    "estimator = XGBRegressor(random_state = 0)\n",
    "\n",
    "param_grid = {\"n_estimators\": list(range(1, 20)), \"learning_rate\": [0, 0.1, 0.2, 0.3],\n",
    "             \"gamma\":[0, 0.1, 0.2, 0.3] }\n",
    "\n",
    "grid_model = GridSearchCV(estimator, param_grid, cv = 5, scoring = \"r2\")\n",
    "\n",
    "grid_model.fit(X_train, y_train)\n",
    "\n",
    "print(\"Best Params :\", grid_model.best_params_)\n",
    "\n",
    "grid_model.best_estimator_.feature_importances_"
   ]
  },
  {
   "cell_type": "code",
   "execution_count": null,
   "id": "97d6459f-ab61-4d98-b5c1-0a238bf4d391",
   "metadata": {},
   "outputs": [],
   "source": []
  }
 ],
 "metadata": {
  "kernelspec": {
   "display_name": "Python 3 (ipykernel)",
   "language": "python",
   "name": "python3"
  },
  "language_info": {
   "codemirror_mode": {
    "name": "ipython",
    "version": 3
   },
   "file_extension": ".py",
   "mimetype": "text/x-python",
   "name": "python",
   "nbconvert_exporter": "python",
   "pygments_lexer": "ipython3",
   "version": "3.11.5"
  }
 },
 "nbformat": 4,
 "nbformat_minor": 5
}
