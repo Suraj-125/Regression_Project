{
 "cells": [
  {
   "cell_type": "code",
   "execution_count": 1,
   "id": "78bd7608-c72f-4f3d-8935-7b53e93f2423",
   "metadata": {},
   "outputs": [],
   "source": [
    "import numpy as np\n",
    "import pandas as pd\n",
    "import matplotlib.pyplot as plt\n",
    "import seaborn as sns\n",
    "\n",
    "import warnings\n",
    "warnings.simplefilter(\"ignore\")"
   ]
  },
  {
   "cell_type": "code",
   "execution_count": 62,
   "id": "669dac0f-6fee-4323-834c-201f77c09ead",
   "metadata": {},
   "outputs": [
    {
     "data": {
      "text/html": [
       "<div>\n",
       "<style scoped>\n",
       "    .dataframe tbody tr th:only-of-type {\n",
       "        vertical-align: middle;\n",
       "    }\n",
       "\n",
       "    .dataframe tbody tr th {\n",
       "        vertical-align: top;\n",
       "    }\n",
       "\n",
       "    .dataframe thead th {\n",
       "        text-align: right;\n",
       "    }\n",
       "</style>\n",
       "<table border=\"1\" class=\"dataframe\">\n",
       "  <thead>\n",
       "    <tr style=\"text-align: right;\">\n",
       "      <th></th>\n",
       "      <th>Unnamed: 0</th>\n",
       "      <th>age</th>\n",
       "      <th>sex</th>\n",
       "      <th>bmi</th>\n",
       "      <th>children</th>\n",
       "      <th>smoker</th>\n",
       "      <th>region</th>\n",
       "      <th>expenses</th>\n",
       "    </tr>\n",
       "  </thead>\n",
       "  <tbody>\n",
       "    <tr>\n",
       "      <th>0</th>\n",
       "      <td>0</td>\n",
       "      <td>19</td>\n",
       "      <td>0</td>\n",
       "      <td>27.9</td>\n",
       "      <td>0</td>\n",
       "      <td>1</td>\n",
       "      <td>southwest</td>\n",
       "      <td>16884.92</td>\n",
       "    </tr>\n",
       "    <tr>\n",
       "      <th>1</th>\n",
       "      <td>1</td>\n",
       "      <td>18</td>\n",
       "      <td>1</td>\n",
       "      <td>33.8</td>\n",
       "      <td>1</td>\n",
       "      <td>0</td>\n",
       "      <td>southeast</td>\n",
       "      <td>1725.55</td>\n",
       "    </tr>\n",
       "    <tr>\n",
       "      <th>2</th>\n",
       "      <td>2</td>\n",
       "      <td>28</td>\n",
       "      <td>1</td>\n",
       "      <td>33.0</td>\n",
       "      <td>3</td>\n",
       "      <td>0</td>\n",
       "      <td>southeast</td>\n",
       "      <td>4449.46</td>\n",
       "    </tr>\n",
       "    <tr>\n",
       "      <th>3</th>\n",
       "      <td>3</td>\n",
       "      <td>33</td>\n",
       "      <td>1</td>\n",
       "      <td>22.7</td>\n",
       "      <td>0</td>\n",
       "      <td>0</td>\n",
       "      <td>northwest</td>\n",
       "      <td>21984.47</td>\n",
       "    </tr>\n",
       "    <tr>\n",
       "      <th>4</th>\n",
       "      <td>4</td>\n",
       "      <td>32</td>\n",
       "      <td>1</td>\n",
       "      <td>28.9</td>\n",
       "      <td>0</td>\n",
       "      <td>0</td>\n",
       "      <td>northwest</td>\n",
       "      <td>3866.86</td>\n",
       "    </tr>\n",
       "  </tbody>\n",
       "</table>\n",
       "</div>"
      ],
      "text/plain": [
       "   Unnamed: 0  age  sex   bmi  children  smoker     region  expenses\n",
       "0           0   19    0  27.9         0       1  southwest  16884.92\n",
       "1           1   18    1  33.8         1       0  southeast   1725.55\n",
       "2           2   28    1  33.0         3       0  southeast   4449.46\n",
       "3           3   33    1  22.7         0       0  northwest  21984.47\n",
       "4           4   32    1  28.9         0       0  northwest   3866.86"
      ]
     },
     "execution_count": 62,
     "metadata": {},
     "output_type": "execute_result"
    }
   ],
   "source": [
    "df = pd.read_csv(\"Insurance_Analyzed.csv\")\n",
    "df.head()"
   ]
  },
  {
   "cell_type": "code",
   "execution_count": 63,
   "id": "8f796f6e-0ea7-4dbe-84f4-1bb9c241afed",
   "metadata": {},
   "outputs": [],
   "source": [
    "df.drop([\"Unnamed: 0\", \"region\"], axis = 1, inplace = True)"
   ]
  },
  {
   "cell_type": "markdown",
   "id": "fd92aa0a-0ca2-4c23-90b1-4401a1caaec6",
   "metadata": {},
   "source": [
    "***Train_Test_Split***"
   ]
  },
  {
   "cell_type": "code",
   "execution_count": 64,
   "id": "a719fe29-c71f-47d6-95ba-c2a82def0c0f",
   "metadata": {},
   "outputs": [],
   "source": [
    "X = df.drop(\"expenses\", axis = 1)\n",
    "y = (df[\"expenses\"] ** (1/4))"
   ]
  },
  {
   "cell_type": "code",
   "execution_count": 65,
   "id": "43bd6f86-f83c-42a7-b350-e3e94b114e61",
   "metadata": {},
   "outputs": [],
   "source": [
    "from sklearn.model_selection import train_test_split, cross_val_score, GridSearchCV\n",
    "from sklearn.linear_model import LinearRegression, Ridge, Lasso, ElasticNet\n",
    "from sklearn.svm import SVR\n",
    "from sklearn.neighbors import KNeighborsRegressor\n",
    "from sklearn.tree import DecisionTreeRegressor\n",
    "from sklearn.ensemble import RandomForestRegressor, AdaBoostRegressor, GradientBoostingRegressor\n",
    "from xgboost import XGBRegressor\n",
    "from sklearn.preprocessing import StandardScaler, PolynomialFeatures\n",
    "from sklearn.metrics import mean_absolute_error, mean_squared_error, r2_score, accuracy_score"
   ]
  },
  {
   "cell_type": "code",
   "execution_count": 66,
   "id": "babd4002-3c89-42f6-83a6-095027c798ea",
   "metadata": {},
   "outputs": [],
   "source": [
    "X_train, X_test, y_train, y_test = train_test_split(X, y, test_size = 0.20, random_state = 0)\n",
    "sc = StandardScaler()\n",
    "X_train.loc[:, [\"age\", \"bmi\", \"children\"]] = sc.fit_transform(X_train.loc[:, [\"age\", \"bmi\", \"children\"]])\n",
    "X_test.loc[:, [\"age\", \"bmi\", \"children\"]] = sc.transform(X_test.loc[:, [\"age\", \"bmi\", \"children\"]])"
   ]
  },
  {
   "cell_type": "markdown",
   "id": "65d97792-f8bf-4c30-a8f5-34d4e290d869",
   "metadata": {},
   "source": [
    "# ***Linear Regression***"
   ]
  },
  {
   "cell_type": "code",
   "execution_count": 67,
   "id": "7febb62b-c3c1-45e6-a8db-672b1829fc4b",
   "metadata": {},
   "outputs": [
    {
     "name": "stdout",
     "output_type": "stream",
     "text": [
      "Training Accuracy : 0.7756707009732438\n",
      "Testing Accuracy : 0.7774416801461649\n",
      "Cross Validation Score : 0.7727982141169777\n",
      "MAE : 0.7281463246360949\n"
     ]
    }
   ],
   "source": [
    "li_model = LinearRegression().fit(X_train, y_train)\n",
    "li_pred_test = li_model.predict(X_test)\n",
    "\n",
    "print(\"Training Accuracy :\", li_model.score(X_train, y_train))\n",
    "print(\"Testing Accuracy :\", li_model.score(X_test, y_test))\n",
    "\n",
    "score = cross_val_score(li_model, X_train, y_train, cv = 5).mean()\n",
    "print(\"Cross Validation Score :\", score)\n",
    "\n",
    "print(\"MAE :\", mean_absolute_error(y_test, li_pred_test))"
   ]
  },
  {
   "cell_type": "markdown",
   "id": "1e9ef49e-e35e-4b0f-8378-2e4986f8f13f",
   "metadata": {},
   "source": [
    "# ***Polynomial Regression***"
   ]
  },
  {
   "cell_type": "code",
   "execution_count": 43,
   "id": "3976ff68-4797-49dd-9eb7-d2ec184f33dd",
   "metadata": {},
   "outputs": [],
   "source": [
    "# After Hyperparameter Tunning degree = 1  which indiactes Linear Regression"
   ]
  },
  {
   "cell_type": "markdown",
   "id": "35057820-8d7e-417a-9a7e-3d27add95762",
   "metadata": {},
   "source": [
    "# ***Ridge***"
   ]
  },
  {
   "cell_type": "code",
   "execution_count": 68,
   "id": "d612b837-f10f-486b-b29f-18382cb0d052",
   "metadata": {},
   "outputs": [
    {
     "name": "stdout",
     "output_type": "stream",
     "text": [
      "Training Accuracy : 0.7756705141593476\n",
      "Testing Accuracy : 0.7774377247349412\n",
      "Cross Validation Score : 0.772800422335522\n",
      "MAE : 0.7282628345531125\n"
     ]
    }
   ],
   "source": [
    "ridge_model = Ridge(alpha = 0.1).fit(X_train, y_train)\n",
    "ridge_pred_test = ridge_model.predict(X_test)\n",
    "\n",
    "print(\"Training Accuracy :\", ridge_model.score(X_train, y_train))\n",
    "print(\"Testing Accuracy :\", ridge_model.score(X_test, y_test))\n",
    "\n",
    "score = cross_val_score(ridge_model, X_train, y_train, cv = 5).mean()\n",
    "print(\"Cross Validation Score :\", score)\n",
    "\n",
    "print(\"MAE :\", mean_absolute_error(y_test, ridge_pred_test))"
   ]
  },
  {
   "cell_type": "markdown",
   "id": "df0b2e77-a14b-424b-bcfb-b8f0564f4c64",
   "metadata": {},
   "source": [
    "# ***Lasso***"
   ]
  },
  {
   "cell_type": "code",
   "execution_count": 69,
   "id": "70802354-9fd9-4fe8-a073-c19fd51416e7",
   "metadata": {},
   "outputs": [
    {
     "name": "stdout",
     "output_type": "stream",
     "text": [
      "Training Accuracy : 0.7756679954091377\n",
      "Testing Accuracy : 0.777345736538896\n",
      "Cross Validation Score : 0.7727986794799785\n",
      "MAE : 0.7284826545308474\n"
     ]
    }
   ],
   "source": [
    "lasso_model = Lasso(alpha = 0.001).fit(X_train, y_train)\n",
    "lasso_pred_test = lasso_model.predict(X_test)\n",
    "\n",
    "print(\"Training Accuracy :\", lasso_model.score(X_train, y_train))\n",
    "print(\"Testing Accuracy :\", lasso_model.score(X_test, y_test))\n",
    "\n",
    "score = cross_val_score(lasso_model, X_train, y_train, cv = 5).mean()\n",
    "print(\"Cross Validation Score :\", score)\n",
    "\n",
    "print(\"MAE :\", mean_absolute_error(y_test, lasso_pred_test))"
   ]
  },
  {
   "cell_type": "markdown",
   "id": "e3db3be6-c6bd-4ff8-aa72-418963024086",
   "metadata": {},
   "source": [
    "# ***ElasticNet***"
   ]
  },
  {
   "cell_type": "code",
   "execution_count": 70,
   "id": "d8c6d480-3aec-465d-92af-27afff3bc60e",
   "metadata": {},
   "outputs": [
    {
     "name": "stdout",
     "output_type": "stream",
     "text": [
      "Training Accuracy : 0.7756495899580139\n",
      "Testing Accuracy : 0.777381572206812\n",
      "Cross Validation Score : 0.7727977864985611\n",
      "MAE : 0.7293857322924027\n"
     ]
    }
   ],
   "source": [
    "elastic_model = ElasticNet(alpha = 0.001, l1_ratio = 0).fit(X_train, y_train)\n",
    "elastic_pred_test = elastic_model.predict(X_test)\n",
    "\n",
    "print(\"Training Accuracy :\", elastic_model.score(X_train, y_train))\n",
    "print(\"Testing Accuracy :\", elastic_model.score(X_test, y_test))\n",
    "\n",
    "score = cross_val_score(elastic_model, X_train, y_train, cv = 5).mean()\n",
    "print(\"Cross Validation Score :\", score)\n",
    "\n",
    "print(\"MAE :\", mean_absolute_error(y_test, elastic_pred_test))"
   ]
  },
  {
   "cell_type": "markdown",
   "id": "f74cc747-b540-4ae7-8fe1-22a7849d0aa4",
   "metadata": {},
   "source": [
    "# ***Support Vector Machine - SVR***"
   ]
  },
  {
   "cell_type": "code",
   "execution_count": 71,
   "id": "26367a0f-e563-40ef-b14c-d1e5f89d6453",
   "metadata": {},
   "outputs": [
    {
     "name": "stdout",
     "output_type": "stream",
     "text": [
      "Training Accuracy : 0.8270235199953618\n",
      "Testing Accuracy : 0.8328535345751463\n",
      "Cross Validation Score : 0.8160320542165544\n",
      "MAE : 0.4384033042401969\n"
     ]
    }
   ],
   "source": [
    "svm_model = SVR(C = 10, kernel = \"rbf\").fit(X_train, y_train)\n",
    "svm_pred_test = svm_model.predict(X_test)\n",
    "\n",
    "print(\"Training Accuracy :\", svm_model.score(X_train, y_train))\n",
    "print(\"Testing Accuracy :\", svm_model.score(X_test, y_test))\n",
    "\n",
    "score = cross_val_score(svm_model, X_train, y_train, cv = 5).mean()\n",
    "print(\"Cross Validation Score :\", score)\n",
    "\n",
    "print(\"MAE :\", mean_absolute_error(y_test, svm_pred_test))"
   ]
  },
  {
   "cell_type": "markdown",
   "id": "5a21dd7f-bce2-4d9c-b69b-870f1b3918dc",
   "metadata": {},
   "source": [
    "# ***KNearestNeighbors - KNeighborsRegressor***"
   ]
  },
  {
   "cell_type": "code",
   "execution_count": 73,
   "id": "91b85763-04c5-4c9e-9edf-274d24a8a38f",
   "metadata": {},
   "outputs": [
    {
     "name": "stdout",
     "output_type": "stream",
     "text": [
      "Training Accuracy : 0.827245463910096\n",
      "Testing Accuracy : 0.778508364699954\n",
      "Cross Validation Score : 0.7491571237567923\n",
      "MAE : 0.6871901909977165\n"
     ]
    }
   ],
   "source": [
    "knn_model = KNeighborsRegressor(n_neighbors = 6).fit(X_train, y_train)\n",
    "knn_pred_test = knn_model.predict(X_test)\n",
    "\n",
    "print(\"Training Accuracy :\", knn_model.score(X_train, y_train))\n",
    "print(\"Testing Accuracy :\", knn_model.score(X_test, y_test))\n",
    "\n",
    "score = cross_val_score(knn_model, X_train, y_train, cv = 5).mean()\n",
    "print(\"Cross Validation Score :\", score)\n",
    "\n",
    "print(\"MAE :\", mean_absolute_error(y_test, knn_pred_test))"
   ]
  },
  {
   "cell_type": "markdown",
   "id": "7f081bef-48fb-46c9-b2bf-2f19eaa1725e",
   "metadata": {},
   "source": [
    "# ***Decision Tree - DecisionTreeRegressor***"
   ]
  },
  {
   "cell_type": "code",
   "execution_count": 74,
   "id": "7000c2db-212d-45ed-bd38-d127e6a2113f",
   "metadata": {},
   "outputs": [
    {
     "name": "stdout",
     "output_type": "stream",
     "text": [
      "Training Accuracy : 0.8365960723009352\n",
      "Testing Accuracy : 0.8308490658722979\n",
      "Cross Validation Score : 0.818685541624299\n",
      "MAE : 0.5946100303222766\n"
     ]
    }
   ],
   "source": [
    "decision_model = DecisionTreeRegressor(max_depth = 4, random_state = 0).fit(X_train, y_train)\n",
    "decision_pred_test = decision_model.predict(X_test)\n",
    "\n",
    "print(\"Training Accuracy :\", decision_model.score(X_train, y_train))\n",
    "print(\"Testing Accuracy :\", decision_model.score(X_test, y_test))\n",
    "\n",
    "score = cross_val_score(decision_model, X_train, y_train, cv = 5).mean()\n",
    "print(\"Cross Validation Score :\", score)\n",
    "\n",
    "print(\"MAE :\", mean_absolute_error(y_test, decision_pred_test))"
   ]
  },
  {
   "cell_type": "markdown",
   "id": "c647ff55-23a3-4586-8eb7-ada350b2c964",
   "metadata": {},
   "source": [
    "# ***RandomForestRegressor***"
   ]
  },
  {
   "cell_type": "code",
   "execution_count": 76,
   "id": "33273aa9-5802-4d47-a550-62ed8df30e29",
   "metadata": {},
   "outputs": [
    {
     "name": "stdout",
     "output_type": "stream",
     "text": [
      "Training Accuracy : 0.9636846773056985\n",
      "Testing Accuracy : 0.819008235503097\n",
      "Cross Validation Score : 0.78408320348403\n",
      "MAE : 0.5756904471946709\n"
     ]
    }
   ],
   "source": [
    "random_forest_model = RandomForestRegressor(n_estimators = 32, random_state = 0).fit(X_train, y_train)\n",
    "random_forest_pred_test = random_forest_model.predict(X_test)\n",
    "\n",
    "print(\"Training Accuracy :\", random_forest_model.score(X_train, y_train))\n",
    "print(\"Testing Accuracy :\", random_forest_model.score(X_test, y_test))\n",
    "\n",
    "score = cross_val_score(random_forest_model, X_train, y_train, cv = 5).mean()\n",
    "print(\"Cross Validation Score :\", score)\n",
    "\n",
    "print(\"MAE :\", mean_absolute_error(y_test, random_forest_pred_test))"
   ]
  },
  {
   "cell_type": "markdown",
   "id": "422d8a12-5877-4fb9-ae7e-ceb4f6ebdce6",
   "metadata": {},
   "source": [
    "# ***AdaBoostRegressor***"
   ]
  },
  {
   "cell_type": "code",
   "execution_count": 78,
   "id": "2a610fb0-1405-479b-98e1-775bf6fe02ce",
   "metadata": {},
   "outputs": [
    {
     "name": "stdout",
     "output_type": "stream",
     "text": [
      "Training Accuracy : 0.8147174752898869\n",
      "Testing Accuracy : 0.7926018798821244\n",
      "Cross Validation Score : 0.79864356151723\n",
      "MAE : 0.6768659218937322\n"
     ]
    }
   ],
   "source": [
    "ada_model = AdaBoostRegressor(n_estimators = 1, random_state = 0).fit(X_train, y_train)\n",
    "ada_pred_test = ada_model.predict(X_test)\n",
    "\n",
    "print(\"Training Accuracy :\", ada_model.score(X_train, y_train))\n",
    "print(\"Testing Accuracy :\", ada_model.score(X_test, y_test))\n",
    "\n",
    "score = cross_val_score(ada_model, X_train, y_train, cv = 5).mean()\n",
    "print(\"Cross Validation Score :\", score)\n",
    "\n",
    "print(\"MAE :\", mean_absolute_error(y_test, ada_pred_test))"
   ]
  },
  {
   "cell_type": "markdown",
   "id": "1bf0171b-1dc1-4819-98f1-195e8343329a",
   "metadata": {},
   "source": [
    "# ***GradientBoostingRegressor***"
   ]
  },
  {
   "cell_type": "code",
   "execution_count": 81,
   "id": "214a7b44-6f30-4ad7-89b1-7ef08c84d7a6",
   "metadata": {},
   "outputs": [
    {
     "name": "stdout",
     "output_type": "stream",
     "text": [
      "Training Accuracy : 0.8493908270734798\n",
      "Testing Accuracy : 0.842541145547055\n",
      "Cross Validation Score : 0.8300996865355259\n",
      "MAE : 0.5513492130166268\n"
     ]
    }
   ],
   "source": [
    "gradient_model = GradientBoostingRegressor(learning_rate = 0.2, n_estimators = 18, random_state = 0).fit(X_train, y_train)\n",
    "gradient_pred_test = gradient_model.predict(X_test)\n",
    "\n",
    "print(\"Training Accuracy :\", gradient_model.score(X_train, y_train))\n",
    "print(\"Testing Accuracy :\", gradient_model.score(X_test, y_test))\n",
    "\n",
    "score = cross_val_score(gradient_model, X_train, y_train, cv = 5).mean()\n",
    "print(\"Cross Validation Score :\", score)\n",
    "\n",
    "print(\"MAE :\", mean_absolute_error(y_test, gradient_pred_test))"
   ]
  },
  {
   "cell_type": "markdown",
   "id": "d51508ac-254e-49b3-971e-6e7fc7a8de88",
   "metadata": {},
   "source": [
    "# ***XGBRegressor***"
   ]
  },
  {
   "cell_type": "code",
   "execution_count": 82,
   "id": "969b9851-aa2d-41b2-878e-ef7ff6cc4c1d",
   "metadata": {},
   "outputs": [
    {
     "name": "stdout",
     "output_type": "stream",
     "text": [
      "Training Accuracy : 0.888257068058494\n",
      "Testing Accuracy : 0.8269033337873133\n",
      "Cross Validation Score : 0.8118259042037727\n",
      "MAE : 0.5954070934307115\n"
     ]
    }
   ],
   "source": [
    "xgb_model = XGBRegressor(n_estimators = 13, learning_rate = 0.2, gamma = 0.3, random_state = 0).fit(X_train, y_train)\n",
    "xgb_pred_test = xgb_model.predict(X_test)\n",
    "\n",
    "print(\"Training Accuracy :\", xgb_model.score(X_train, y_train))\n",
    "print(\"Testing Accuracy :\", xgb_model.score(X_test, y_test))\n",
    "\n",
    "score = cross_val_score(xgb_model, X_train, y_train, cv = 5).mean()\n",
    "print(\"Cross Validation Score :\", score)\n",
    "\n",
    "print(\"MAE :\", mean_absolute_error(y_test, xgb_pred_test))"
   ]
  },
  {
   "cell_type": "markdown",
   "id": "51d5bc2c-bbea-4376-b6ab-34ada0a7704f",
   "metadata": {},
   "source": [
    "# ***Final Model***"
   ]
  },
  {
   "cell_type": "code",
   "execution_count": 120,
   "id": "32f13a4f-611e-47a6-b6c9-3c00c62fc436",
   "metadata": {},
   "outputs": [
    {
     "name": "stdout",
     "output_type": "stream",
     "text": [
      "Training Accuracy : 0.9988502312675592\n",
      "Testing Accuracy : 0.9853348392640189\n",
      "Cross Validation Score : 0.9785454046018517\n",
      "MAE : 465.5312141359818\n"
     ]
    }
   ],
   "source": [
    "X_train, X_test, y_train, y_test = train_test_split(X, y, test_size = 0.15, random_state = 3)\n",
    "sc = StandardScaler()\n",
    "X_train = sc.fit_transform(X_train)\n",
    "X_test = sc.transform(X_test)\n",
    "\n",
    "gradient_model = GradientBoostingRegressor(learning_rate = 0.2, n_estimators = 55, random_state = 0).fit(X_train, y_train)\n",
    "gradient_pred_test = gradient_model.predict(X_test)\n",
    "\n",
    "print(\"Training Accuracy :\", gradient_model.score(X_train, y_train))\n",
    "print(\"Testing Accuracy :\", gradient_model.score(X_test, y_test))\n",
    "\n",
    "score = cross_val_score(gradient_model, X_train, y_train, cv = 5).mean()\n",
    "print(\"Cross Validation Score :\", score)\n",
    "\n",
    "print(\"MAE :\", mean_absolute_error(y_test, gradient_pred_test))"
   ]
  },
  {
   "cell_type": "markdown",
   "id": "2814d44d-6184-4a69-951b-03aaba4648af",
   "metadata": {},
   "source": [
    "***Prediction on New Data***"
   ]
  },
  {
   "cell_type": "code",
   "execution_count": 101,
   "id": "974203ef-ded0-4626-8078-1c34a2726b61",
   "metadata": {},
   "outputs": [
    {
     "name": "stdin",
     "output_type": "stream",
     "text": [
      "Enter Age :  32\n",
      "Type your Gender:  male\n",
      "Enter your BMI: 28.9\n",
      "Enter number of children : 0\n",
      "Are you a smoker ? no\n",
      "In which region you belong: northeast\n"
     ]
    },
    {
     "name": "stdout",
     "output_type": "stream",
     "text": [
      "________________________________________________\n",
      "Predicted Value : 4152.99\n",
      "________________________________________________\n"
     ]
    }
   ],
   "source": [
    "age = int(input(\"Enter Age : \"))\n",
    "gender = input(\"Type your Gender: \").lower()\n",
    "bmi = float(input(\"Enter your BMI:\"))\n",
    "children = int(input(\"Enter number of children :\"))\n",
    "smoker = input(\"Are you a smoker ?\").lower()\n",
    "region = input(\"In which region you belong:\")\n",
    "\n",
    "new_data = pd.DataFrame({\"age\": age, \"sex\": gender, \"bmi\": bmi, \"children\": children, \"smoker\": smoker, \"region\": region}, index = [0])\n",
    "\n",
    "new_data[\"sex\"].replace({\"male\": 1, \"female\": 0}, inplace = True)\n",
    "new_data[\"smoker\"].replace({\"yes\": 1, \"no\": 0}, inplace = True)\n",
    "new_data.drop(\"region\", axis = 1, inplace = True)\n",
    "\n",
    "new_data.loc[:, [\"age\", \"bmi\", \"children\"]] = sc.transform(new_data.loc[:, [\"age\", \"bmi\", \"children\"]])\n",
    "predict_value = gradient_model.predict(new_data)\n",
    "\n",
    "print(\"________________________________________________\")\n",
    "print(\"Predicted Value :\", round((predict_value[0]) ** (4), 2))\n",
    "print(\"________________________________________________\")"
   ]
  },
  {
   "cell_type": "code",
   "execution_count": 102,
   "id": "550e141e-5f0f-4bb0-b675-edbff3f06614",
   "metadata": {},
   "outputs": [],
   "source": [
    "import pickle\n",
    "with open(\"insurance_gradient_model.pickle\", \"wb\") as f:\n",
    "    pickle.dump(gradient_model, f)"
   ]
  },
  {
   "cell_type": "code",
   "execution_count": 84,
   "id": "38493176-a62c-4c5d-8571-dd4d80bc5b6d",
   "metadata": {},
   "outputs": [
    {
     "data": {
      "text/html": [
       "<div>\n",
       "<style scoped>\n",
       "    .dataframe tbody tr th:only-of-type {\n",
       "        vertical-align: middle;\n",
       "    }\n",
       "\n",
       "    .dataframe tbody tr th {\n",
       "        vertical-align: top;\n",
       "    }\n",
       "\n",
       "    .dataframe thead th {\n",
       "        text-align: right;\n",
       "    }\n",
       "</style>\n",
       "<table border=\"1\" class=\"dataframe\">\n",
       "  <thead>\n",
       "    <tr style=\"text-align: right;\">\n",
       "      <th></th>\n",
       "      <th>age</th>\n",
       "      <th>sex</th>\n",
       "      <th>bmi</th>\n",
       "      <th>children</th>\n",
       "      <th>smoker</th>\n",
       "      <th>expenses</th>\n",
       "    </tr>\n",
       "  </thead>\n",
       "  <tbody>\n",
       "    <tr>\n",
       "      <th>0</th>\n",
       "      <td>19</td>\n",
       "      <td>0</td>\n",
       "      <td>27.9</td>\n",
       "      <td>0</td>\n",
       "      <td>1</td>\n",
       "      <td>16884.92</td>\n",
       "    </tr>\n",
       "    <tr>\n",
       "      <th>1</th>\n",
       "      <td>18</td>\n",
       "      <td>1</td>\n",
       "      <td>33.8</td>\n",
       "      <td>1</td>\n",
       "      <td>0</td>\n",
       "      <td>1725.55</td>\n",
       "    </tr>\n",
       "    <tr>\n",
       "      <th>2</th>\n",
       "      <td>28</td>\n",
       "      <td>1</td>\n",
       "      <td>33.0</td>\n",
       "      <td>3</td>\n",
       "      <td>0</td>\n",
       "      <td>4449.46</td>\n",
       "    </tr>\n",
       "    <tr>\n",
       "      <th>3</th>\n",
       "      <td>33</td>\n",
       "      <td>1</td>\n",
       "      <td>22.7</td>\n",
       "      <td>0</td>\n",
       "      <td>0</td>\n",
       "      <td>21984.47</td>\n",
       "    </tr>\n",
       "    <tr>\n",
       "      <th>4</th>\n",
       "      <td>32</td>\n",
       "      <td>1</td>\n",
       "      <td>28.9</td>\n",
       "      <td>0</td>\n",
       "      <td>0</td>\n",
       "      <td>3866.86</td>\n",
       "    </tr>\n",
       "    <tr>\n",
       "      <th>...</th>\n",
       "      <td>...</td>\n",
       "      <td>...</td>\n",
       "      <td>...</td>\n",
       "      <td>...</td>\n",
       "      <td>...</td>\n",
       "      <td>...</td>\n",
       "    </tr>\n",
       "    <tr>\n",
       "      <th>1332</th>\n",
       "      <td>50</td>\n",
       "      <td>1</td>\n",
       "      <td>31.0</td>\n",
       "      <td>3</td>\n",
       "      <td>0</td>\n",
       "      <td>10600.55</td>\n",
       "    </tr>\n",
       "    <tr>\n",
       "      <th>1333</th>\n",
       "      <td>18</td>\n",
       "      <td>0</td>\n",
       "      <td>31.9</td>\n",
       "      <td>0</td>\n",
       "      <td>0</td>\n",
       "      <td>2205.98</td>\n",
       "    </tr>\n",
       "    <tr>\n",
       "      <th>1334</th>\n",
       "      <td>18</td>\n",
       "      <td>0</td>\n",
       "      <td>36.9</td>\n",
       "      <td>0</td>\n",
       "      <td>0</td>\n",
       "      <td>1629.83</td>\n",
       "    </tr>\n",
       "    <tr>\n",
       "      <th>1335</th>\n",
       "      <td>21</td>\n",
       "      <td>0</td>\n",
       "      <td>25.8</td>\n",
       "      <td>0</td>\n",
       "      <td>0</td>\n",
       "      <td>2007.95</td>\n",
       "    </tr>\n",
       "    <tr>\n",
       "      <th>1336</th>\n",
       "      <td>61</td>\n",
       "      <td>0</td>\n",
       "      <td>29.1</td>\n",
       "      <td>0</td>\n",
       "      <td>1</td>\n",
       "      <td>29141.36</td>\n",
       "    </tr>\n",
       "  </tbody>\n",
       "</table>\n",
       "<p>1337 rows × 6 columns</p>\n",
       "</div>"
      ],
      "text/plain": [
       "      age  sex   bmi  children  smoker  expenses\n",
       "0      19    0  27.9         0       1  16884.92\n",
       "1      18    1  33.8         1       0   1725.55\n",
       "2      28    1  33.0         3       0   4449.46\n",
       "3      33    1  22.7         0       0  21984.47\n",
       "4      32    1  28.9         0       0   3866.86\n",
       "...   ...  ...   ...       ...     ...       ...\n",
       "1332   50    1  31.0         3       0  10600.55\n",
       "1333   18    0  31.9         0       0   2205.98\n",
       "1334   18    0  36.9         0       0   1629.83\n",
       "1335   21    0  25.8         0       0   2007.95\n",
       "1336   61    0  29.1         0       1  29141.36\n",
       "\n",
       "[1337 rows x 6 columns]"
      ]
     },
     "execution_count": 84,
     "metadata": {},
     "output_type": "execute_result"
    }
   ],
   "source": [
    "df"
   ]
  },
  {
   "cell_type": "code",
   "execution_count": null,
   "id": "578d0039-c98c-4a59-8631-40f4070493f5",
   "metadata": {},
   "outputs": [],
   "source": []
  }
 ],
 "metadata": {
  "kernelspec": {
   "display_name": "Python 3 (ipykernel)",
   "language": "python",
   "name": "python3"
  },
  "language_info": {
   "codemirror_mode": {
    "name": "ipython",
    "version": 3
   },
   "file_extension": ".py",
   "mimetype": "text/x-python",
   "name": "python",
   "nbconvert_exporter": "python",
   "pygments_lexer": "ipython3",
   "version": "3.11.5"
  }
 },
 "nbformat": 4,
 "nbformat_minor": 5
}
