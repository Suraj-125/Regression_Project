{
 "cells": [
  {
   "cell_type": "code",
   "execution_count": 12,
   "id": "78bd7608-c72f-4f3d-8935-7b53e93f2423",
   "metadata": {},
   "outputs": [],
   "source": [
    "import numpy as np\n",
    "import pandas as pd\n",
    "import matplotlib.pyplot as plt\n",
    "import seaborn as sns\n",
    "\n",
    "import warnings\n",
    "warnings.simplefilter(\"ignore\")"
   ]
  },
  {
   "cell_type": "code",
   "execution_count": 3,
   "id": "669dac0f-6fee-4323-834c-201f77c09ead",
   "metadata": {},
   "outputs": [
    {
     "data": {
      "text/html": [
       "<div>\n",
       "<style scoped>\n",
       "    .dataframe tbody tr th:only-of-type {\n",
       "        vertical-align: middle;\n",
       "    }\n",
       "\n",
       "    .dataframe tbody tr th {\n",
       "        vertical-align: top;\n",
       "    }\n",
       "\n",
       "    .dataframe thead th {\n",
       "        text-align: right;\n",
       "    }\n",
       "</style>\n",
       "<table border=\"1\" class=\"dataframe\">\n",
       "  <thead>\n",
       "    <tr style=\"text-align: right;\">\n",
       "      <th></th>\n",
       "      <th>TV</th>\n",
       "      <th>radio</th>\n",
       "      <th>newspaper</th>\n",
       "      <th>sales</th>\n",
       "    </tr>\n",
       "  </thead>\n",
       "  <tbody>\n",
       "    <tr>\n",
       "      <th>0</th>\n",
       "      <td>230100</td>\n",
       "      <td>37800</td>\n",
       "      <td>69200</td>\n",
       "      <td>22100</td>\n",
       "    </tr>\n",
       "    <tr>\n",
       "      <th>1</th>\n",
       "      <td>44500</td>\n",
       "      <td>39300</td>\n",
       "      <td>45100</td>\n",
       "      <td>10400</td>\n",
       "    </tr>\n",
       "    <tr>\n",
       "      <th>2</th>\n",
       "      <td>17200</td>\n",
       "      <td>45900</td>\n",
       "      <td>69300</td>\n",
       "      <td>9300</td>\n",
       "    </tr>\n",
       "    <tr>\n",
       "      <th>3</th>\n",
       "      <td>151500</td>\n",
       "      <td>41300</td>\n",
       "      <td>58500</td>\n",
       "      <td>18500</td>\n",
       "    </tr>\n",
       "    <tr>\n",
       "      <th>4</th>\n",
       "      <td>180800</td>\n",
       "      <td>10800</td>\n",
       "      <td>58400</td>\n",
       "      <td>12900</td>\n",
       "    </tr>\n",
       "  </tbody>\n",
       "</table>\n",
       "</div>"
      ],
      "text/plain": [
       "       TV  radio  newspaper  sales\n",
       "0  230100  37800      69200  22100\n",
       "1   44500  39300      45100  10400\n",
       "2   17200  45900      69300   9300\n",
       "3  151500  41300      58500  18500\n",
       "4  180800  10800      58400  12900"
      ]
     },
     "execution_count": 3,
     "metadata": {},
     "output_type": "execute_result"
    }
   ],
   "source": [
    "df = pd.read_csv(\"sales.csv\")\n",
    "df.head()"
   ]
  },
  {
   "cell_type": "markdown",
   "id": "8306cdf8-d8ea-4757-a830-6bf3decafdfe",
   "metadata": {},
   "source": [
    "# ***Data Understanding***"
   ]
  },
  {
   "cell_type": "code",
   "execution_count": 4,
   "id": "a546c8b4-edd0-4ca1-8fc0-554d24a416e1",
   "metadata": {},
   "outputs": [
    {
     "data": {
      "text/plain": [
       "(200, 4)"
      ]
     },
     "execution_count": 4,
     "metadata": {},
     "output_type": "execute_result"
    }
   ],
   "source": [
    "df.shape"
   ]
  },
  {
   "cell_type": "code",
   "execution_count": 6,
   "id": "5fadb2ad-4d18-480d-bbc1-62d09ac68eef",
   "metadata": {},
   "outputs": [
    {
     "name": "stdout",
     "output_type": "stream",
     "text": [
      "<class 'pandas.core.frame.DataFrame'>\n",
      "RangeIndex: 200 entries, 0 to 199\n",
      "Data columns (total 4 columns):\n",
      " #   Column     Non-Null Count  Dtype\n",
      "---  ------     --------------  -----\n",
      " 0   TV         200 non-null    int64\n",
      " 1   radio      200 non-null    int64\n",
      " 2   newspaper  200 non-null    int64\n",
      " 3   sales      200 non-null    int64\n",
      "dtypes: int64(4)\n",
      "memory usage: 6.4 KB\n"
     ]
    }
   ],
   "source": [
    "df.info()"
   ]
  },
  {
   "cell_type": "code",
   "execution_count": 5,
   "id": "3c57454b-8db8-444e-ab2f-3236df6fa24d",
   "metadata": {},
   "outputs": [
    {
     "data": {
      "text/html": [
       "<div>\n",
       "<style scoped>\n",
       "    .dataframe tbody tr th:only-of-type {\n",
       "        vertical-align: middle;\n",
       "    }\n",
       "\n",
       "    .dataframe tbody tr th {\n",
       "        vertical-align: top;\n",
       "    }\n",
       "\n",
       "    .dataframe thead th {\n",
       "        text-align: right;\n",
       "    }\n",
       "</style>\n",
       "<table border=\"1\" class=\"dataframe\">\n",
       "  <thead>\n",
       "    <tr style=\"text-align: right;\">\n",
       "      <th></th>\n",
       "      <th>TV</th>\n",
       "      <th>radio</th>\n",
       "      <th>newspaper</th>\n",
       "      <th>sales</th>\n",
       "    </tr>\n",
       "  </thead>\n",
       "  <tbody>\n",
       "    <tr>\n",
       "      <th>count</th>\n",
       "      <td>200.000000</td>\n",
       "      <td>200.000000</td>\n",
       "      <td>200.000000</td>\n",
       "      <td>200.000000</td>\n",
       "    </tr>\n",
       "    <tr>\n",
       "      <th>mean</th>\n",
       "      <td>147042.500000</td>\n",
       "      <td>23264.000000</td>\n",
       "      <td>30554.000000</td>\n",
       "      <td>14022.500000</td>\n",
       "    </tr>\n",
       "    <tr>\n",
       "      <th>std</th>\n",
       "      <td>85854.236315</td>\n",
       "      <td>14846.809176</td>\n",
       "      <td>21778.620839</td>\n",
       "      <td>5217.456566</td>\n",
       "    </tr>\n",
       "    <tr>\n",
       "      <th>min</th>\n",
       "      <td>700.000000</td>\n",
       "      <td>0.000000</td>\n",
       "      <td>300.000000</td>\n",
       "      <td>1600.000000</td>\n",
       "    </tr>\n",
       "    <tr>\n",
       "      <th>25%</th>\n",
       "      <td>74375.000000</td>\n",
       "      <td>9975.000000</td>\n",
       "      <td>12750.000000</td>\n",
       "      <td>10375.000000</td>\n",
       "    </tr>\n",
       "    <tr>\n",
       "      <th>50%</th>\n",
       "      <td>149750.000000</td>\n",
       "      <td>22900.000000</td>\n",
       "      <td>25750.000000</td>\n",
       "      <td>12900.000000</td>\n",
       "    </tr>\n",
       "    <tr>\n",
       "      <th>75%</th>\n",
       "      <td>218825.000000</td>\n",
       "      <td>36525.000000</td>\n",
       "      <td>45100.000000</td>\n",
       "      <td>17400.000000</td>\n",
       "    </tr>\n",
       "    <tr>\n",
       "      <th>max</th>\n",
       "      <td>296400.000000</td>\n",
       "      <td>49600.000000</td>\n",
       "      <td>114000.000000</td>\n",
       "      <td>27000.000000</td>\n",
       "    </tr>\n",
       "  </tbody>\n",
       "</table>\n",
       "</div>"
      ],
      "text/plain": [
       "                  TV         radio      newspaper         sales\n",
       "count     200.000000    200.000000     200.000000    200.000000\n",
       "mean   147042.500000  23264.000000   30554.000000  14022.500000\n",
       "std     85854.236315  14846.809176   21778.620839   5217.456566\n",
       "min       700.000000      0.000000     300.000000   1600.000000\n",
       "25%     74375.000000   9975.000000   12750.000000  10375.000000\n",
       "50%    149750.000000  22900.000000   25750.000000  12900.000000\n",
       "75%    218825.000000  36525.000000   45100.000000  17400.000000\n",
       "max    296400.000000  49600.000000  114000.000000  27000.000000"
      ]
     },
     "execution_count": 5,
     "metadata": {},
     "output_type": "execute_result"
    }
   ],
   "source": [
    "df.describe()"
   ]
  },
  {
   "cell_type": "code",
   "execution_count": 7,
   "id": "78eb6b5c-edd6-47df-9a43-f45e8ade713c",
   "metadata": {},
   "outputs": [
    {
     "data": {
      "text/plain": [
       "TV           0\n",
       "radio        0\n",
       "newspaper    0\n",
       "sales        0\n",
       "dtype: int64"
      ]
     },
     "execution_count": 7,
     "metadata": {},
     "output_type": "execute_result"
    }
   ],
   "source": [
    "df.isna().sum()"
   ]
  },
  {
   "cell_type": "code",
   "execution_count": 8,
   "id": "61084289-f74e-4da6-8b52-9c7bf884239d",
   "metadata": {},
   "outputs": [
    {
     "data": {
      "text/plain": [
       "0"
      ]
     },
     "execution_count": 8,
     "metadata": {},
     "output_type": "execute_result"
    }
   ],
   "source": [
    "df.duplicated().sum()"
   ]
  },
  {
   "cell_type": "markdown",
   "id": "00d98487-e346-4617-9a45-6d6178a8f5b9",
   "metadata": {},
   "source": [
    "***Sales***"
   ]
  },
  {
   "cell_type": "code",
   "execution_count": 16,
   "id": "967df982-6f30-41f7-9470-cfee450ff6bc",
   "metadata": {},
   "outputs": [
    {
     "data": {
      "image/png": "[encoded data removed]",
      "text/plain": [
       "<Figure size 640x480 with 1 Axes>"
      ]
     },
     "metadata": {},
     "output_type": "display_data"
    }
   ],
   "source": [
    "sns.histplot(df[\"sales\"], kde = True)\n",
    "plt.show()"
   ]
  },
  {
   "cell_type": "markdown",
   "id": "ee4e314a-8e05-4193-9021-c788cd540b4f",
   "metadata": {},
   "source": [
    "***TV***"
   ]
  },
  {
   "cell_type": "code",
   "execution_count": 13,
   "id": "0f5a9407-bc3d-423f-9450-26d638ab5891",
   "metadata": {},
   "outputs": [
    {
     "data": {
      "image/png": "[encoded data removed]",
      "text/plain": [
       "<Figure size 640x480 with 1 Axes>"
      ]
     },
     "metadata": {},
     "output_type": "display_data"
    }
   ],
   "source": [
    "sns.histplot(df[\"TV\"], kde = True)\n",
    "plt.show()"
   ]
  },
  {
   "cell_type": "code",
   "execution_count": 20,
   "id": "54bb5e36-85c0-4291-8069-bc43f9e548c1",
   "metadata": {},
   "outputs": [
    {
     "data": {
      "image/png": "[encoded data removed]",
      "text/plain": [
       "<Figure size 640x480 with 1 Axes>"
      ]
     },
     "metadata": {},
     "output_type": "display_data"
    }
   ],
   "source": [
    "sns.scatterplot(x = df[\"TV\"], y = df[\"sales\"])\n",
    "plt.show()"
   ]
  },
  {
   "cell_type": "markdown",
   "id": "8429974f-4fb6-4852-993e-388decbe0a4b",
   "metadata": {},
   "source": [
    "***Radio***"
   ]
  },
  {
   "cell_type": "code",
   "execution_count": 23,
   "id": "2f68a628-0e57-4787-8b7e-a79c7f8fffb0",
   "metadata": {},
   "outputs": [
    {
     "data": {
      "image/png": "[encoded data removed]",
      "text/plain": [
       "<Figure size 640x480 with 1 Axes>"
      ]
     },
     "metadata": {},
     "output_type": "display_data"
    }
   ],
   "source": [
    "sns.histplot(df[\"radio\"], kde = True)\n",
    "plt.show()"
   ]
  },
  {
   "cell_type": "code",
   "execution_count": 24,
   "id": "f260f55b-0b82-4482-b1db-1f2c8669b8dd",
   "metadata": {},
   "outputs": [
    {
     "data": {
      "image/png": "[encoded data removed]",
      "text/plain": [
       "<Figure size 640x480 with 1 Axes>"
      ]
     },
     "metadata": {},
     "output_type": "display_data"
    }
   ],
   "source": [
    "sns.scatterplot(x = df[\"radio\"], y = df[\"sales\"])\n",
    "plt.show()"
   ]
  },
  {
   "cell_type": "markdown",
   "id": "ecf7aa06-12f2-4c97-ab64-fd29f56e9367",
   "metadata": {},
   "source": [
    "***Newspaper***"
   ]
  },
  {
   "cell_type": "code",
   "execution_count": 27,
   "id": "3e62da9f-51d5-4a46-aa8d-a2c554088a9e",
   "metadata": {},
   "outputs": [
    {
     "data": {
      "image/png": "[encoded data removed]",
      "text/plain": [
       "<Figure size 640x480 with 1 Axes>"
      ]
     },
     "metadata": {},
     "output_type": "display_data"
    }
   ],
   "source": [
    "sns.histplot(df[\"newspaper\"], kde = True)\n",
    "plt.show()"
   ]
  },
  {
   "cell_type": "code",
   "execution_count": 28,
   "id": "f0382a57-76c9-41e6-b1b8-e148d0dd29fa",
   "metadata": {},
   "outputs": [
    {
     "data": {
      "image/png": "[encoded data removed]",
      "text/plain": [
       "<Figure size 640x480 with 1 Axes>"
      ]
     },
     "metadata": {},
     "output_type": "display_data"
    }
   ],
   "source": [
    "sns.scatterplot(x = df[\"newspaper\"], y = df[\"sales\"])\n",
    "plt.show()"
   ]
  },
  {
   "cell_type": "code",
   "execution_count": 29,
   "id": "0fb57c12-8ced-420f-9436-c5dc01ace6b8",
   "metadata": {},
   "outputs": [
    {
     "data": {
      "text/plain": [
       "TV          -0.069853\n",
       "radio        0.094175\n",
       "newspaper    0.894720\n",
       "sales        0.407571\n",
       "dtype: float64"
      ]
     },
     "execution_count": 29,
     "metadata": {},
     "output_type": "execute_result"
    }
   ],
   "source": [
    "df.skew()"
   ]
  },
  {
   "cell_type": "code",
   "execution_count": 40,
   "id": "d6bbe265-268b-40b8-a28e-e1255dfbb7e4",
   "metadata": {},
   "outputs": [
    {
     "data": {
      "text/html": [
       "<div>\n",
       "<style scoped>\n",
       "    .dataframe tbody tr th:only-of-type {\n",
       "        vertical-align: middle;\n",
       "    }\n",
       "\n",
       "    .dataframe tbody tr th {\n",
       "        vertical-align: top;\n",
       "    }\n",
       "\n",
       "    .dataframe thead th {\n",
       "        text-align: right;\n",
       "    }\n",
       "</style>\n",
       "<table border=\"1\" class=\"dataframe\">\n",
       "  <thead>\n",
       "    <tr style=\"text-align: right;\">\n",
       "      <th></th>\n",
       "      <th>TV</th>\n",
       "      <th>radio</th>\n",
       "      <th>newspaper</th>\n",
       "      <th>sales</th>\n",
       "    </tr>\n",
       "  </thead>\n",
       "  <tbody>\n",
       "    <tr>\n",
       "      <th>TV</th>\n",
       "      <td>1.000000</td>\n",
       "      <td>0.054809</td>\n",
       "      <td>0.056648</td>\n",
       "      <td>0.782224</td>\n",
       "    </tr>\n",
       "    <tr>\n",
       "      <th>radio</th>\n",
       "      <td>0.054809</td>\n",
       "      <td>1.000000</td>\n",
       "      <td>0.354104</td>\n",
       "      <td>0.576223</td>\n",
       "    </tr>\n",
       "    <tr>\n",
       "      <th>newspaper</th>\n",
       "      <td>0.056648</td>\n",
       "      <td>0.354104</td>\n",
       "      <td>1.000000</td>\n",
       "      <td>0.228299</td>\n",
       "    </tr>\n",
       "    <tr>\n",
       "      <th>sales</th>\n",
       "      <td>0.782224</td>\n",
       "      <td>0.576223</td>\n",
       "      <td>0.228299</td>\n",
       "      <td>1.000000</td>\n",
       "    </tr>\n",
       "  </tbody>\n",
       "</table>\n",
       "</div>"
      ],
      "text/plain": [
       "                 TV     radio  newspaper     sales\n",
       "TV         1.000000  0.054809   0.056648  0.782224\n",
       "radio      0.054809  1.000000   0.354104  0.576223\n",
       "newspaper  0.056648  0.354104   1.000000  0.228299\n",
       "sales      0.782224  0.576223   0.228299  1.000000"
      ]
     },
     "execution_count": 40,
     "metadata": {},
     "output_type": "execute_result"
    }
   ],
   "source": [
    "corr = df.corr()\n",
    "corr"
   ]
  },
  {
   "cell_type": "code",
   "execution_count": 42,
   "id": "3284d798-db2c-465f-b977-74d10940c65a",
   "metadata": {},
   "outputs": [
    {
     "data": {
      "image/png": "[encoded data removed]",
      "text/plain": [
       "<Figure size 640x480 with 2 Axes>"
      ]
     },
     "metadata": {},
     "output_type": "display_data"
    }
   ],
   "source": [
    "sns.heatmap(corr)\n",
    "plt.show()"
   ]
  },
  {
   "cell_type": "markdown",
   "id": "e7d5e9ae-1f52-4b49-b4e6-8f7406620f25",
   "metadata": {},
   "source": [
    "# ***Data Preprocessing***"
   ]
  },
  {
   "cell_type": "code",
   "execution_count": 30,
   "id": "0316828f-82b3-477e-a118-1c6dcd865beb",
   "metadata": {},
   "outputs": [
    {
     "data": {
      "text/plain": [
       "TV           0\n",
       "radio        0\n",
       "newspaper    0\n",
       "sales        0\n",
       "dtype: int64"
      ]
     },
     "execution_count": 30,
     "metadata": {},
     "output_type": "execute_result"
    }
   ],
   "source": [
    "# No missing value to be treated\n",
    "df.isna().sum()"
   ]
  },
  {
   "cell_type": "code",
   "execution_count": 31,
   "id": "e68db3de-8b37-41f8-9e7d-1928e64a7727",
   "metadata": {},
   "outputs": [
    {
     "data": {
      "text/plain": [
       "0"
      ]
     },
     "execution_count": 31,
     "metadata": {},
     "output_type": "execute_result"
    }
   ],
   "source": [
    "# No duplicated rows found\n",
    "df.duplicated().sum()"
   ]
  },
  {
   "cell_type": "code",
   "execution_count": 32,
   "id": "3a4c33ae-75c8-459e-8f8f-7fddae552e5c",
   "metadata": {},
   "outputs": [
    {
     "data": {
      "text/html": [
       "<div>\n",
       "<style scoped>\n",
       "    .dataframe tbody tr th:only-of-type {\n",
       "        vertical-align: middle;\n",
       "    }\n",
       "\n",
       "    .dataframe tbody tr th {\n",
       "        vertical-align: top;\n",
       "    }\n",
       "\n",
       "    .dataframe thead th {\n",
       "        text-align: right;\n",
       "    }\n",
       "</style>\n",
       "<table border=\"1\" class=\"dataframe\">\n",
       "  <thead>\n",
       "    <tr style=\"text-align: right;\">\n",
       "      <th></th>\n",
       "      <th>TV</th>\n",
       "      <th>radio</th>\n",
       "      <th>newspaper</th>\n",
       "      <th>sales</th>\n",
       "    </tr>\n",
       "  </thead>\n",
       "  <tbody>\n",
       "    <tr>\n",
       "      <th>count</th>\n",
       "      <td>200.000000</td>\n",
       "      <td>200.000000</td>\n",
       "      <td>200.000000</td>\n",
       "      <td>200.000000</td>\n",
       "    </tr>\n",
       "    <tr>\n",
       "      <th>mean</th>\n",
       "      <td>147042.500000</td>\n",
       "      <td>23264.000000</td>\n",
       "      <td>30554.000000</td>\n",
       "      <td>14022.500000</td>\n",
       "    </tr>\n",
       "    <tr>\n",
       "      <th>std</th>\n",
       "      <td>85854.236315</td>\n",
       "      <td>14846.809176</td>\n",
       "      <td>21778.620839</td>\n",
       "      <td>5217.456566</td>\n",
       "    </tr>\n",
       "    <tr>\n",
       "      <th>min</th>\n",
       "      <td>700.000000</td>\n",
       "      <td>0.000000</td>\n",
       "      <td>300.000000</td>\n",
       "      <td>1600.000000</td>\n",
       "    </tr>\n",
       "    <tr>\n",
       "      <th>25%</th>\n",
       "      <td>74375.000000</td>\n",
       "      <td>9975.000000</td>\n",
       "      <td>12750.000000</td>\n",
       "      <td>10375.000000</td>\n",
       "    </tr>\n",
       "    <tr>\n",
       "      <th>50%</th>\n",
       "      <td>149750.000000</td>\n",
       "      <td>22900.000000</td>\n",
       "      <td>25750.000000</td>\n",
       "      <td>12900.000000</td>\n",
       "    </tr>\n",
       "    <tr>\n",
       "      <th>75%</th>\n",
       "      <td>218825.000000</td>\n",
       "      <td>36525.000000</td>\n",
       "      <td>45100.000000</td>\n",
       "      <td>17400.000000</td>\n",
       "    </tr>\n",
       "    <tr>\n",
       "      <th>max</th>\n",
       "      <td>296400.000000</td>\n",
       "      <td>49600.000000</td>\n",
       "      <td>114000.000000</td>\n",
       "      <td>27000.000000</td>\n",
       "    </tr>\n",
       "  </tbody>\n",
       "</table>\n",
       "</div>"
      ],
      "text/plain": [
       "                  TV         radio      newspaper         sales\n",
       "count     200.000000    200.000000     200.000000    200.000000\n",
       "mean   147042.500000  23264.000000   30554.000000  14022.500000\n",
       "std     85854.236315  14846.809176   21778.620839   5217.456566\n",
       "min       700.000000      0.000000     300.000000   1600.000000\n",
       "25%     74375.000000   9975.000000   12750.000000  10375.000000\n",
       "50%    149750.000000  22900.000000   25750.000000  12900.000000\n",
       "75%    218825.000000  36525.000000   45100.000000  17400.000000\n",
       "max    296400.000000  49600.000000  114000.000000  27000.000000"
      ]
     },
     "execution_count": 32,
     "metadata": {},
     "output_type": "execute_result"
    }
   ],
   "source": [
    "df.describe()"
   ]
  },
  {
   "cell_type": "markdown",
   "id": "d362f877-2ae4-4aab-8716-b112b015d719",
   "metadata": {},
   "source": [
    "### ***Feature Engineering***"
   ]
  },
  {
   "cell_type": "code",
   "execution_count": 33,
   "id": "080e898c-b4e3-44f2-81e4-bd2e3bf3fa6b",
   "metadata": {},
   "outputs": [],
   "source": [
    "# No Encoding and Transformation required because of continuous variable."
   ]
  },
  {
   "cell_type": "markdown",
   "id": "fd92aa0a-0ca2-4c23-90b1-4401a1caaec6",
   "metadata": {},
   "source": [
    "***Train_Test_Split***"
   ]
  },
  {
   "cell_type": "code",
   "execution_count": 34,
   "id": "a719fe29-c71f-47d6-95ba-c2a82def0c0f",
   "metadata": {},
   "outputs": [],
   "source": [
    "X = df.drop(\"sales\", axis = 1)\n",
    "y = df[\"sales\"]"
   ]
  },
  {
   "cell_type": "code",
   "execution_count": 35,
   "id": "43bd6f86-f83c-42a7-b350-e3e94b114e61",
   "metadata": {},
   "outputs": [],
   "source": [
    "from sklearn.model_selection import train_test_split, cross_val_score, GridSearchCV\n",
    "from sklearn.linear_model import LinearRegression, Ridge, Lasso, ElasticNet\n",
    "from sklearn.svm import SVR\n",
    "from sklearn.neighbors import KNeighborsRegressor\n",
    "from sklearn.tree import DecisionTreeRegressor\n",
    "from sklearn.ensemble import RandomForestRegressor, AdaBoostRegressor, GradientBoostingRegressor\n",
    "from xgboost import XGBRegressor\n",
    "from sklearn.preprocessing import StandardScaler, PolynomialFeatures\n",
    "from sklearn.metrics import mean_absolute_error, mean_squared_error, r2_score, accuracy_score"
   ]
  },
  {
   "cell_type": "code",
   "execution_count": 36,
   "id": "babd4002-3c89-42f6-83a6-095027c798ea",
   "metadata": {},
   "outputs": [],
   "source": [
    "X_train, X_test, y_train, y_test = train_test_split(X, y, test_size = 0.15, random_state = 3)\n",
    "sc = StandardScaler()\n",
    "X_train = sc.fit_transform(X_train)\n",
    "X_test = sc.transform(X_test)"
   ]
  },
  {
   "cell_type": "markdown",
   "id": "65d97792-f8bf-4c30-a8f5-34d4e290d869",
   "metadata": {},
   "source": [
    "# ***Linear Regression***"
   ]
  },
  {
   "cell_type": "code",
   "execution_count": 38,
   "id": "7febb62b-c3c1-45e6-a8db-672b1829fc4b",
   "metadata": {},
   "outputs": [
    {
     "name": "stdout",
     "output_type": "stream",
     "text": [
      "Training Accuracy : 0.8934595744280606\n",
      "Testing Accuracy : 0.9161301664381354\n",
      "Cross Validation Score : 0.8812523372608971\n",
      "MAE : 1142.608530578565\n"
     ]
    }
   ],
   "source": [
    "li_model = LinearRegression().fit(X_train, y_train)\n",
    "li_pred_test = li_model.predict(X_test)\n",
    "\n",
    "print(\"Training Accuracy :\", li_model.score(X_train, y_train))\n",
    "print(\"Testing Accuracy :\", li_model.score(X_test, y_test))\n",
    "\n",
    "score = cross_val_score(li_model, X_train, y_train, cv = 5).mean()\n",
    "print(\"Cross Validation Score :\", score)\n",
    "\n",
    "print(\"MAE :\", mean_absolute_error(y_test, li_pred_test))"
   ]
  },
  {
   "cell_type": "markdown",
   "id": "1e9ef49e-e35e-4b0f-8378-2e4986f8f13f",
   "metadata": {},
   "source": [
    "# ***Polynomial Regression***"
   ]
  },
  {
   "cell_type": "code",
   "execution_count": 43,
   "id": "3976ff68-4797-49dd-9eb7-d2ec184f33dd",
   "metadata": {},
   "outputs": [],
   "source": [
    "# After Hyperparameter Tunning degree = 1  which indiactes Linear Regression"
   ]
  },
  {
   "cell_type": "markdown",
   "id": "35057820-8d7e-417a-9a7e-3d27add95762",
   "metadata": {},
   "source": [
    "# ***Ridge***"
   ]
  },
  {
   "cell_type": "code",
   "execution_count": 45,
   "id": "d612b837-f10f-486b-b29f-18382cb0d052",
   "metadata": {},
   "outputs": [
    {
     "name": "stdout",
     "output_type": "stream",
     "text": [
      "Training Accuracy : 0.8932026262865602\n",
      "Testing Accuracy : 0.9144742603771274\n",
      "Cross Validation Score : 0.8817960834416787\n",
      "MAE : 1152.5914427601863\n"
     ]
    }
   ],
   "source": [
    "ridge_model = Ridge(alpha = 3).fit(X_train, y_train)\n",
    "ridge_pred_test = ridge_model.predict(X_test)\n",
    "\n",
    "print(\"Training Accuracy :\", ridge_model.score(X_train, y_train))\n",
    "print(\"Testing Accuracy :\", ridge_model.score(X_test, y_test))\n",
    "\n",
    "score = cross_val_score(ridge_model, X_train, y_train, cv = 5).mean()\n",
    "print(\"Cross Validation Score :\", score)\n",
    "\n",
    "print(\"MAE :\", mean_absolute_error(y_test, ridge_pred_test))"
   ]
  },
  {
   "cell_type": "markdown",
   "id": "df0b2e77-a14b-424b-bcfb-b8f0564f4c64",
   "metadata": {},
   "source": [
    "# ***Lasso***"
   ]
  },
  {
   "cell_type": "code",
   "execution_count": 47,
   "id": "70802354-9fd9-4fe8-a073-c19fd51416e7",
   "metadata": {},
   "outputs": [
    {
     "name": "stdout",
     "output_type": "stream",
     "text": [
      "Training Accuracy : 0.8921511538608123\n",
      "Testing Accuracy : 0.9102746519441808\n",
      "Cross Validation Score : 0.8847880272922662\n",
      "MAE : 1174.8797790978026\n"
     ]
    }
   ],
   "source": [
    "lasso_model = Lasso(alpha = 137).fit(X_train, y_train)\n",
    "lasso_pred_test = lasso_model.predict(X_test)\n",
    "\n",
    "print(\"Training Accuracy :\", lasso_model.score(X_train, y_train))\n",
    "print(\"Testing Accuracy :\", lasso_model.score(X_test, y_test))\n",
    "\n",
    "score = cross_val_score(lasso_model, X_train, y_train, cv = 5).mean()\n",
    "print(\"Cross Validation Score :\", score)\n",
    "\n",
    "print(\"MAE :\", mean_absolute_error(y_test, lasso_pred_test))"
   ]
  },
  {
   "cell_type": "markdown",
   "id": "e3db3be6-c6bd-4ff8-aa72-418963024086",
   "metadata": {},
   "source": [
    "# ***ElasticNet***"
   ]
  },
  {
   "cell_type": "code",
   "execution_count": 51,
   "id": "d8c6d480-3aec-465d-92af-27afff3bc60e",
   "metadata": {},
   "outputs": [
    {
     "name": "stdout",
     "output_type": "stream",
     "text": [
      "Training Accuracy : 0.8921511538608123\n",
      "Testing Accuracy : 0.9102746519441808\n",
      "Cross Validation Score : 0.8847880272922662\n",
      "MAE : 1174.8797790978026\n"
     ]
    }
   ],
   "source": [
    "elastic_model = ElasticNet(alpha = 137, l1_ratio = 1).fit(X_train, y_train)\n",
    "elastic_pred_test = elastic_model.predict(X_test)\n",
    "\n",
    "print(\"Training Accuracy :\", elastic_model.score(X_train, y_train))\n",
    "print(\"Testing Accuracy :\", elastic_model.score(X_test, y_test))\n",
    "\n",
    "score = cross_val_score(elastic_model, X_train, y_train, cv = 5).mean()\n",
    "print(\"Cross Validation Score :\", score)\n",
    "\n",
    "print(\"MAE :\", mean_absolute_error(y_test, elastic_pred_test))"
   ]
  },
  {
   "cell_type": "markdown",
   "id": "f74cc747-b540-4ae7-8fe1-22a7849d0aa4",
   "metadata": {},
   "source": [
    "# ***Support Vector Machine - SVR***"
   ]
  },
  {
   "cell_type": "code",
   "execution_count": 119,
   "id": "26367a0f-e563-40ef-b14c-d1e5f89d6453",
   "metadata": {},
   "outputs": [
    {
     "name": "stdout",
     "output_type": "stream",
     "text": [
      "Training Accuracy : 0.8813517262458445\n",
      "Testing Accuracy : 0.9192151394611211\n",
      "Cross Validation Score : 0.8733956592682718\n",
      "MAE : 1101.2913919868217\n"
     ]
    }
   ],
   "source": [
    "svm_model = SVR(C = 245, kernel = \"linear\").fit(X_train, y_train)\n",
    "svm_pred_test = svm_model.predict(X_test)\n",
    "\n",
    "print(\"Training Accuracy :\", svm_model.score(X_train, y_train))\n",
    "print(\"Testing Accuracy :\", svm_model.score(X_test, y_test))\n",
    "\n",
    "score = cross_val_score(svm_model, X_train, y_train, cv = 5).mean()\n",
    "print(\"Cross Validation Score :\", score)\n",
    "\n",
    "print(\"MAE :\", mean_absolute_error(y_test, svm_pred_test))"
   ]
  },
  {
   "cell_type": "markdown",
   "id": "5a21dd7f-bce2-4d9c-b69b-870f1b3918dc",
   "metadata": {},
   "source": [
    "# ***KNearestNeighbors - KNeighborsRegressor***"
   ]
  },
  {
   "cell_type": "code",
   "execution_count": 67,
   "id": "91b85763-04c5-4c9e-9edf-274d24a8a38f",
   "metadata": {},
   "outputs": [
    {
     "name": "stdout",
     "output_type": "stream",
     "text": [
      "Training Accuracy : 0.9593887128984927\n",
      "Testing Accuracy : 0.9362982457006138\n",
      "Cross Validation Score : 0.9252134962838243\n",
      "MAE : 922.2222222222222\n"
     ]
    }
   ],
   "source": [
    "knn_model = KNeighborsRegressor(n_neighbors = 6).fit(X_train, y_train)\n",
    "knn_pred_test = knn_model.predict(X_test)\n",
    "\n",
    "print(\"Training Accuracy :\", knn_model.score(X_train, y_train))\n",
    "print(\"Testing Accuracy :\", knn_model.score(X_test, y_test))\n",
    "\n",
    "score = cross_val_score(knn_model, X_train, y_train, cv = 5).mean()\n",
    "print(\"Cross Validation Score :\", score)\n",
    "\n",
    "print(\"MAE :\", mean_absolute_error(y_test, knn_pred_test))"
   ]
  },
  {
   "cell_type": "markdown",
   "id": "7f081bef-48fb-46c9-b2bf-2f19eaa1725e",
   "metadata": {},
   "source": [
    "# ***Decision Tree - DecisionTreeRegressor***"
   ]
  },
  {
   "cell_type": "code",
   "execution_count": 100,
   "id": "7000c2db-212d-45ed-bd38-d127e6a2113f",
   "metadata": {},
   "outputs": [
    {
     "name": "stdout",
     "output_type": "stream",
     "text": [
      "Training Accuracy : 0.9980023741945442\n",
      "Testing Accuracy : 0.9631727270592856\n",
      "Cross Validation Score : 0.954292180914312\n",
      "MAE : 734.7222222222222\n"
     ]
    }
   ],
   "source": [
    "decision_model = DecisionTreeRegressor(max_depth = 7, random_state = 0).fit(X_train, y_train)\n",
    "decision_pred_test = decision_model.predict(X_test)\n",
    "\n",
    "print(\"Training Accuracy :\", decision_model.score(X_train, y_train))\n",
    "print(\"Testing Accuracy :\", decision_model.score(X_test, y_test))\n",
    "\n",
    "score = cross_val_score(decision_model, X_train, y_train, cv = 5).mean()\n",
    "print(\"Cross Validation Score :\", score)\n",
    "\n",
    "print(\"MAE :\", mean_absolute_error(y_test, decision_pred_test))"
   ]
  },
  {
   "cell_type": "markdown",
   "id": "c647ff55-23a3-4586-8eb7-ada350b2c964",
   "metadata": {},
   "source": [
    "# ***RandomForestRegressor***"
   ]
  },
  {
   "cell_type": "code",
   "execution_count": 101,
   "id": "33273aa9-5802-4d47-a550-62ed8df30e29",
   "metadata": {},
   "outputs": [
    {
     "name": "stdout",
     "output_type": "stream",
     "text": [
      "Training Accuracy : 0.9963762028115691\n",
      "Testing Accuracy : 0.9816672996581215\n",
      "Cross Validation Score : 0.9748629106924629\n",
      "MAE : 489.0740740740741\n"
     ]
    }
   ],
   "source": [
    "random_forest_model = RandomForestRegressor(n_estimators = 18, random_state = 0).fit(X_train, y_train)\n",
    "random_forest_pred_test = random_forest_model.predict(X_test)\n",
    "\n",
    "print(\"Training Accuracy :\", random_forest_model.score(X_train, y_train))\n",
    "print(\"Testing Accuracy :\", random_forest_model.score(X_test, y_test))\n",
    "\n",
    "score = cross_val_score(random_forest_model, X_train, y_train, cv = 5).mean()\n",
    "print(\"Cross Validation Score :\", score)\n",
    "\n",
    "print(\"MAE :\", mean_absolute_error(y_test, random_forest_pred_test))"
   ]
  },
  {
   "cell_type": "markdown",
   "id": "422d8a12-5877-4fb9-ae7e-ceb4f6ebdce6",
   "metadata": {},
   "source": [
    "# ***AdaBoostRegressor***"
   ]
  },
  {
   "cell_type": "code",
   "execution_count": 108,
   "id": "2a610fb0-1405-479b-98e1-775bf6fe02ce",
   "metadata": {},
   "outputs": [
    {
     "name": "stdout",
     "output_type": "stream",
     "text": [
      "Training Accuracy : 0.9762526814072077\n",
      "Testing Accuracy : 0.9700498879983561\n",
      "Cross Validation Score : 0.9513800924836385\n",
      "MAE : 716.2721804169673\n"
     ]
    }
   ],
   "source": [
    "ada_model = AdaBoostRegressor(n_estimators = 38, random_state = 0).fit(X_train, y_train)\n",
    "ada_pred_test = ada_model.predict(X_test)\n",
    "\n",
    "print(\"Training Accuracy :\", ada_model.score(X_train, y_train))\n",
    "print(\"Testing Accuracy :\", ada_model.score(X_test, y_test))\n",
    "\n",
    "score = cross_val_score(ada_model, X_train, y_train, cv = 5).mean()\n",
    "print(\"Cross Validation Score :\", score)\n",
    "\n",
    "print(\"MAE :\", mean_absolute_error(y_test, ada_pred_test))"
   ]
  },
  {
   "cell_type": "markdown",
   "id": "1bf0171b-1dc1-4819-98f1-195e8343329a",
   "metadata": {},
   "source": [
    "# ***GradientBoostingRegressor***"
   ]
  },
  {
   "cell_type": "code",
   "execution_count": 115,
   "id": "214a7b44-6f30-4ad7-89b1-7ef08c84d7a6",
   "metadata": {},
   "outputs": [
    {
     "name": "stdout",
     "output_type": "stream",
     "text": [
      "Training Accuracy : 0.9988502312675592\n",
      "Testing Accuracy : 0.9853348392640189\n",
      "Cross Validation Score : 0.9785454046018517\n",
      "MAE : 465.5312141359818\n"
     ]
    }
   ],
   "source": [
    "gradient_model = GradientBoostingRegressor(learning_rate = 0.2, n_estimators = 55, random_state = 0).fit(X_train, y_train)\n",
    "gradient_pred_test = gradient_model.predict(X_test)\n",
    "\n",
    "print(\"Training Accuracy :\", gradient_model.score(X_train, y_train))\n",
    "print(\"Testing Accuracy :\", gradient_model.score(X_test, y_test))\n",
    "\n",
    "score = cross_val_score(gradient_model, X_train, y_train, cv = 5).mean()\n",
    "print(\"Cross Validation Score :\", score)\n",
    "\n",
    "print(\"MAE :\", mean_absolute_error(y_test, gradient_pred_test))"
   ]
  },
  {
   "cell_type": "markdown",
   "id": "d51508ac-254e-49b3-971e-6e7fc7a8de88",
   "metadata": {},
   "source": [
    "# ***XGBRegressor***"
   ]
  },
  {
   "cell_type": "code",
   "execution_count": 117,
   "id": "969b9851-aa2d-41b2-878e-ef7ff6cc4c1d",
   "metadata": {},
   "outputs": [
    {
     "name": "stdout",
     "output_type": "stream",
     "text": [
      "Training Accuracy : 0.9999802452832213\n",
      "Testing Accuracy : 0.981829940620557\n",
      "Cross Validation Score : 0.9737808097304523\n",
      "MAE : 590.8206380208334\n"
     ]
    }
   ],
   "source": [
    "xgb_model = XGBRegressor(n_estimators = 143, learning_rate = 0.1, gamma = 0.3, random_state = 0).fit(X_train, y_train)\n",
    "xgb_pred_test = xgb_model.predict(X_test)\n",
    "\n",
    "print(\"Training Accuracy :\", xgb_model.score(X_train, y_train))\n",
    "print(\"Testing Accuracy :\", xgb_model.score(X_test, y_test))\n",
    "\n",
    "score = cross_val_score(xgb_model, X_train, y_train, cv = 5).mean()\n",
    "print(\"Cross Validation Score :\", score)\n",
    "\n",
    "print(\"MAE :\", mean_absolute_error(y_test, xgb_pred_test))"
   ]
  },
  {
   "cell_type": "markdown",
   "id": "51d5bc2c-bbea-4376-b6ab-34ada0a7704f",
   "metadata": {},
   "source": [
    "# ***Final Model***"
   ]
  },
  {
   "cell_type": "code",
   "execution_count": 120,
   "id": "32f13a4f-611e-47a6-b6c9-3c00c62fc436",
   "metadata": {},
   "outputs": [
    {
     "name": "stdout",
     "output_type": "stream",
     "text": [
      "Training Accuracy : 0.9988502312675592\n",
      "Testing Accuracy : 0.9853348392640189\n",
      "Cross Validation Score : 0.9785454046018517\n",
      "MAE : 465.5312141359818\n"
     ]
    }
   ],
   "source": [
    "X_train, X_test, y_train, y_test = train_test_split(X, y, test_size = 0.15, random_state = 3)\n",
    "sc = StandardScaler()\n",
    "X_train = sc.fit_transform(X_train)\n",
    "X_test = sc.transform(X_test)\n",
    "\n",
    "gradient_model = GradientBoostingRegressor(learning_rate = 0.2, n_estimators = 55, random_state = 0).fit(X_train, y_train)\n",
    "gradient_pred_test = gradient_model.predict(X_test)\n",
    "\n",
    "print(\"Training Accuracy :\", gradient_model.score(X_train, y_train))\n",
    "print(\"Testing Accuracy :\", gradient_model.score(X_test, y_test))\n",
    "\n",
    "score = cross_val_score(gradient_model, X_train, y_train, cv = 5).mean()\n",
    "print(\"Cross Validation Score :\", score)\n",
    "\n",
    "print(\"MAE :\", mean_absolute_error(y_test, gradient_pred_test))"
   ]
  },
  {
   "cell_type": "markdown",
   "id": "2814d44d-6184-4a69-951b-03aaba4648af",
   "metadata": {},
   "source": [
    "***Prediction on New Data***"
   ]
  },
  {
   "cell_type": "code",
   "execution_count": 134,
   "id": "974203ef-ded0-4626-8078-1c34a2726b61",
   "metadata": {},
   "outputs": [
    {
     "name": "stdin",
     "output_type": "stream",
     "text": [
      "Enter the total amount collected from TV :  230100\n",
      "Enter the total amount collected from Radio :  37800\n",
      "Enter the total amount collected from Newspaper: 69200\n"
     ]
    },
    {
     "name": "stdout",
     "output_type": "stream",
     "text": [
      "________________________________________________\n",
      "Predicted Value : 21972\n",
      "________________________________________________\n"
     ]
    }
   ],
   "source": [
    "tv = int(input(\"Enter the total amount collected from TV : \"))\n",
    "radio = int(input(\"Enter the total amount collected from Radio : \"))\n",
    "newspaper = int(input(\"Enter the total amount collected from Newspaper:\"))\n",
    "\n",
    "new_data = pd.DataFrame({\"TV\": tv, \"radio\": radio, \"newspaper\": newspaper}, index = [0])\n",
    "new_data = sc.transform(new_data)\n",
    "predict_value = gradient_model.predict(new_data)\n",
    "\n",
    "print(\"________________________________________________\")\n",
    "print(\"Predicted Value :\", int(predict_value[0]))\n",
    "print(\"________________________________________________\")"
   ]
  },
  {
   "cell_type": "code",
   "execution_count": 135,
   "id": "550e141e-5f0f-4bb0-b675-edbff3f06614",
   "metadata": {},
   "outputs": [],
   "source": [
    "import pickle\n",
    "with open(\"gradient_model.pickle\", \"wb\") as f:\n",
    "    pickle.dump(gradient_model, f)"
   ]
  },
  {
   "cell_type": "code",
   "execution_count": null,
   "id": "38493176-a62c-4c5d-8571-dd4d80bc5b6d",
   "metadata": {},
   "outputs": [],
   "source": []
  }
 ],
 "metadata": {
  "kernelspec": {
   "display_name": "Python 3 (ipykernel)",
   "language": "python",
   "name": "python3"
  },
  "language_info": {
   "codemirror_mode": {
    "name": "ipython",
    "version": 3
   },
   "file_extension": ".py",
   "mimetype": "text/x-python",
   "name": "python",
   "nbconvert_exporter": "python",
   "pygments_lexer": "ipython3",
   "version": "3.11.5"
  }
 },
 "nbformat": 4,
 "nbformat_minor": 5
}
