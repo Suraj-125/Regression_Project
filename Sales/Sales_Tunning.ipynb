{
 "cells": [
  {
   "cell_type": "code",
   "execution_count": 1,
   "id": "32aa9b3a-a6fe-495a-8a0f-29ac7666d360",
   "metadata": {},
   "outputs": [],
   "source": [
    "import numpy as np\n",
    "import pandas as pd\n",
    "import matplotlib.pyplot as plt\n",
    "import seaborn as sns\n",
    "\n",
    "import warnings\n",
    "warnings.simplefilter(\"ignore\")"
   ]
  },
  {
   "cell_type": "code",
   "execution_count": 2,
   "id": "0b053817-9d18-43b9-a3f5-c3b0d3c41e8b",
   "metadata": {},
   "outputs": [
    {
     "data": {
      "text/html": [
       "<div>\n",
       "<style scoped>\n",
       "    .dataframe tbody tr th:only-of-type {\n",
       "        vertical-align: middle;\n",
       "    }\n",
       "\n",
       "    .dataframe tbody tr th {\n",
       "        vertical-align: top;\n",
       "    }\n",
       "\n",
       "    .dataframe thead th {\n",
       "        text-align: right;\n",
       "    }\n",
       "</style>\n",
       "<table border=\"1\" class=\"dataframe\">\n",
       "  <thead>\n",
       "    <tr style=\"text-align: right;\">\n",
       "      <th></th>\n",
       "      <th>TV</th>\n",
       "      <th>radio</th>\n",
       "      <th>newspaper</th>\n",
       "      <th>sales</th>\n",
       "    </tr>\n",
       "  </thead>\n",
       "  <tbody>\n",
       "    <tr>\n",
       "      <th>0</th>\n",
       "      <td>230100</td>\n",
       "      <td>37800</td>\n",
       "      <td>69200</td>\n",
       "      <td>22100</td>\n",
       "    </tr>\n",
       "    <tr>\n",
       "      <th>1</th>\n",
       "      <td>44500</td>\n",
       "      <td>39300</td>\n",
       "      <td>45100</td>\n",
       "      <td>10400</td>\n",
       "    </tr>\n",
       "    <tr>\n",
       "      <th>2</th>\n",
       "      <td>17200</td>\n",
       "      <td>45900</td>\n",
       "      <td>69300</td>\n",
       "      <td>9300</td>\n",
       "    </tr>\n",
       "    <tr>\n",
       "      <th>3</th>\n",
       "      <td>151500</td>\n",
       "      <td>41300</td>\n",
       "      <td>58500</td>\n",
       "      <td>18500</td>\n",
       "    </tr>\n",
       "    <tr>\n",
       "      <th>4</th>\n",
       "      <td>180800</td>\n",
       "      <td>10800</td>\n",
       "      <td>58400</td>\n",
       "      <td>12900</td>\n",
       "    </tr>\n",
       "  </tbody>\n",
       "</table>\n",
       "</div>"
      ],
      "text/plain": [
       "       TV  radio  newspaper  sales\n",
       "0  230100  37800      69200  22100\n",
       "1   44500  39300      45100  10400\n",
       "2   17200  45900      69300   9300\n",
       "3  151500  41300      58500  18500\n",
       "4  180800  10800      58400  12900"
      ]
     },
     "execution_count": 2,
     "metadata": {},
     "output_type": "execute_result"
    }
   ],
   "source": [
    "df = pd.read_csv(\"sales.csv\")\n",
    "df.head()"
   ]
  },
  {
   "cell_type": "code",
   "execution_count": 3,
   "id": "a62c8889-41e7-493d-85d9-61df2a27a26e",
   "metadata": {},
   "outputs": [],
   "source": [
    "X = df.drop(\"sales\", axis = 1)\n",
    "y = df[\"sales\"]"
   ]
  },
  {
   "cell_type": "code",
   "execution_count": 4,
   "id": "95220a91-c998-4a18-b5b0-c4e9ceb02637",
   "metadata": {},
   "outputs": [],
   "source": [
    "from sklearn.model_selection import train_test_split, cross_val_score, GridSearchCV\n",
    "from sklearn.linear_model import LinearRegression, Ridge, Lasso, ElasticNet\n",
    "from sklearn.svm import SVR\n",
    "from sklearn.neighbors import KNeighborsRegressor\n",
    "from sklearn.tree import DecisionTreeRegressor\n",
    "from sklearn.ensemble import RandomForestRegressor, AdaBoostRegressor, GradientBoostingRegressor\n",
    "from xgboost import XGBRegressor\n",
    "from sklearn.preprocessing import StandardScaler, PolynomialFeatures\n",
    "from sklearn.metrics import mean_absolute_error, mean_squared_error, r2_score, accuracy_score"
   ]
  },
  {
   "cell_type": "markdown",
   "id": "9f9ca349-fa94-4771-b59b-58facd6106ae",
   "metadata": {},
   "source": [
    "***Best Random State***"
   ]
  },
  {
   "cell_type": "code",
   "execution_count": 6,
   "id": "4d481bcb-4c9e-4c01-a78f-8ad563c1eefb",
   "metadata": {},
   "outputs": [],
   "source": [
    "sc = StandardScaler()"
   ]
  },
  {
   "cell_type": "code",
   "execution_count": 17,
   "id": "d50d15ec-9c55-438d-acef-f31bde1d2cd5",
   "metadata": {},
   "outputs": [],
   "source": [
    "train_score = []\n",
    "test_score = []\n",
    "cv_score = []\n",
    "MAE = []\n",
    "\n",
    "for i in range(100):\n",
    "    X_train, X_test, y_train, y_test = train_test_split(X, y, test_size = 0.15, random_state = i)\n",
    "    X_train = sc.fit_transform(X_train)\n",
    "    X_test = sc.transform(X_test)\n",
    "    model = LinearRegression().fit(X_train, y_train)\n",
    "    \n",
    "    pred_train = model.predict(X_train)\n",
    "    pred_test = model.predict(X_test)\n",
    "    \n",
    "    train_accuracy = model.score(X_train, y_train)\n",
    "    test_accuracy = model.score(X_test, y_test)\n",
    "    score = cross_val_score(model, X_train, y_train, cv = 5).mean()\n",
    "    mae = mean_absolute_error(y_test, pred_test)\n",
    "    \n",
    "    train_score.append(train_accuracy)\n",
    "    test_score.append(test_accuracy)\n",
    "    cv_score.append(score)\n",
    "    MAE.append(mae)\n",
    "\n",
    "random_state = pd.DataFrame({\n",
    "    \"Train\": train_score,\n",
    "    \"Test\": test_score,\n",
    "    \"CV\": cv_score,\n",
    "    \"MAE\": mae\n",
    "})"
   ]
  },
  {
   "cell_type": "code",
   "execution_count": 18,
   "id": "7196dd9a-6dad-4f72-b5aa-c79e126927b0",
   "metadata": {},
   "outputs": [
    {
     "data": {
      "text/html": [
       "<div>\n",
       "<style scoped>\n",
       "    .dataframe tbody tr th:only-of-type {\n",
       "        vertical-align: middle;\n",
       "    }\n",
       "\n",
       "    .dataframe tbody tr th {\n",
       "        vertical-align: top;\n",
       "    }\n",
       "\n",
       "    .dataframe thead th {\n",
       "        text-align: right;\n",
       "    }\n",
       "</style>\n",
       "<table border=\"1\" class=\"dataframe\">\n",
       "  <thead>\n",
       "    <tr style=\"text-align: right;\">\n",
       "      <th></th>\n",
       "      <th>Train</th>\n",
       "      <th>Test</th>\n",
       "      <th>CV</th>\n",
       "      <th>MAE</th>\n",
       "    </tr>\n",
       "  </thead>\n",
       "  <tbody>\n",
       "    <tr>\n",
       "      <th>0</th>\n",
       "      <td>0.910395</td>\n",
       "      <td>0.824731</td>\n",
       "      <td>0.903741</td>\n",
       "      <td>1197.278812</td>\n",
       "    </tr>\n",
       "    <tr>\n",
       "      <th>1</th>\n",
       "      <td>0.897886</td>\n",
       "      <td>0.882855</td>\n",
       "      <td>0.887340</td>\n",
       "      <td>1197.278812</td>\n",
       "    </tr>\n",
       "    <tr>\n",
       "      <th>2</th>\n",
       "      <td>0.908001</td>\n",
       "      <td>0.737701</td>\n",
       "      <td>0.904416</td>\n",
       "      <td>1197.278812</td>\n",
       "    </tr>\n",
       "    <tr>\n",
       "      <th>3</th>\n",
       "      <td>0.893460</td>\n",
       "      <td>0.916130</td>\n",
       "      <td>0.881252</td>\n",
       "      <td>1197.278812</td>\n",
       "    </tr>\n",
       "    <tr>\n",
       "      <th>4</th>\n",
       "      <td>0.889656</td>\n",
       "      <td>0.911100</td>\n",
       "      <td>0.870441</td>\n",
       "      <td>1197.278812</td>\n",
       "    </tr>\n",
       "    <tr>\n",
       "      <th>...</th>\n",
       "      <td>...</td>\n",
       "      <td>...</td>\n",
       "      <td>...</td>\n",
       "      <td>...</td>\n",
       "    </tr>\n",
       "    <tr>\n",
       "      <th>95</th>\n",
       "      <td>0.898879</td>\n",
       "      <td>0.872151</td>\n",
       "      <td>0.873377</td>\n",
       "      <td>1197.278812</td>\n",
       "    </tr>\n",
       "    <tr>\n",
       "      <th>96</th>\n",
       "      <td>0.903069</td>\n",
       "      <td>0.857934</td>\n",
       "      <td>0.893503</td>\n",
       "      <td>1197.278812</td>\n",
       "    </tr>\n",
       "    <tr>\n",
       "      <th>97</th>\n",
       "      <td>0.889993</td>\n",
       "      <td>0.920709</td>\n",
       "      <td>0.880778</td>\n",
       "      <td>1197.278812</td>\n",
       "    </tr>\n",
       "    <tr>\n",
       "      <th>98</th>\n",
       "      <td>0.888354</td>\n",
       "      <td>0.932482</td>\n",
       "      <td>0.871481</td>\n",
       "      <td>1197.278812</td>\n",
       "    </tr>\n",
       "    <tr>\n",
       "      <th>99</th>\n",
       "      <td>0.893129</td>\n",
       "      <td>0.911273</td>\n",
       "      <td>0.886112</td>\n",
       "      <td>1197.278812</td>\n",
       "    </tr>\n",
       "  </tbody>\n",
       "</table>\n",
       "<p>100 rows × 4 columns</p>\n",
       "</div>"
      ],
      "text/plain": [
       "       Train      Test        CV          MAE\n",
       "0   0.910395  0.824731  0.903741  1197.278812\n",
       "1   0.897886  0.882855  0.887340  1197.278812\n",
       "2   0.908001  0.737701  0.904416  1197.278812\n",
       "3   0.893460  0.916130  0.881252  1197.278812\n",
       "4   0.889656  0.911100  0.870441  1197.278812\n",
       "..       ...       ...       ...          ...\n",
       "95  0.898879  0.872151  0.873377  1197.278812\n",
       "96  0.903069  0.857934  0.893503  1197.278812\n",
       "97  0.889993  0.920709  0.880778  1197.278812\n",
       "98  0.888354  0.932482  0.871481  1197.278812\n",
       "99  0.893129  0.911273  0.886112  1197.278812\n",
       "\n",
       "[100 rows x 4 columns]"
      ]
     },
     "execution_count": 18,
     "metadata": {},
     "output_type": "execute_result"
    }
   ],
   "source": [
    "random_state"
   ]
  },
  {
   "cell_type": "markdown",
   "id": "f7594ca9-10a2-4072-b7ae-3bebe7ff6fe4",
   "metadata": {},
   "source": [
    "## ***GridSearchCV For - PolynomialFeatures***"
   ]
  },
  {
   "cell_type": "code",
   "execution_count": 23,
   "id": "49d93720-20fb-490a-a1ba-3279cb3a89d5",
   "metadata": {},
   "outputs": [],
   "source": [
    "X_train, X_test, y_train, y_test = train_test_split(X, y, test_size = 0.15, random_state = 3)\n",
    "scaler = StandardScaler()\n",
    "X_train = scaler.fit_transform(X_train)\n",
    "X_test = scaler.transform(X_test)"
   ]
  },
  {
   "cell_type": "code",
   "execution_count": 24,
   "id": "b0ad27ca-4a13-41b5-a447-431c1276358e",
   "metadata": {},
   "outputs": [
    {
     "data": {
      "text/plain": [
       "{'degree': 1}"
      ]
     },
     "execution_count": 24,
     "metadata": {},
     "output_type": "execute_result"
    }
   ],
   "source": [
    "estimator = PolynomialFeatures()\n",
    "\n",
    "param_grid = {\"degree\": list(range(1, 10))}\n",
    "\n",
    "grid_model = GridSearchCV(estimator, param_grid, cv = 5, scoring = \"r2\")\n",
    "\n",
    "grid_model.fit(X_train, y_train)\n",
    "\n",
    "grid_model.best_params_"
   ]
  },
  {
   "cell_type": "markdown",
   "id": "691682bb-e706-4339-ac12-37936892c3a8",
   "metadata": {},
   "source": [
    "# ***GridSearchCV - Ridge Regression***"
   ]
  },
  {
   "cell_type": "code",
   "execution_count": 25,
   "id": "4c91f568-6c3f-4eed-b129-51c20109531c",
   "metadata": {},
   "outputs": [
    {
     "data": {
      "text/plain": [
       "{'alpha': 3}"
      ]
     },
     "execution_count": 25,
     "metadata": {},
     "output_type": "execute_result"
    }
   ],
   "source": [
    "estimator = Ridge()\n",
    "\n",
    "param_grid = {\"alpha\": list(range(1, 50))}\n",
    "\n",
    "grid_model = GridSearchCV(estimator, param_grid, cv = 5, scoring = \"r2\")\n",
    "\n",
    "grid_model.fit(X_train, y_train)\n",
    "\n",
    "grid_model.best_params_"
   ]
  },
  {
   "cell_type": "markdown",
   "id": "cb0ba279-c521-4918-a984-df5fcb0cb392",
   "metadata": {},
   "source": [
    "# ***GridSearchCV - Lasso Regression***"
   ]
  },
  {
   "cell_type": "code",
   "execution_count": 28,
   "id": "9ceb9712-8164-4319-874c-99b3a0eeecd6",
   "metadata": {},
   "outputs": [
    {
     "data": {
      "text/plain": [
       "{'alpha': 137}"
      ]
     },
     "execution_count": 28,
     "metadata": {},
     "output_type": "execute_result"
    }
   ],
   "source": [
    "estimator = Lasso()\n",
    "\n",
    "param_grid = {\"alpha\": list(range(99, 150))}\n",
    "\n",
    "grid_model = GridSearchCV(estimator, param_grid, cv = 5, scoring = \"r2\")\n",
    "\n",
    "grid_model.fit(X_train, y_train)\n",
    "\n",
    "grid_model.best_params_"
   ]
  },
  {
   "cell_type": "markdown",
   "id": "565ebb03-b670-4477-94de-a3918c10a8c3",
   "metadata": {},
   "source": [
    "# ***GridSearchCV - ElasticNet***"
   ]
  },
  {
   "cell_type": "code",
   "execution_count": 32,
   "id": "b6bc612f-03dd-42b9-afe7-1ae7a3e00b6c",
   "metadata": {},
   "outputs": [
    {
     "data": {
      "text/plain": [
       "{'alpha': 137, 'l1_ratio': 1}"
      ]
     },
     "execution_count": 32,
     "metadata": {},
     "output_type": "execute_result"
    }
   ],
   "source": [
    "estimator = ElasticNet()\n",
    "\n",
    "param_grid = {\"alpha\": list(range(100, 150)), \"l1_ratio\": [0, 0.1, 0.2, 0.3, 0.4, 0.5, 0.6, 0.7, 0.8, 0.9, 1]}\n",
    "\n",
    "grid_model = GridSearchCV(estimator, param_grid, cv = 5, scoring = \"r2\")\n",
    "\n",
    "grid_model.fit(X_train, y_train)\n",
    "\n",
    "grid_model.best_params_"
   ]
  },
  {
   "cell_type": "markdown",
   "id": "f8177348-abef-41bd-8fad-53748b6451cf",
   "metadata": {},
   "source": [
    "# ***GridSearchCV - SVC***"
   ]
  },
  {
   "cell_type": "code",
   "execution_count": 38,
   "id": "859d43c2-f19e-4e2b-bdd4-15a258bf2f45",
   "metadata": {},
   "outputs": [
    {
     "data": {
      "text/plain": [
       "{'C': 245, 'kernel': 'linear'}"
      ]
     },
     "execution_count": 38,
     "metadata": {},
     "output_type": "execute_result"
    }
   ],
   "source": [
    "estimator = SVR()\n",
    "\n",
    "param_grid = {\"C\": list(range(201, 300)), \"kernel\": [\"linear\", \"poly\", \"sigmoid\", \"rbf\"]}\n",
    "\n",
    "grid_model = GridSearchCV(estimator, param_grid, cv = 5, scoring = \"r2\")\n",
    "\n",
    "grid_model.fit(X_train, y_train)\n",
    "\n",
    "grid_model.best_params_"
   ]
  },
  {
   "cell_type": "markdown",
   "id": "158b1663-908e-4fc7-83c8-a46dc99b56ba",
   "metadata": {},
   "source": [
    "# ***GridSearchCV - KNearestNeighbors - KNeighborsRegressor***"
   ]
  },
  {
   "cell_type": "code",
   "execution_count": 43,
   "id": "e831d830-c93e-43a1-9d2d-1eca65bb1cb0",
   "metadata": {},
   "outputs": [
    {
     "data": {
      "text/plain": [
       "{'n_neighbors': 6}"
      ]
     },
     "execution_count": 43,
     "metadata": {},
     "output_type": "execute_result"
    }
   ],
   "source": [
    "estimator = KNeighborsRegressor()\n",
    "\n",
    "param_grid = {\"n_neighbors\": list(range(1, 20))}\n",
    "\n",
    "grid_model = GridSearchCV(estimator, param_grid, cv = 5, scoring = \"r2\")\n",
    "\n",
    "grid_model.fit(X_train, y_train)\n",
    "\n",
    "grid_model.best_params_"
   ]
  },
  {
   "cell_type": "markdown",
   "id": "e03e2efe-e6c8-424b-9468-99d32390cdb6",
   "metadata": {},
   "source": [
    "# ***GridSearchCV - Decision Tree - DecisionTreeRegressor***"
   ]
  },
  {
   "cell_type": "code",
   "execution_count": 53,
   "id": "0a77173c-9449-4ce4-b29b-6f6baf08ddea",
   "metadata": {},
   "outputs": [
    {
     "name": "stdout",
     "output_type": "stream",
     "text": [
      "{'max_depth': 7}\n"
     ]
    },
    {
     "data": {
      "text/plain": [
       "array([0.64031011, 0.35657512, 0.00311477])"
      ]
     },
     "execution_count": 53,
     "metadata": {},
     "output_type": "execute_result"
    }
   ],
   "source": [
    "estimator = DecisionTreeRegressor(random_state = 0)\n",
    "\n",
    "param_grid = {\"max_depth\": list(range(1, 20))}\n",
    "\n",
    "grid_model = GridSearchCV(estimator, param_grid, cv = 5, scoring = \"r2\")\n",
    "\n",
    "grid_model.fit(X_train, y_train)\n",
    "\n",
    "print(grid_model.best_params_)\n",
    "\n",
    "grid_model.best_estimator_.feature_importances_"
   ]
  },
  {
   "cell_type": "markdown",
   "id": "8f33af94-594f-4e6e-a7fb-d9efcb6a319c",
   "metadata": {},
   "source": [
    "# ***GridSearchCV - RandomForestRegressor***"
   ]
  },
  {
   "cell_type": "code",
   "execution_count": 56,
   "id": "1e2ffb45-b19f-4919-87e7-a507a74bb1e5",
   "metadata": {},
   "outputs": [
    {
     "name": "stdout",
     "output_type": "stream",
     "text": [
      "Best Params : {'n_estimators': 18}\n"
     ]
    },
    {
     "data": {
      "text/plain": [
       "array([0.66731905, 0.32157026, 0.01111069])"
      ]
     },
     "execution_count": 56,
     "metadata": {},
     "output_type": "execute_result"
    }
   ],
   "source": [
    "estimator = RandomForestRegressor(random_state = 0)\n",
    "\n",
    "param_grid = {\"n_estimators\": list(range(1, 20))}\n",
    "\n",
    "grid_model = GridSearchCV(estimator, param_grid, cv = 5, scoring = \"r2\")\n",
    "\n",
    "grid_model.fit(X_train, y_train)\n",
    "\n",
    "print(\"Best Params :\", grid_model.best_params_)\n",
    "\n",
    "grid_model.best_estimator_.feature_importances_"
   ]
  },
  {
   "cell_type": "markdown",
   "id": "0b3092ab-cf0b-45d1-b0ec-de2f04abe41b",
   "metadata": {},
   "source": [
    "# ***AdaBoostRegressor***"
   ]
  },
  {
   "cell_type": "code",
   "execution_count": 58,
   "id": "d00ac2ee-75ed-4376-bb17-3412d90ff024",
   "metadata": {},
   "outputs": [
    {
     "name": "stdout",
     "output_type": "stream",
     "text": [
      "Best Params : {'n_estimators': 38}\n"
     ]
    },
    {
     "data": {
      "text/plain": [
       "array([0.72789405, 0.26141767, 0.01068827])"
      ]
     },
     "execution_count": 58,
     "metadata": {},
     "output_type": "execute_result"
    }
   ],
   "source": [
    "estimator = AdaBoostRegressor(random_state = 0)\n",
    "\n",
    "param_grid = {\"n_estimators\": list(range(19, 40))}\n",
    "\n",
    "grid_model = GridSearchCV(estimator, param_grid, cv = 5, scoring = \"r2\")\n",
    "\n",
    "grid_model.fit(X_train, y_train)\n",
    "\n",
    "print(\"Best Params :\", grid_model.best_params_)\n",
    "\n",
    "grid_model.best_estimator_.feature_importances_"
   ]
  },
  {
   "cell_type": "markdown",
   "id": "2c00c584-63dd-450a-9343-8cf069b91ea8",
   "metadata": {},
   "source": [
    "# ***GradientBoostingRegressor***"
   ]
  },
  {
   "cell_type": "code",
   "execution_count": 61,
   "id": "a08a4b13-3f91-410a-858a-1198872b1131",
   "metadata": {},
   "outputs": [
    {
     "name": "stdout",
     "output_type": "stream",
     "text": [
      "Best Params : {'learning_rate': 0.2, 'n_estimators': 55}\n"
     ]
    },
    {
     "data": {
      "text/plain": [
       "array([0.64499165, 0.35142512, 0.00358323])"
      ]
     },
     "execution_count": 61,
     "metadata": {},
     "output_type": "execute_result"
    }
   ],
   "source": [
    "estimator = GradientBoostingRegressor(random_state = 0)\n",
    "\n",
    "param_grid = {\"n_estimators\": list(range(39, 60)), \"learning_rate\": [0, 0.1, 0.2, 0.3, 0.4, 0.5, 0.6, 0.7, 0.8, 0.9, 1]}\n",
    "\n",
    "grid_model = GridSearchCV(estimator, param_grid, cv = 5, scoring = \"r2\")\n",
    "\n",
    "grid_model.fit(X_train, y_train)\n",
    "\n",
    "print(\"Best Params :\", grid_model.best_params_)\n",
    "\n",
    "grid_model.best_estimator_.feature_importances_"
   ]
  },
  {
   "cell_type": "markdown",
   "id": "17019bf9-8e25-481f-981c-2ad5015954a4",
   "metadata": {},
   "source": [
    "# ***XGBRegressor***"
   ]
  },
  {
   "cell_type": "code",
   "execution_count": 69,
   "id": "8f56c392-e453-4860-97b2-9c92f532950f",
   "metadata": {},
   "outputs": [
    {
     "name": "stdout",
     "output_type": "stream",
     "text": [
      "Best Params : {'gamma': 0.3, 'learning_rate': 0.1, 'n_estimators': 143}\n"
     ]
    },
    {
     "data": {
      "text/plain": [
       "array([0.57699984, 0.41846222, 0.00453788], dtype=float32)"
      ]
     },
     "execution_count": 69,
     "metadata": {},
     "output_type": "execute_result"
    }
   ],
   "source": [
    "estimator = XGBRegressor(random_state = 0)\n",
    "\n",
    "param_grid = {\"n_estimators\": list(range(120, 150)), \"learning_rate\": [0, 0.1, 0.2, 0.3],\n",
    "             \"gamma\":[0, 0.1, 0.2, 0.3] }\n",
    "\n",
    "grid_model = GridSearchCV(estimator, param_grid, cv = 5, scoring = \"r2\")\n",
    "\n",
    "grid_model.fit(X_train, y_train)\n",
    "\n",
    "print(\"Best Params :\", grid_model.best_params_)\n",
    "\n",
    "grid_model.best_estimator_.feature_importances_"
   ]
  },
  {
   "cell_type": "code",
   "execution_count": null,
   "id": "97d6459f-ab61-4d98-b5c1-0a238bf4d391",
   "metadata": {},
   "outputs": [],
   "source": []
  }
 ],
 "metadata": {
  "kernelspec": {
   "display_name": "Python 3 (ipykernel)",
   "language": "python",
   "name": "python3"
  },
  "language_info": {
   "codemirror_mode": {
    "name": "ipython",
    "version": 3
   },
   "file_extension": ".py",
   "mimetype": "text/x-python",
   "name": "python",
   "nbconvert_exporter": "python",
   "pygments_lexer": "ipython3",
   "version": "3.11.5"
  }
 },
 "nbformat": 4,
 "nbformat_minor": 5
}
