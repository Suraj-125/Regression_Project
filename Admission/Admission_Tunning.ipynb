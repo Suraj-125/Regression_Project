{
 "cells": [
  {
   "cell_type": "code",
   "execution_count": 1,
   "id": "338bd5b9-b3ef-4d61-ad55-8aaccf6dbdb9",
   "metadata": {},
   "outputs": [],
   "source": [
    "import numpy as np\n",
    "import pandas as pd\n",
    "\n",
    "import warnings\n",
    "warnings.simplefilter(\"ignore\")"
   ]
  },
  {
   "cell_type": "code",
   "execution_count": 2,
   "id": "27d904ca-52a1-47c6-a412-18ac3edc80c9",
   "metadata": {},
   "outputs": [
    {
     "data": {
      "text/html": [
       "<div>\n",
       "<style scoped>\n",
       "    .dataframe tbody tr th:only-of-type {\n",
       "        vertical-align: middle;\n",
       "    }\n",
       "\n",
       "    .dataframe tbody tr th {\n",
       "        vertical-align: top;\n",
       "    }\n",
       "\n",
       "    .dataframe thead th {\n",
       "        text-align: right;\n",
       "    }\n",
       "</style>\n",
       "<table border=\"1\" class=\"dataframe\">\n",
       "  <thead>\n",
       "    <tr style=\"text-align: right;\">\n",
       "      <th></th>\n",
       "      <th>GRE Score</th>\n",
       "      <th>TOEFL Score</th>\n",
       "      <th>University Rating</th>\n",
       "      <th>SOP</th>\n",
       "      <th>LOR</th>\n",
       "      <th>CGPA</th>\n",
       "      <th>Research</th>\n",
       "      <th>Chance of Admit</th>\n",
       "    </tr>\n",
       "  </thead>\n",
       "  <tbody>\n",
       "    <tr>\n",
       "      <th>0</th>\n",
       "      <td>337</td>\n",
       "      <td>118</td>\n",
       "      <td>4</td>\n",
       "      <td>4.5</td>\n",
       "      <td>4.5</td>\n",
       "      <td>9.65</td>\n",
       "      <td>1</td>\n",
       "      <td>0.92</td>\n",
       "    </tr>\n",
       "    <tr>\n",
       "      <th>1</th>\n",
       "      <td>324</td>\n",
       "      <td>107</td>\n",
       "      <td>4</td>\n",
       "      <td>4.0</td>\n",
       "      <td>4.5</td>\n",
       "      <td>8.87</td>\n",
       "      <td>1</td>\n",
       "      <td>0.76</td>\n",
       "    </tr>\n",
       "    <tr>\n",
       "      <th>2</th>\n",
       "      <td>316</td>\n",
       "      <td>104</td>\n",
       "      <td>3</td>\n",
       "      <td>3.0</td>\n",
       "      <td>3.5</td>\n",
       "      <td>8.00</td>\n",
       "      <td>1</td>\n",
       "      <td>0.72</td>\n",
       "    </tr>\n",
       "    <tr>\n",
       "      <th>3</th>\n",
       "      <td>322</td>\n",
       "      <td>110</td>\n",
       "      <td>3</td>\n",
       "      <td>3.5</td>\n",
       "      <td>2.5</td>\n",
       "      <td>8.67</td>\n",
       "      <td>1</td>\n",
       "      <td>0.80</td>\n",
       "    </tr>\n",
       "    <tr>\n",
       "      <th>4</th>\n",
       "      <td>314</td>\n",
       "      <td>103</td>\n",
       "      <td>2</td>\n",
       "      <td>2.0</td>\n",
       "      <td>3.0</td>\n",
       "      <td>8.21</td>\n",
       "      <td>0</td>\n",
       "      <td>0.65</td>\n",
       "    </tr>\n",
       "  </tbody>\n",
       "</table>\n",
       "</div>"
      ],
      "text/plain": [
       "   GRE Score  TOEFL Score  University Rating  SOP  LOR  CGPA  Research  \\\n",
       "0        337          118                  4  4.5  4.5  9.65         1   \n",
       "1        324          107                  4  4.0  4.5  8.87         1   \n",
       "2        316          104                  3  3.0  3.5  8.00         1   \n",
       "3        322          110                  3  3.5  2.5  8.67         1   \n",
       "4        314          103                  2  2.0  3.0  8.21         0   \n",
       "\n",
       "   Chance of Admit  \n",
       "0             0.92  \n",
       "1             0.76  \n",
       "2             0.72  \n",
       "3             0.80  \n",
       "4             0.65  "
      ]
     },
     "execution_count": 2,
     "metadata": {},
     "output_type": "execute_result"
    }
   ],
   "source": [
    "df = pd.read_csv(\"admission_analyzed.csv\")\n",
    "df.head()"
   ]
  },
  {
   "cell_type": "code",
   "execution_count": 3,
   "id": "dcdfa227-b06f-4c52-8658-258b98a640f4",
   "metadata": {},
   "outputs": [],
   "source": [
    "X = df.drop(\"Chance of Admit\", axis = 1)\n",
    "y = df[\"Chance of Admit\"]"
   ]
  },
  {
   "cell_type": "markdown",
   "id": "8d2020b8-69b8-4cce-a407-9034f9e9ad52",
   "metadata": {},
   "source": [
    "***Train Test Split***"
   ]
  },
  {
   "cell_type": "code",
   "execution_count": 23,
   "id": "57d8d935-1f07-4d6c-b733-bebafb9037c9",
   "metadata": {},
   "outputs": [],
   "source": [
    "from sklearn.model_selection import train_test_split, GridSearchCV, cross_val_score\n",
    "from sklearn.preprocessing import StandardScaler, PolynomialFeatures\n",
    "from sklearn.decomposition import PCA\n",
    "from sklearn.compose import ColumnTransformer\n",
    "from sklearn.pipeline import Pipeline\n",
    "from sklearn.linear_model import LinearRegression, Ridge, Lasso, ElasticNet\n",
    "from sklearn.svm import SVR\n",
    "from sklearn.neighbors import KNeighborsRegressor\n",
    "from sklearn.tree import DecisionTreeRegressor\n",
    "from sklearn.ensemble import RandomForestRegressor, AdaBoostRegressor, GradientBoostingRegressor\n",
    "from xgboost import XGBRegressor\n",
    "from sklearn.metrics import mean_absolute_error"
   ]
  },
  {
   "cell_type": "markdown",
   "id": "5f3aa40b-1bf9-48dd-9d8f-277e8ccefb15",
   "metadata": {},
   "source": [
    "***Finding Best Random State***"
   ]
  },
  {
   "cell_type": "code",
   "execution_count": 15,
   "id": "8025c408-ca7c-4ae7-9701-9f5f4b488585",
   "metadata": {},
   "outputs": [],
   "source": [
    "train = []\n",
    "test = []\n",
    "cv = []\n",
    "mae = []\n",
    "\n",
    "for i in range(100):\n",
    "    X_train, X_test, y_train, y_test = train_test_split(X, y, test_size = 0.2, random_state = i)\n",
    "\n",
    "    step = ColumnTransformer(transformers = [\n",
    "        (\"scaler\", StandardScaler(), [0, 1, 2, 3, 4, 5])\n",
    "    ], remainder = \"passthrough\")\n",
    "\n",
    "    pipe = Pipeline([\n",
    "        (\"step\", step),\n",
    "        # (\"pca\", PCA(n_components = 1)),\n",
    "        (\"model\", LinearRegression())\n",
    "    ])\n",
    "\n",
    "    pipe.fit(X_train, y_train)\n",
    "    pred_train = pipe.predict(X_train)\n",
    "    pred_test = pipe.predict(X_test)\n",
    "\n",
    "    train_accuracy = pipe.score(X_train, y_train)\n",
    "    test_accuracy = pipe.score(X_test, y_test)\n",
    "\n",
    "    mae_score = mean_absolute_error(y_test, pred_test)\n",
    "    cv_score = cross_val_score(pipe, X_train, y_train, cv = 5).mean()\n",
    "\n",
    "    train.append(train_accuracy)\n",
    "    test.append(test_accuracy)\n",
    "    cv.append(cv_score)\n",
    "    mae.append(mae_score)\n",
    "\n",
    "ff = pd.DataFrame({\n",
    "    \"Train Model\": train,\n",
    "    \"Test Model\": test,\n",
    "    \"CV\": cv,\n",
    "    \"MAE\": mae\n",
    "})"
   ]
  },
  {
   "cell_type": "code",
   "execution_count": 16,
   "id": "dc573d60-2d9a-4ea1-8db2-dd791812e576",
   "metadata": {},
   "outputs": [
    {
     "data": {
      "text/html": [
       "<div>\n",
       "<style scoped>\n",
       "    .dataframe tbody tr th:only-of-type {\n",
       "        vertical-align: middle;\n",
       "    }\n",
       "\n",
       "    .dataframe tbody tr th {\n",
       "        vertical-align: top;\n",
       "    }\n",
       "\n",
       "    .dataframe thead th {\n",
       "        text-align: right;\n",
       "    }\n",
       "</style>\n",
       "<table border=\"1\" class=\"dataframe\">\n",
       "  <thead>\n",
       "    <tr style=\"text-align: right;\">\n",
       "      <th></th>\n",
       "      <th>Train Model</th>\n",
       "      <th>Test Model</th>\n",
       "      <th>CV</th>\n",
       "      <th>MAE</th>\n",
       "    </tr>\n",
       "  </thead>\n",
       "  <tbody>\n",
       "    <tr>\n",
       "      <th>37</th>\n",
       "      <td>0.809355</td>\n",
       "      <td>0.870252</td>\n",
       "      <td>0.800884</td>\n",
       "      <td>0.034781</td>\n",
       "    </tr>\n",
       "    <tr>\n",
       "      <th>46</th>\n",
       "      <td>0.821726</td>\n",
       "      <td>0.801517</td>\n",
       "      <td>0.808648</td>\n",
       "      <td>0.036747</td>\n",
       "    </tr>\n",
       "    <tr>\n",
       "      <th>28</th>\n",
       "      <td>0.816858</td>\n",
       "      <td>0.844576</td>\n",
       "      <td>0.795360</td>\n",
       "      <td>0.037469</td>\n",
       "    </tr>\n",
       "    <tr>\n",
       "      <th>31</th>\n",
       "      <td>0.814673</td>\n",
       "      <td>0.848832</td>\n",
       "      <td>0.805871</td>\n",
       "      <td>0.037697</td>\n",
       "    </tr>\n",
       "    <tr>\n",
       "      <th>99</th>\n",
       "      <td>0.813026</td>\n",
       "      <td>0.852766</td>\n",
       "      <td>0.806158</td>\n",
       "      <td>0.038246</td>\n",
       "    </tr>\n",
       "    <tr>\n",
       "      <th>...</th>\n",
       "      <td>...</td>\n",
       "      <td>...</td>\n",
       "      <td>...</td>\n",
       "      <td>...</td>\n",
       "    </tr>\n",
       "    <tr>\n",
       "      <th>85</th>\n",
       "      <td>0.831743</td>\n",
       "      <td>0.776164</td>\n",
       "      <td>0.822676</td>\n",
       "      <td>0.049260</td>\n",
       "    </tr>\n",
       "    <tr>\n",
       "      <th>94</th>\n",
       "      <td>0.837615</td>\n",
       "      <td>0.748116</td>\n",
       "      <td>0.826114</td>\n",
       "      <td>0.049850</td>\n",
       "    </tr>\n",
       "    <tr>\n",
       "      <th>78</th>\n",
       "      <td>0.842624</td>\n",
       "      <td>0.731096</td>\n",
       "      <td>0.832520</td>\n",
       "      <td>0.050759</td>\n",
       "    </tr>\n",
       "    <tr>\n",
       "      <th>32</th>\n",
       "      <td>0.821500</td>\n",
       "      <td>0.813323</td>\n",
       "      <td>0.806425</td>\n",
       "      <td>0.052852</td>\n",
       "    </tr>\n",
       "    <tr>\n",
       "      <th>63</th>\n",
       "      <td>0.846711</td>\n",
       "      <td>0.735101</td>\n",
       "      <td>0.834102</td>\n",
       "      <td>0.056212</td>\n",
       "    </tr>\n",
       "  </tbody>\n",
       "</table>\n",
       "<p>100 rows × 4 columns</p>\n",
       "</div>"
      ],
      "text/plain": [
       "    Train Model  Test Model        CV       MAE\n",
       "37     0.809355    0.870252  0.800884  0.034781\n",
       "46     0.821726    0.801517  0.808648  0.036747\n",
       "28     0.816858    0.844576  0.795360  0.037469\n",
       "31     0.814673    0.848832  0.805871  0.037697\n",
       "99     0.813026    0.852766  0.806158  0.038246\n",
       "..          ...         ...       ...       ...\n",
       "85     0.831743    0.776164  0.822676  0.049260\n",
       "94     0.837615    0.748116  0.826114  0.049850\n",
       "78     0.842624    0.731096  0.832520  0.050759\n",
       "32     0.821500    0.813323  0.806425  0.052852\n",
       "63     0.846711    0.735101  0.834102  0.056212\n",
       "\n",
       "[100 rows x 4 columns]"
      ]
     },
     "execution_count": 16,
     "metadata": {},
     "output_type": "execute_result"
    }
   ],
   "source": [
    "ff.sort_values(by = \"MAE\", ascending = True)"
   ]
  },
  {
   "cell_type": "code",
   "execution_count": 17,
   "id": "03c0959a-f976-46f2-a609-7f14a72da67b",
   "metadata": {},
   "outputs": [],
   "source": [
    "X_train, X_test, y_train, y_test = train_test_split(X, y, test_size = 0.2, random_state = 46)"
   ]
  },
  {
   "cell_type": "markdown",
   "id": "f52d0a7d-d6cb-4e1f-92a7-e340f7f2a4d0",
   "metadata": {},
   "source": [
    "# ***PolynomialFeatures***"
   ]
  },
  {
   "cell_type": "code",
   "execution_count": 20,
   "id": "5482eb36-a088-46b6-960a-fb2eff076c5a",
   "metadata": {},
   "outputs": [
    {
     "data": {
      "text/plain": [
       "{'model__degree': 1}"
      ]
     },
     "execution_count": 20,
     "metadata": {},
     "output_type": "execute_result"
    }
   ],
   "source": [
    "step = ColumnTransformer(transformers = [\n",
    "    (\"scaler\", StandardScaler(), [0, 1, 2, 3, 4, 5])\n",
    "], remainder = \"passthrough\")\n",
    "\n",
    "pipe = Pipeline([\n",
    "    (\"step\", step),\n",
    "    (\"model\", PolynomialFeatures())\n",
    "])\n",
    "\n",
    "svc_param_grid = {\"model__degree\": list(range(1, 10))}\n",
    "\n",
    "svc_grid = GridSearchCV(pipe, svc_param_grid, cv = 5, scoring = \"accuracy\")\n",
    "\n",
    "svc_grid.fit(X_train, y_train)\n",
    "\n",
    "svc_grid.best_params_"
   ]
  },
  {
   "cell_type": "markdown",
   "id": "61945cdf-610c-41be-9ec4-aff2863de915",
   "metadata": {},
   "source": [
    "# ***Ridge***"
   ]
  },
  {
   "cell_type": "code",
   "execution_count": 27,
   "id": "b1764736-cf0c-4b42-9bcf-d4b7c5d00c9e",
   "metadata": {},
   "outputs": [
    {
     "data": {
      "text/plain": [
       "{'model__alpha': 10}"
      ]
     },
     "execution_count": 27,
     "metadata": {},
     "output_type": "execute_result"
    }
   ],
   "source": [
    "step = ColumnTransformer(transformers = [\n",
    "    (\"scaler\", StandardScaler(), [0, 1, 2, 3, 4, 5])\n",
    "], remainder = \"passthrough\")\n",
    "\n",
    "pipe = Pipeline([\n",
    "    (\"step\", step),\n",
    "    (\"model\", Ridge())\n",
    "])\n",
    "\n",
    "svc_param_grid = {\"model__alpha\": [0.001, 0.1, 0, 10]}\n",
    "\n",
    "svc_grid = GridSearchCV(pipe, svc_param_grid, cv = 5, scoring = \"r2\")\n",
    "\n",
    "svc_grid.fit(X_train, y_train)\n",
    "\n",
    "svc_grid.best_params_"
   ]
  },
  {
   "cell_type": "markdown",
   "id": "d348fa73-dd71-4279-b663-a81c64cd523c",
   "metadata": {},
   "source": [
    "# ***Lasso***"
   ]
  },
  {
   "cell_type": "code",
   "execution_count": 28,
   "id": "c0025b0f-898a-4281-b0fc-d1009a4ecfe2",
   "metadata": {},
   "outputs": [
    {
     "data": {
      "text/plain": [
       "{'model__alpha': 0.001}"
      ]
     },
     "execution_count": 28,
     "metadata": {},
     "output_type": "execute_result"
    }
   ],
   "source": [
    "step = ColumnTransformer(transformers = [\n",
    "    (\"scaler\", StandardScaler(), [0, 1, 2, 3, 4, 5])\n",
    "], remainder = \"passthrough\")\n",
    "\n",
    "pipe = Pipeline([\n",
    "    (\"step\", step),\n",
    "    (\"model\", Lasso())\n",
    "])\n",
    "\n",
    "svc_param_grid = {\"model__alpha\": [0.001, 0.1, 0, 10, 100]}\n",
    "\n",
    "svc_grid = GridSearchCV(pipe, svc_param_grid, cv = 5, scoring = \"r2\")\n",
    "\n",
    "svc_grid.fit(X_train, y_train)\n",
    "\n",
    "svc_grid.best_params_"
   ]
  },
  {
   "cell_type": "markdown",
   "id": "4c71ad77-84c6-42c6-aa62-e63c5e9e2f37",
   "metadata": {},
   "source": [
    "# ***ElasticNet***"
   ]
  },
  {
   "cell_type": "code",
   "execution_count": 31,
   "id": "698f5af4-69fc-4865-bbb4-84abb28981b7",
   "metadata": {},
   "outputs": [
    {
     "data": {
      "text/plain": [
       "{'model__alpha': 0.001, 'model__l1_ratio': 0.4}"
      ]
     },
     "execution_count": 31,
     "metadata": {},
     "output_type": "execute_result"
    }
   ],
   "source": [
    "step = ColumnTransformer(transformers = [\n",
    "    (\"scaler\", StandardScaler(), [0, 1, 2, 3, 4, 5])\n",
    "], remainder = \"passthrough\")\n",
    "\n",
    "pipe = Pipeline([\n",
    "    (\"step\", step),\n",
    "    (\"model\", ElasticNet())\n",
    "])\n",
    "\n",
    "svc_param_grid = {\"model__alpha\": [0.001, 0.1, 0, 10, 100], \"model__l1_ratio\": [0, 0.1, 0.2, 0.3, 0.4, 0.5, 0.6, 0.7, 0.8, 0.9,1]}\n",
    "\n",
    "svc_grid = GridSearchCV(pipe, svc_param_grid, cv = 5, scoring = \"r2\")\n",
    "\n",
    "svc_grid.fit(X_train, y_train)\n",
    "\n",
    "svc_grid.best_params_"
   ]
  },
  {
   "cell_type": "markdown",
   "id": "8d595edf-fbce-48f5-b0c9-93c8dc080463",
   "metadata": {},
   "source": [
    "# ***SVR***"
   ]
  },
  {
   "cell_type": "code",
   "execution_count": 32,
   "id": "edd6068a-da10-4945-9a74-a320d096ebb4",
   "metadata": {},
   "outputs": [
    {
     "data": {
      "text/plain": [
       "{'model__C': 0.1, 'model__kernel': 'linear'}"
      ]
     },
     "execution_count": 32,
     "metadata": {},
     "output_type": "execute_result"
    }
   ],
   "source": [
    "step = ColumnTransformer(transformers = [\n",
    "    (\"scaler\", StandardScaler(), [0, 1, 2, 3, 4, 5])\n",
    "], remainder = \"passthrough\")\n",
    "\n",
    "pipe = Pipeline([\n",
    "    (\"step\", step),\n",
    "    (\"model\", SVR())\n",
    "])\n",
    "\n",
    "svc_param_grid = {\"model__C\": [0.001, 0.1, 0, 10, 100], \"model__kernel\": [\"linear\", \"poly\", \"sigmoid\", \"rbf\"]}\n",
    "\n",
    "svc_grid = GridSearchCV(pipe, svc_param_grid, cv = 5, scoring = \"r2\")\n",
    "\n",
    "svc_grid.fit(X_train, y_train)\n",
    "\n",
    "svc_grid.best_params_"
   ]
  },
  {
   "cell_type": "markdown",
   "id": "e2add75a-2f90-403b-a907-6f86ba660594",
   "metadata": {},
   "source": [
    "# ***KNeighborsRegressor***"
   ]
  },
  {
   "cell_type": "code",
   "execution_count": 34,
   "id": "aa6be942-8f23-428a-8f88-7dbbeb19d069",
   "metadata": {},
   "outputs": [
    {
     "data": {
      "text/plain": [
       "{'model__n_neighbors': 5}"
      ]
     },
     "execution_count": 34,
     "metadata": {},
     "output_type": "execute_result"
    }
   ],
   "source": [
    "step = ColumnTransformer(transformers = [\n",
    "    (\"scaler\", StandardScaler(), [0, 1, 2, 3, 4, 5])\n",
    "], remainder = \"passthrough\")\n",
    "\n",
    "pipe = Pipeline([\n",
    "    (\"step\", step),\n",
    "    (\"model\", KNeighborsRegressor())\n",
    "])\n",
    "\n",
    "knn_param_grid = {\"model__n_neighbors\": list(range(1, 20))}\n",
    "\n",
    "knn_grid = GridSearchCV(pipe, knn_param_grid, cv = 5, scoring = \"r2\")\n",
    "\n",
    "knn_grid.fit(X_train, y_train)\n",
    "\n",
    "knn_grid.best_params_"
   ]
  },
  {
   "cell_type": "markdown",
   "id": "1d265340-6ad2-4ec6-9db3-4f4c5ffe5db2",
   "metadata": {},
   "source": [
    "# ***DecisionTreeRegressor***"
   ]
  },
  {
   "cell_type": "code",
   "execution_count": 35,
   "id": "f11ebb7b-9bbb-4c98-9fd3-f856136aefc6",
   "metadata": {},
   "outputs": [
    {
     "data": {
      "text/plain": [
       "{'model__max_depth': 4}"
      ]
     },
     "execution_count": 35,
     "metadata": {},
     "output_type": "execute_result"
    }
   ],
   "source": [
    "step = ColumnTransformer(transformers = [\n",
    "    (\"scaler\", StandardScaler(), [0, 1, 2, 3, 4, 5])\n",
    "], remainder = \"passthrough\")\n",
    "\n",
    "pipe = Pipeline([\n",
    "    (\"step\", step),\n",
    "    (\"model\", DecisionTreeRegressor())\n",
    "])\n",
    "\n",
    "decision_param_grid = {\"model__max_depth\": list(range(1, 40))}\n",
    "\n",
    "decision_grid = GridSearchCV(pipe, decision_param_grid, cv = 5, scoring = \"r2\")\n",
    "\n",
    "decision_grid.fit(X_train, y_train)\n",
    "\n",
    "decision_grid.best_params_"
   ]
  },
  {
   "cell_type": "markdown",
   "id": "6b11df2d-16e1-4c98-9d6e-112e3c416bd0",
   "metadata": {},
   "source": [
    "# ***RandomForestRegressor***"
   ]
  },
  {
   "cell_type": "code",
   "execution_count": 36,
   "id": "6bd99edd-bbca-4154-a8cc-2039d6fade1a",
   "metadata": {},
   "outputs": [
    {
     "data": {
      "text/plain": [
       "{'model__n_estimators': 18}"
      ]
     },
     "execution_count": 36,
     "metadata": {},
     "output_type": "execute_result"
    }
   ],
   "source": [
    "step = ColumnTransformer(transformers = [\n",
    "    (\"scaler\", StandardScaler(), [0, 1, 2, 3, 4, 5])\n",
    "], remainder = \"passthrough\")\n",
    "\n",
    "pipe = Pipeline([\n",
    "    (\"step\", step),\n",
    "    (\"model\", RandomForestRegressor())\n",
    "])\n",
    "\n",
    "random_param_grid = {\"model__n_estimators\": list(range(1, 20))}\n",
    "\n",
    "random_grid = GridSearchCV(pipe, random_param_grid, cv = 5, scoring = \"r2\")\n",
    "\n",
    "random_grid.fit(X_train, y_train)\n",
    "\n",
    "random_grid.best_params_"
   ]
  },
  {
   "cell_type": "markdown",
   "id": "d3112746-361f-4f85-9d73-8c788d1e4975",
   "metadata": {},
   "source": [
    "# ***AdaBoostRegressor***"
   ]
  },
  {
   "cell_type": "code",
   "execution_count": 37,
   "id": "97ff5093-3de0-4132-b108-39eff55adb2b",
   "metadata": {},
   "outputs": [
    {
     "data": {
      "text/plain": [
       "{'model__n_estimators': 5}"
      ]
     },
     "execution_count": 37,
     "metadata": {},
     "output_type": "execute_result"
    }
   ],
   "source": [
    "step = ColumnTransformer(transformers = [\n",
    "    (\"scaler\", StandardScaler(), [0, 1, 2, 3, 4, 5])\n",
    "], remainder = \"passthrough\")\n",
    "\n",
    "pipe = Pipeline([\n",
    "    (\"step\", step),\n",
    "    (\"model\", AdaBoostRegressor())\n",
    "])\n",
    "\n",
    "ada_param_grid = {\"model__n_estimators\": list(range(1, 20))}\n",
    "\n",
    "ada_grid = GridSearchCV(pipe, ada_param_grid, cv = 5, scoring = \"r2\")\n",
    "\n",
    "ada_grid.fit(X_train, y_train)\n",
    "\n",
    "ada_grid.best_params_"
   ]
  },
  {
   "cell_type": "markdown",
   "id": "2faa80df-d3de-45ce-a612-029bde2b3293",
   "metadata": {},
   "source": [
    "# ***GradientBoostingRegressor***"
   ]
  },
  {
   "cell_type": "code",
   "execution_count": 38,
   "id": "531bc089-9c1c-4bab-9375-299c21021c1b",
   "metadata": {},
   "outputs": [
    {
     "data": {
      "text/plain": [
       "{'model__learning_rate': 0.2, 'model__n_estimators': 18}"
      ]
     },
     "execution_count": 38,
     "metadata": {},
     "output_type": "execute_result"
    }
   ],
   "source": [
    "step = ColumnTransformer(transformers = [\n",
    "    (\"scaler\", StandardScaler(), [0, 1, 2, 3, 4, 5])\n",
    "], remainder = \"passthrough\")\n",
    "\n",
    "pipe = Pipeline([\n",
    "    (\"step\", step),\n",
    "    (\"model\", GradientBoostingRegressor())\n",
    "])\n",
    "\n",
    "gradient_param_grid = {\"model__n_estimators\": list(range(1, 20)), \"model__learning_rate\" : [0, 0.1, 0.2, 0.3, 0.4, 0.5, 0.6, 0.7, 0.8, 0.9, 1]}\n",
    "\n",
    "gradient_grid = GridSearchCV(pipe, gradient_param_grid, cv = 5, scoring = \"r2\")\n",
    "\n",
    "gradient_grid.fit(X_train, y_train)\n",
    "\n",
    "gradient_grid.best_params_"
   ]
  },
  {
   "cell_type": "markdown",
   "id": "cdd3e4a7-2fb8-48d0-8d7d-458271203b31",
   "metadata": {},
   "source": [
    "# ***XGBRegressor***"
   ]
  },
  {
   "cell_type": "code",
   "execution_count": 40,
   "id": "dfc4d487-ff41-42af-a250-5de11ebebf1f",
   "metadata": {},
   "outputs": [
    {
     "data": {
      "text/plain": [
       "{'model__gamma': 0.1, 'model__learning_rate': 0.3, 'model__n_estimators': 25}"
      ]
     },
     "execution_count": 40,
     "metadata": {},
     "output_type": "execute_result"
    }
   ],
   "source": [
    "step = ColumnTransformer(transformers = [\n",
    "    (\"scaler\", StandardScaler(), [0, 1, 2, 3, 4, 5])\n",
    "], remainder = \"passthrough\")\n",
    "\n",
    "pipe = Pipeline([\n",
    "    (\"step\", step),\n",
    "    (\"model\", XGBRegressor())\n",
    "])\n",
    "\n",
    "xgb_param_grid = {\"model__n_estimators\": list(range(1, 30)), \"model__learning_rate\" : [0.2, 0.3, 0.4, 0.5],\n",
    "                 \"model__gamma\": [0, 0.1, 0.2, 0.3]}\n",
    "\n",
    "xgb_grid = GridSearchCV(pipe, xgb_param_grid, cv = 5, scoring = \"r2\")\n",
    "\n",
    "xgb_grid.fit(X_train, y_train)\n",
    "\n",
    "xgb_grid.best_params_"
   ]
  },
  {
   "cell_type": "code",
   "execution_count": null,
   "id": "e97f4c4e-11fc-4b54-adea-8b96e4e1d290",
   "metadata": {},
   "outputs": [],
   "source": []
  }
 ],
 "metadata": {
  "kernelspec": {
   "display_name": "Python 3 (ipykernel)",
   "language": "python",
   "name": "python3"
  },
  "language_info": {
   "codemirror_mode": {
    "name": "ipython",
    "version": 3
   },
   "file_extension": ".py",
   "mimetype": "text/x-python",
   "name": "python",
   "nbconvert_exporter": "python",
   "pygments_lexer": "ipython3",
   "version": "3.11.5"
  }
 },
 "nbformat": 4,
 "nbformat_minor": 5
}
