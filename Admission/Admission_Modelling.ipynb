{
 "cells": [
  {
   "cell_type": "code",
   "execution_count": 1,
   "id": "02eb5047-2be5-4f16-99a2-982f160587e4",
   "metadata": {},
   "outputs": [],
   "source": [
    "import numpy as np\n",
    "import pandas as pd\n",
    "import matplotlib.pyplot as plt\n",
    "import seaborn as sns\n",
    "\n",
    "import warnings\n",
    "warnings.simplefilter(\"ignore\")"
   ]
  },
  {
   "cell_type": "code",
   "execution_count": 2,
   "id": "c0deca4d-e8f6-4a38-a544-991e6da6443e",
   "metadata": {},
   "outputs": [
    {
     "data": {
      "text/html": [
       "<div>\n",
       "<style scoped>\n",
       "    .dataframe tbody tr th:only-of-type {\n",
       "        vertical-align: middle;\n",
       "    }\n",
       "\n",
       "    .dataframe tbody tr th {\n",
       "        vertical-align: top;\n",
       "    }\n",
       "\n",
       "    .dataframe thead th {\n",
       "        text-align: right;\n",
       "    }\n",
       "</style>\n",
       "<table border=\"1\" class=\"dataframe\">\n",
       "  <thead>\n",
       "    <tr style=\"text-align: right;\">\n",
       "      <th></th>\n",
       "      <th>GRE Score</th>\n",
       "      <th>TOEFL Score</th>\n",
       "      <th>University Rating</th>\n",
       "      <th>SOP</th>\n",
       "      <th>LOR</th>\n",
       "      <th>CGPA</th>\n",
       "      <th>Research</th>\n",
       "      <th>Chance of Admit</th>\n",
       "    </tr>\n",
       "  </thead>\n",
       "  <tbody>\n",
       "    <tr>\n",
       "      <th>0</th>\n",
       "      <td>337</td>\n",
       "      <td>118</td>\n",
       "      <td>4</td>\n",
       "      <td>4.5</td>\n",
       "      <td>4.5</td>\n",
       "      <td>9.65</td>\n",
       "      <td>1</td>\n",
       "      <td>0.92</td>\n",
       "    </tr>\n",
       "    <tr>\n",
       "      <th>1</th>\n",
       "      <td>324</td>\n",
       "      <td>107</td>\n",
       "      <td>4</td>\n",
       "      <td>4.0</td>\n",
       "      <td>4.5</td>\n",
       "      <td>8.87</td>\n",
       "      <td>1</td>\n",
       "      <td>0.76</td>\n",
       "    </tr>\n",
       "    <tr>\n",
       "      <th>2</th>\n",
       "      <td>316</td>\n",
       "      <td>104</td>\n",
       "      <td>3</td>\n",
       "      <td>3.0</td>\n",
       "      <td>3.5</td>\n",
       "      <td>8.00</td>\n",
       "      <td>1</td>\n",
       "      <td>0.72</td>\n",
       "    </tr>\n",
       "    <tr>\n",
       "      <th>3</th>\n",
       "      <td>322</td>\n",
       "      <td>110</td>\n",
       "      <td>3</td>\n",
       "      <td>3.5</td>\n",
       "      <td>2.5</td>\n",
       "      <td>8.67</td>\n",
       "      <td>1</td>\n",
       "      <td>0.80</td>\n",
       "    </tr>\n",
       "    <tr>\n",
       "      <th>4</th>\n",
       "      <td>314</td>\n",
       "      <td>103</td>\n",
       "      <td>2</td>\n",
       "      <td>2.0</td>\n",
       "      <td>3.0</td>\n",
       "      <td>8.21</td>\n",
       "      <td>0</td>\n",
       "      <td>0.65</td>\n",
       "    </tr>\n",
       "  </tbody>\n",
       "</table>\n",
       "</div>"
      ],
      "text/plain": [
       "   GRE Score  TOEFL Score  University Rating  SOP  LOR  CGPA  Research  \\\n",
       "0        337          118                  4  4.5  4.5  9.65         1   \n",
       "1        324          107                  4  4.0  4.5  8.87         1   \n",
       "2        316          104                  3  3.0  3.5  8.00         1   \n",
       "3        322          110                  3  3.5  2.5  8.67         1   \n",
       "4        314          103                  2  2.0  3.0  8.21         0   \n",
       "\n",
       "   Chance of Admit  \n",
       "0             0.92  \n",
       "1             0.76  \n",
       "2             0.72  \n",
       "3             0.80  \n",
       "4             0.65  "
      ]
     },
     "execution_count": 2,
     "metadata": {},
     "output_type": "execute_result"
    }
   ],
   "source": [
    "df = pd.read_csv(\"admission_analyzed.csv\")\n",
    "df.head()"
   ]
  },
  {
   "cell_type": "code",
   "execution_count": 3,
   "id": "4bb18712-5175-4de9-9742-97d237a6c2ec",
   "metadata": {},
   "outputs": [
    {
     "data": {
      "text/plain": [
       "(500, 8)"
      ]
     },
     "execution_count": 3,
     "metadata": {},
     "output_type": "execute_result"
    }
   ],
   "source": [
    "df.shape"
   ]
  },
  {
   "cell_type": "code",
   "execution_count": 4,
   "id": "0803c7c0-be71-4937-b3e3-3544db4c40e8",
   "metadata": {},
   "outputs": [],
   "source": [
    "X = df.drop(\"Chance of Admit\", axis = 1)\n",
    "y = df[\"Chance of Admit\"]"
   ]
  },
  {
   "cell_type": "markdown",
   "id": "478b3c8b-a6f6-4866-9086-2efbc06dce3a",
   "metadata": {},
   "source": [
    "# ***Libraries***"
   ]
  },
  {
   "cell_type": "code",
   "execution_count": 28,
   "id": "ad1145c9-9b2b-4f4e-b140-5dfa698f8ab3",
   "metadata": {},
   "outputs": [],
   "source": [
    "from sklearn.model_selection import train_test_split, cross_val_score, GridSearchCV\n",
    "from sklearn.pipeline import Pipeline\n",
    "from sklearn.compose import ColumnTransformer\n",
    "from sklearn.preprocessing import StandardScaler\n",
    "from sklearn.decomposition import PCA\n",
    "from sklearn.metrics import mean_absolute_error"
   ]
  },
  {
   "cell_type": "code",
   "execution_count": 6,
   "id": "5095b114-3e69-4ed2-82d6-b46bac35e097",
   "metadata": {},
   "outputs": [],
   "source": [
    "from sklearn.linear_model import LinearRegression, Ridge, Lasso, ElasticNet\n",
    "from sklearn.svm import SVR\n",
    "from sklearn.neighbors import KNeighborsRegressor\n",
    "from sklearn.tree import DecisionTreeRegressor\n",
    "from sklearn.ensemble import RandomForestRegressor, AdaBoostRegressor, GradientBoostingRegressor\n",
    "from xgboost import XGBRegressor"
   ]
  },
  {
   "cell_type": "markdown",
   "id": "2f411474-a32a-4bc4-ba0f-dd39d4b3114a",
   "metadata": {},
   "source": [
    "***Train_Test_Split***"
   ]
  },
  {
   "cell_type": "code",
   "execution_count": 7,
   "id": "3cdb7eeb-d53a-4315-8cf6-7e6ee4dc7caf",
   "metadata": {},
   "outputs": [],
   "source": [
    "X_train, X_test, y_train, y_test = train_test_split(X, y, test_size = 0.2, random_state = 46)"
   ]
  },
  {
   "cell_type": "markdown",
   "id": "ba65e733-32b1-4bd2-a70a-ceb2af69318c",
   "metadata": {},
   "source": [
    "# ***LinearRegression***"
   ]
  },
  {
   "cell_type": "code",
   "execution_count": 9,
   "id": "3b0e92cb-560f-4e70-804e-667164cb0ebe",
   "metadata": {},
   "outputs": [
    {
     "name": "stdout",
     "output_type": "stream",
     "text": [
      "Training Accuracy : 0.8217259546584925\n",
      "Testing Accuracy : 0.8015172695523146\n",
      "CV Score : 0.8086484605529461\n",
      "MAE : 0.03674727259337707\n"
     ]
    }
   ],
   "source": [
    "step1 = ColumnTransformer(transformers = [\n",
    "    (\"scaler\", StandardScaler(), [0, 1, 2, 3, 4, 5])\n",
    "], remainder = \"passthrough\")\n",
    "\n",
    "model = LinearRegression()\n",
    "\n",
    "pipe = Pipeline([\n",
    "    (\"scaler\", step1),\n",
    "    (\"model\", model)\n",
    "])\n",
    "\n",
    "pipe.fit(X_train, y_train)\n",
    "pred_test = pipe.predict(X_test)\n",
    "print(\"Training Accuracy :\", pipe.score(X_train, y_train))\n",
    "print(\"Testing Accuracy :\", pipe.score(X_test, y_test))\n",
    "print(\"CV Score :\", cross_val_score(pipe, X_train, y_train, cv = 5).mean())\n",
    "print(\"MAE :\", mean_absolute_error(y_test, pred_test))"
   ]
  },
  {
   "cell_type": "markdown",
   "id": "0cb3519f-b629-4368-ad45-2b77bbad22ac",
   "metadata": {},
   "source": [
    "# ***Ridge***"
   ]
  },
  {
   "cell_type": "code",
   "execution_count": 70,
   "id": "fc78cfc5-b0b9-4ae4-a6b3-b2f0b9b8842c",
   "metadata": {},
   "outputs": [
    {
     "name": "stdout",
     "output_type": "stream",
     "text": [
      "Training Accuracy : 0.8212368411024896\n",
      "Testing Accuracy : 0.8072410397558862\n",
      "CV Score : 0.809408570522834\n",
      "MAE : 0.03615559769346537\n"
     ]
    }
   ],
   "source": [
    "step1 = ColumnTransformer(transformers = [\n",
    "    (\"scaler\", StandardScaler(), [0, 1, 2, 3, 4, 5])\n",
    "], remainder = \"passthrough\")\n",
    "\n",
    "model = Ridge(alpha = 10)\n",
    "\n",
    "pipe = Pipeline([\n",
    "    (\"scaler\", step1),\n",
    "    (\"model\", model)\n",
    "])\n",
    "\n",
    "pipe.fit(X_train, y_train)\n",
    "pred_test = pipe.predict(X_test)\n",
    "print(\"Training Accuracy :\", pipe.score(X_train, y_train))\n",
    "print(\"Testing Accuracy :\", pipe.score(X_test, y_test))\n",
    "print(\"CV Score :\", cross_val_score(pipe, X_train, y_train, cv = 5).mean())\n",
    "print(\"MAE :\", mean_absolute_error(y_test, pred_test))"
   ]
  },
  {
   "cell_type": "markdown",
   "id": "88bfde82-581a-4eac-8b8b-e0d8be68638e",
   "metadata": {},
   "source": [
    "# ***Lasso***"
   ]
  },
  {
   "cell_type": "code",
   "execution_count": 14,
   "id": "c9bb083a-c975-4a47-be94-786c3f752d49",
   "metadata": {},
   "outputs": [
    {
     "name": "stdout",
     "output_type": "stream",
     "text": [
      "Training Accuracy : 0.8215239909723397\n",
      "Testing Accuracy : 0.8074766702806122\n",
      "CV Score : 0.8089342459559724\n",
      "MAE : 0.03624943143801186\n"
     ]
    }
   ],
   "source": [
    "step1 = ColumnTransformer(transformers = [\n",
    "    (\"scaler\", StandardScaler(), [0, 1, 2, 3, 4, 5])\n",
    "], remainder = \"passthrough\")\n",
    "\n",
    "model = Lasso(alpha = 0.001)\n",
    "\n",
    "pipe = Pipeline([\n",
    "    (\"scaler\", step1),\n",
    "    (\"model\", model)\n",
    "])\n",
    "\n",
    "pipe.fit(X_train, y_train)\n",
    "pred_test = pipe.predict(X_test)\n",
    "print(\"Training Accuracy :\", pipe.score(X_train, y_train))\n",
    "print(\"Testing Accuracy :\", pipe.score(X_test, y_test))\n",
    "print(\"CV Score :\", cross_val_score(pipe, X_train, y_train, cv = 5).mean())\n",
    "print(\"MAE :\", mean_absolute_error(y_test, pred_test))"
   ]
  },
  {
   "cell_type": "markdown",
   "id": "797c33df-d5aa-4e35-acd2-aa6b590351bb",
   "metadata": {},
   "source": [
    "# ***ElasticNet***"
   ]
  },
  {
   "cell_type": "code",
   "execution_count": 15,
   "id": "7ad600ff-a7f8-425b-a121-f25b9ea6ec51",
   "metadata": {},
   "outputs": [
    {
     "name": "stdout",
     "output_type": "stream",
     "text": [
      "Training Accuracy : 0.821690840408435\n",
      "Testing Accuracy : 0.804149668181085\n",
      "CV Score : 0.8091097866976348\n",
      "MAE : 0.03651267745715218\n"
     ]
    }
   ],
   "source": [
    "step1 = ColumnTransformer(transformers = [\n",
    "    (\"scaler\", StandardScaler(), [0, 1, 2, 3, 4, 5])\n",
    "], remainder = \"passthrough\")\n",
    "\n",
    "model = ElasticNet(alpha = 0.001, l1_ratio = 0.4)\n",
    "\n",
    "pipe = Pipeline([\n",
    "    (\"scaler\", step1),\n",
    "    (\"model\", model)\n",
    "])\n",
    "\n",
    "pipe.fit(X_train, y_train)\n",
    "pred_test = pipe.predict(X_test)\n",
    "print(\"Training Accuracy :\", pipe.score(X_train, y_train))\n",
    "print(\"Testing Accuracy :\", pipe.score(X_test, y_test))\n",
    "print(\"CV Score :\", cross_val_score(pipe, X_train, y_train, cv = 5).mean())\n",
    "print(\"MAE :\", mean_absolute_error(y_test, pred_test))"
   ]
  },
  {
   "cell_type": "markdown",
   "id": "21661b60-0954-4bcb-8d47-1916b8457fcf",
   "metadata": {},
   "source": [
    "# ***SVR***"
   ]
  },
  {
   "cell_type": "code",
   "execution_count": 65,
   "id": "16ea1db4-f568-467c-ae2a-b1de28b12028",
   "metadata": {},
   "outputs": [
    {
     "name": "stdout",
     "output_type": "stream",
     "text": [
      "Training Accuracy : 0.7875971122530621\n",
      "Testing Accuracy : 0.7291717866899476\n",
      "CV Score : 0.7733868686426187\n",
      "MAE : 0.048557490938415125\n"
     ]
    }
   ],
   "source": [
    "step1 = ColumnTransformer(transformers = [\n",
    "    (\"scaler\", StandardScaler(), [0, 1, 2, 3, 4, 5])\n",
    "], remainder = \"passthrough\")\n",
    "\n",
    "model = SVR(C = 0.1, kernel = \"linear\")\n",
    "\n",
    "pipe = Pipeline([\n",
    "    (\"scaler\", step1),\n",
    "    (\"model\", model)\n",
    "])\n",
    "\n",
    "pipe.fit(X_train, y_train)\n",
    "pred_test = pipe.predict(X_test)\n",
    "print(\"Training Accuracy :\", pipe.score(X_train, y_train))\n",
    "print(\"Testing Accuracy :\", pipe.score(X_test, y_test))\n",
    "print(\"CV Score :\", cross_val_score(pipe, X_train, y_train, cv = 5).mean())\n",
    "print(\"MAE :\", mean_absolute_error(y_test, pred_test))"
   ]
  },
  {
   "cell_type": "markdown",
   "id": "d10b5056-f633-4b03-a6b0-fc6f88f8b2fc",
   "metadata": {},
   "source": [
    "# ***KNeighborsRegressor***"
   ]
  },
  {
   "cell_type": "code",
   "execution_count": 64,
   "id": "6db36bda-622b-4740-b6a9-e9715e045088",
   "metadata": {},
   "outputs": [
    {
     "name": "stdout",
     "output_type": "stream",
     "text": [
      "Training Accuracy : 0.8740294656634049\n",
      "Testing Accuracy : 0.6772822905955864\n",
      "CV Score : 0.7889101466418752\n",
      "MAE : 0.04637999999999999\n"
     ]
    }
   ],
   "source": [
    "step1 = ColumnTransformer(transformers = [\n",
    "    (\"scaler\", StandardScaler(), [0, 1, 2, 3, 4, 5])\n",
    "], remainder = \"passthrough\")\n",
    "\n",
    "model = KNeighborsRegressor(n_neighbors = 5)\n",
    "\n",
    "pipe = Pipeline([\n",
    "    (\"scaler\", step1),\n",
    "    (\"model\", model)\n",
    "])\n",
    "\n",
    "pipe.fit(X_train, y_train)\n",
    "pred_test = pipe.predict(X_test)\n",
    "print(\"Training Accuracy :\", pipe.score(X_train, y_train))\n",
    "print(\"Testing Accuracy :\", pipe.score(X_test, y_test))\n",
    "print(\"CV Score :\", cross_val_score(pipe, X_train, y_train, cv = 5).mean())\n",
    "print(\"MAE :\", mean_absolute_error(y_test, pred_test))"
   ]
  },
  {
   "cell_type": "markdown",
   "id": "eb483ea4-3cd1-4faf-b573-4669c65b5514",
   "metadata": {},
   "source": [
    "# ***DecisionTreeRegressor***"
   ]
  },
  {
   "cell_type": "code",
   "execution_count": 63,
   "id": "f1a31273-65e4-49ab-bed4-d2c8bde7563d",
   "metadata": {},
   "outputs": [
    {
     "name": "stdout",
     "output_type": "stream",
     "text": [
      "Training Accuracy : 0.8342451730876681\n",
      "Testing Accuracy : 0.7068224286999568\n",
      "CV Score : 0.7314207377665272\n",
      "MAE : 0.04591372114646496\n"
     ]
    }
   ],
   "source": [
    "step1 = ColumnTransformer(transformers = [\n",
    "    (\"scaler\", StandardScaler(), [0, 1, 2, 3, 4, 5])\n",
    "], remainder = \"passthrough\")\n",
    "\n",
    "model = DecisionTreeRegressor(max_depth = 4, random_state = 1)\n",
    "\n",
    "pipe = Pipeline([\n",
    "    (\"scaler\", step1),\n",
    "    (\"model\", model)\n",
    "])\n",
    "\n",
    "pipe.fit(X_train, y_train)\n",
    "pred_test = pipe.predict(X_test)\n",
    "print(\"Training Accuracy :\", pipe.score(X_train, y_train))\n",
    "print(\"Testing Accuracy :\", pipe.score(X_test, y_test))\n",
    "print(\"CV Score :\", cross_val_score(pipe, X_train, y_train, cv = 5).mean())\n",
    "print(\"MAE :\", mean_absolute_error(y_test, pred_test))"
   ]
  },
  {
   "cell_type": "markdown",
   "id": "f81d9633-2d75-4bfa-b4fe-d466ff5174a5",
   "metadata": {},
   "source": [
    "# ***RandomForestRegressor***"
   ]
  },
  {
   "cell_type": "code",
   "execution_count": 62,
   "id": "ec7f7b52-60cc-4c84-831d-1c2066a1581a",
   "metadata": {},
   "outputs": [
    {
     "name": "stdout",
     "output_type": "stream",
     "text": [
      "Training Accuracy : 0.9629053489988468\n",
      "Testing Accuracy : 0.745791356755263\n",
      "CV Score : 0.753023499373942\n",
      "MAE : 0.03968333333333334\n"
     ]
    }
   ],
   "source": [
    "step1 = ColumnTransformer(transformers = [\n",
    "    (\"scaler\", StandardScaler(), [0, 1, 2, 3, 4, 5])\n",
    "], remainder = \"passthrough\")\n",
    "\n",
    "model = RandomForestRegressor(n_estimators = 18, random_state = 0)\n",
    "\n",
    "pipe = Pipeline([\n",
    "    (\"scaler\", step1),\n",
    "    (\"model\", model)\n",
    "])\n",
    "\n",
    "pipe.fit(X_train, y_train)\n",
    "pred_test = pipe.predict(X_test)\n",
    "print(\"Training Accuracy :\", pipe.score(X_train, y_train))\n",
    "print(\"Testing Accuracy :\", pipe.score(X_test, y_test))\n",
    "print(\"CV Score :\", cross_val_score(pipe, X_train, y_train, cv = 5).mean())\n",
    "print(\"MAE :\", mean_absolute_error(y_test, pred_test))"
   ]
  },
  {
   "cell_type": "markdown",
   "id": "dac3ea84-1242-4bab-b523-dc203a2461d3",
   "metadata": {},
   "source": [
    "# ***AdaBoostRegressor***"
   ]
  },
  {
   "cell_type": "code",
   "execution_count": 61,
   "id": "3094b159-b20a-46a7-b9b7-2eefac6796f9",
   "metadata": {},
   "outputs": [
    {
     "name": "stdout",
     "output_type": "stream",
     "text": [
      "Training Accuracy : 0.7944841390008756\n",
      "Testing Accuracy : 0.7453844029327511\n",
      "CV Score : 0.7537153837373033\n",
      "MAE : 0.04309183829889921\n"
     ]
    }
   ],
   "source": [
    "step1 = ColumnTransformer(transformers = [\n",
    "    (\"scaler\", StandardScaler(), [0, 1, 2, 3, 4, 5])\n",
    "], remainder = \"passthrough\")\n",
    "\n",
    "model = AdaBoostRegressor(n_estimators = 5, random_state = 0)\n",
    "\n",
    "pipe = Pipeline([\n",
    "    (\"scaler\", step1),\n",
    "    (\"model\", model)\n",
    "])\n",
    "\n",
    "pipe.fit(X_train, y_train)\n",
    "pred_test = pipe.predict(X_test)\n",
    "print(\"Training Accuracy :\", pipe.score(X_train, y_train))\n",
    "print(\"Testing Accuracy :\", pipe.score(X_test, y_test))\n",
    "print(\"CV Score :\", cross_val_score(pipe, X_train, y_train, cv = 5).mean())\n",
    "print(\"MAE :\", mean_absolute_error(y_test, pred_test))"
   ]
  },
  {
   "cell_type": "markdown",
   "id": "fa883756-b06b-483e-a2ae-476fe51d815e",
   "metadata": {},
   "source": [
    "# ***GradientBoostingRegressor***"
   ]
  },
  {
   "cell_type": "code",
   "execution_count": 60,
   "id": "a5ffc753-579d-4cfd-8644-daadcdc599a4",
   "metadata": {},
   "outputs": [
    {
     "name": "stdout",
     "output_type": "stream",
     "text": [
      "Training Accuracy : 0.8795397149984258\n",
      "Testing Accuracy : 0.7886710934623241\n",
      "CV Score : 0.7749638233688293\n",
      "MAE : 0.03692709544332131\n"
     ]
    }
   ],
   "source": [
    "step1 = ColumnTransformer(transformers = [\n",
    "    (\"scaler\", StandardScaler(), [0, 1, 2, 3, 4, 5])\n",
    "], remainder = \"passthrough\")\n",
    "\n",
    "model = GradientBoostingRegressor(n_estimators = 18, random_state = 0, learning_rate = 0.2)\n",
    "\n",
    "pipe = Pipeline([\n",
    "    (\"scaler\", step1),\n",
    "    (\"model\", model)\n",
    "])\n",
    "\n",
    "pipe.fit(X_train, y_train)\n",
    "pred_test = pipe.predict(X_test)\n",
    "print(\"Training Accuracy :\", pipe.score(X_train, y_train))\n",
    "print(\"Testing Accuracy :\", pipe.score(X_test, y_test))\n",
    "print(\"CV Score :\", cross_val_score(pipe, X_train, y_train, cv = 5).mean())\n",
    "print(\"MAE :\", mean_absolute_error(y_test, pred_test))"
   ]
  },
  {
   "cell_type": "markdown",
   "id": "d19a56c2-f8a3-46c9-a4ce-e3c3f18f2dea",
   "metadata": {},
   "source": [
    "# ***XGBRegressor***"
   ]
  },
  {
   "cell_type": "code",
   "execution_count": 59,
   "id": "c670bcd8-aad6-4c5a-9e8d-de1ad3f49cc8",
   "metadata": {},
   "outputs": [
    {
     "name": "stdout",
     "output_type": "stream",
     "text": [
      "Training Accuracy : 0.8157110499991213\n",
      "Testing Accuracy : 0.7954104096829382\n",
      "CV Score : 0.753348012208291\n",
      "MAE : 0.03936390671730041\n"
     ]
    }
   ],
   "source": [
    "step1 = ColumnTransformer(transformers = [\n",
    "    (\"scaler\", StandardScaler(), [0, 1, 2, 3, 4, 5])\n",
    "], remainder = \"passthrough\")\n",
    "\n",
    "model = XGBRegressor(n_estimators = 25, random_state = 0, learning_rate = 0.3, gamma = 0.1)\n",
    "\n",
    "pipe = Pipeline([\n",
    "    (\"scaler\", step1),\n",
    "    (\"model\", model)\n",
    "])\n",
    "\n",
    "pipe.fit(X_train, y_train)\n",
    "pred_test = pipe.predict(X_test)\n",
    "print(\"Training Accuracy :\", pipe.score(X_train, y_train))\n",
    "print(\"Testing Accuracy :\", pipe.score(X_test, y_test))\n",
    "print(\"CV Score :\", cross_val_score(pipe, X_train, y_train, cv = 5).mean())\n",
    "print(\"MAE :\", mean_absolute_error(y_test, pred_test))"
   ]
  },
  {
   "cell_type": "markdown",
   "id": "d8c29b1b-ec5a-4a70-8235-ecbad656b115",
   "metadata": {},
   "source": [
    "# ***FINAL MODEL - RIDGE***"
   ]
  },
  {
   "cell_type": "code",
   "execution_count": 71,
   "id": "784c2389-5826-4cb7-91c2-606e87d967c7",
   "metadata": {},
   "outputs": [
    {
     "name": "stdout",
     "output_type": "stream",
     "text": [
      "Training Accuracy : 0.8212368411024896\n",
      "Testing Accuracy : 0.8072410397558862\n",
      "CV Score : 0.809408570522834\n",
      "MAE : 0.03615559769346537\n"
     ]
    }
   ],
   "source": [
    "step1 = ColumnTransformer(transformers = [\n",
    "    (\"scaler\", StandardScaler(), [0, 1, 2, 3, 4, 5])\n",
    "], remainder = \"passthrough\")\n",
    "\n",
    "model = Ridge(alpha = 10)\n",
    "\n",
    "pipe = Pipeline([\n",
    "    (\"scaler\", step1),\n",
    "    (\"model\", model)\n",
    "])\n",
    "\n",
    "pipe.fit(X_train, y_train)\n",
    "pred_test = pipe.predict(X_test)\n",
    "print(\"Training Accuracy :\", pipe.score(X_train, y_train))\n",
    "print(\"Testing Accuracy :\", pipe.score(X_test, y_test))\n",
    "print(\"CV Score :\", cross_val_score(pipe, X_train, y_train, cv = 5).mean())\n",
    "print(\"MAE :\", mean_absolute_error(y_test, pred_test))"
   ]
  },
  {
   "cell_type": "code",
   "execution_count": 72,
   "id": "990ee3de-fbea-48a6-9226-469ed37c0d59",
   "metadata": {},
   "outputs": [
    {
     "data": {
      "text/html": [
       "<div>\n",
       "<style scoped>\n",
       "    .dataframe tbody tr th:only-of-type {\n",
       "        vertical-align: middle;\n",
       "    }\n",
       "\n",
       "    .dataframe tbody tr th {\n",
       "        vertical-align: top;\n",
       "    }\n",
       "\n",
       "    .dataframe thead th {\n",
       "        text-align: right;\n",
       "    }\n",
       "</style>\n",
       "<table border=\"1\" class=\"dataframe\">\n",
       "  <thead>\n",
       "    <tr style=\"text-align: right;\">\n",
       "      <th></th>\n",
       "      <th>GRE Score</th>\n",
       "      <th>TOEFL Score</th>\n",
       "      <th>University Rating</th>\n",
       "      <th>SOP</th>\n",
       "      <th>LOR</th>\n",
       "      <th>CGPA</th>\n",
       "      <th>Research</th>\n",
       "    </tr>\n",
       "  </thead>\n",
       "  <tbody>\n",
       "    <tr>\n",
       "      <th>0</th>\n",
       "      <td>337</td>\n",
       "      <td>118</td>\n",
       "      <td>4</td>\n",
       "      <td>4.5</td>\n",
       "      <td>4.5</td>\n",
       "      <td>9.65</td>\n",
       "      <td>1</td>\n",
       "    </tr>\n",
       "  </tbody>\n",
       "</table>\n",
       "</div>"
      ],
      "text/plain": [
       "   GRE Score  TOEFL Score  University Rating  SOP  LOR  CGPA  Research\n",
       "0        337          118                  4  4.5  4.5  9.65         1"
      ]
     },
     "execution_count": 72,
     "metadata": {},
     "output_type": "execute_result"
    }
   ],
   "source": [
    "X.head(1)"
   ]
  },
  {
   "cell_type": "code",
   "execution_count": 84,
   "id": "99c6f93a-b38f-4799-8d12-316c15ea2a12",
   "metadata": {},
   "outputs": [],
   "source": [
    "import pickle\n",
    "with open(\"admission_ridge_model.pkl\", \"wb\") as file:\n",
    "    pickle.dump(pipe, file)"
   ]
  },
  {
   "cell_type": "code",
   "execution_count": 85,
   "id": "a2e06ea0-91b4-4c13-88a5-1e89c40dce14",
   "metadata": {},
   "outputs": [],
   "source": [
    "with open(\"admission_ridge_model.pkl\", \"rb\") as file:\n",
    "    loaded = pickle.load(file)"
   ]
  },
  {
   "cell_type": "code",
   "execution_count": 88,
   "id": "6716635b-d095-45e4-9c0c-4b9bd95afa61",
   "metadata": {},
   "outputs": [
    {
     "name": "stdout",
     "output_type": "stream",
     "text": [
      "You have 81.26 % of chances to get admission.\n"
     ]
    }
   ],
   "source": [
    "final = pd.DataFrame({\n",
    "    \"GRE Score\": 337,\n",
    "    \"TOEFL Score\": 118,\n",
    "    \"University Rating\": 4,\n",
    "    \"SOP\": 4.5,\n",
    "    \"LOR\": 4.5,\n",
    "    \"CGPA\": 8.65,\n",
    "    \"Research\": 0,\n",
    "}, index = [0])\n",
    "\n",
    "chance = round((loaded.predict(final)[0])*100, 2)\n",
    "print(f\"You have {chance} % of chances to get admission.\")"
   ]
  }
 ],
 "metadata": {
  "kernelspec": {
   "display_name": "Python 3 (ipykernel)",
   "language": "python",
   "name": "python3"
  },
  "language_info": {
   "codemirror_mode": {
    "name": "ipython",
    "version": 3
   },
   "file_extension": ".py",
   "mimetype": "text/x-python",
   "name": "python",
   "nbconvert_exporter": "python",
   "pygments_lexer": "ipython3",
   "version": "3.11.5"
  }
 },
 "nbformat": 4,
 "nbformat_minor": 5
}
